{
 "cells": [
  {
   "cell_type": "markdown",
   "metadata": {},
   "source": [
    "# Deep Learning Course - LAB 1\n",
    "\n",
    "## Intro to PyTorch\n",
    "\n",
    "PyTorch (PT) is a Python (and C++) library for Machine Learning (ML) particularly suited for Neural Networks and their applications.\n",
    "\n",
    "Its great selection of built-in modules, models, functions, CUDA capability, tensor arithmetic support and automatic differentiation functionality make it one of the most used scientific libraries for Deep Learning.\n",
    "\n",
    "Note: for this series of labs, we advise to install Python >= 3.7"
   ]
  },
  {
   "cell_type": "markdown",
   "metadata": {},
   "source": [
    "### Installing PyTorch\n",
    "\n",
    "We advise to install PyTorch following the directions given in its [home page](https://pytorch.org/get-started/locally/). Just typing `pip install torch` may not be the correct action as you have to take into account the compatibility with `cuda`. If you have `cuda` installed, you can find your version by typing `nvcc --version` in a terminal (Linux/iOS). \n",
    "\n",
    "If you're using Windows, we first suggest first to install Anaconda and then install PyTorch from the `anaconda prompt` software via `conda` (preferably) or `pip`.\n",
    "\n",
    "If you're using Google Colab, all the libraries needed to follow this lecture should be pre-installed there.\n",
    "\n",
    "We see now how to operate on Colab."
   ]
  },
  {
   "cell_type": "markdown",
   "metadata": {},
   "source": [
    "### For Colab users\n",
    "\n",
    "Google Colab is a handy tool that we suggest you use for this course---especially if your laptop does not support CUDA or has limited hardware capabilities. Anyway, note that **we'll try to avoid GPU code as much as possible**.\n",
    "\n",
    "Essentially, Colab renders available to you a virtual machine with a limited hardware capability and disk where you can execute your code inside a given time window. You can even ask for a GPU (if you use it too much you'll need to start waiting a lot before it's available though)."
   ]
  },
  {
   "cell_type": "markdown",
   "metadata": {},
   "source": [
    "#### Your (maybe) first Colab commands\n",
    "\n",
    "Colab Jupyter-style notebook interface with a few tweaks.\n",
    "\n",
    "For instance, you may run (some) bash command from here prepending `!` to your code."
   ]
  },
  {
   "cell_type": "code",
   "execution_count": 1,
   "metadata": {},
   "outputs": [
    {
     "name": "stdout",
     "output_type": "stream",
     "text": [
      "01-intro-to-pt.ipynb  02-sgd-training.ipynb  data  img\tscripts\r\n"
     ]
    }
   ],
   "source": [
    "!ls"
   ]
  },
  {
   "cell_type": "code",
   "execution_count": 2,
   "metadata": {},
   "outputs": [
    {
     "name": "stdout",
     "output_type": "stream",
     "text": [
      "/home/angela/Documenti/Deep Learning/DSSC_DL_2021/labs\r\n"
     ]
    }
   ],
   "source": [
    "!pwd"
   ]
  },
  {
   "cell_type": "code",
   "execution_count": 3,
   "metadata": {},
   "outputs": [
    {
     "name": "stdout",
     "output_type": "stream",
     "text": [
      "Cloning into 'IntroToAI'...\n",
      "remote: Enumerating objects: 39, done.\u001b[K\n",
      "remote: Counting objects: 100% (39/39), done.\u001b[K\n",
      "remote: Compressing objects: 100% (32/32), done.\u001b[K\n",
      "remote: Total 105 (delta 13), reused 26 (delta 5), pack-reused 66\u001b[K\n",
      "Ricezione degli oggetti: 100% (105/105), 51.55 MiB | 2.74 MiB/s, done.\n",
      "Risoluzione dei delta: 100% (32/32), done.\n"
     ]
    }
   ],
   "source": [
    "!git clone https://github.com/mnzluca/IntroToAI"
   ]
  },
  {
   "cell_type": "markdown",
   "metadata": {},
   "source": [
    "This makes it very easy to operate your virtual machine without the need for a terminal. "
   ]
  },
  {
   "cell_type": "markdown",
   "metadata": {},
   "source": [
    "#### File transfer on Colab\n",
    "\n",
    "One of the most intricate action in Colab is file transfer. Since your files reside on the virtual machine, there're two main ways to operate file transfer on Colab.\n",
    "\n",
    "* `files.download()` / `.upload()`"
   ]
  },
  {
   "cell_type": "code",
   "execution_count": 4,
   "metadata": {},
   "outputs": [
    {
     "ename": "ModuleNotFoundError",
     "evalue": "No module named 'google'",
     "output_type": "error",
     "traceback": [
      "\u001b[0;31m---------------------------------------------------------------------------\u001b[0m",
      "\u001b[0;31mModuleNotFoundError\u001b[0m                       Traceback (most recent call last)",
      "\u001b[0;32m<ipython-input-4-5c2e8a8d365b>\u001b[0m in \u001b[0;36m<module>\u001b[0;34m\u001b[0m\n\u001b[0;32m----> 1\u001b[0;31m \u001b[0;32mfrom\u001b[0m \u001b[0mgoogle\u001b[0m\u001b[0;34m.\u001b[0m\u001b[0mcolab\u001b[0m \u001b[0;32mimport\u001b[0m \u001b[0mfiles\u001b[0m\u001b[0;34m\u001b[0m\u001b[0;34m\u001b[0m\u001b[0m\n\u001b[0m\u001b[1;32m      2\u001b[0m \u001b[0mfiles\u001b[0m\u001b[0;34m.\u001b[0m\u001b[0mupload\u001b[0m\u001b[0;34m(\u001b[0m\u001b[0;34m)\u001b[0m\u001b[0;34m\u001b[0m\u001b[0;34m\u001b[0m\u001b[0m\n",
      "\u001b[0;31mModuleNotFoundError\u001b[0m: No module named 'google'"
     ]
    }
   ],
   "source": [
    "from google.colab import files\n",
    "files.upload()"
   ]
  },
  {
   "cell_type": "code",
   "execution_count": null,
   "metadata": {},
   "outputs": [],
   "source": [
    "files.download(\"sample_data/README.md\")"
   ]
  },
  {
   "cell_type": "markdown",
   "metadata": {},
   "source": [
    "Although it may be much more handy to connect your Google Drive to Colab. Here is a snippet that lets you do this."
   ]
  },
  {
   "cell_type": "code",
   "execution_count": null,
   "metadata": {},
   "outputs": [],
   "source": [
    "from google.colab import drive\n",
    "\n",
    "folder_mount = '/content/drive' # Your Drive will be mounted on top of this path\n",
    "\n",
    "drive.mount(folder_mount)"
   ]
  },
  {
   "cell_type": "markdown",
   "metadata": {},
   "source": [
    "### Dive into PyTorch - connections with NumPy\n",
    "\n",
    "Like NumPy, PyTorch provides its own multidimensional array class, called `Tensor`. `Tensor`s are essentially the equivalent of NumPy `ndarray`s.\n",
    "If we wish to operate a very superficial comparison between `Tensor` and `ndarray`, we can say that:\n",
    "* `Tensor` draws a lot of methods from NumPy, although it's missing some (see [this GitHub issue](if you're interested))\n",
    "* `Tensor` is more OO than `ndarray` and solves some inconsistencies within NumPy\n",
    "* `Tensor` has CUDA support"
   ]
  },
  {
   "cell_type": "code",
   "execution_count": 1,
   "metadata": {},
   "outputs": [
    {
     "name": "stdout",
     "output_type": "stream",
     "text": [
      "x\n",
      "tensor([[1., 5., 4.],\n",
      "        [3., 2., 1.]])\n",
      "\n",
      "\n",
      "y\n",
      "[[1 5 4]\n",
      " [3 2 1]]\n",
      "\n",
      "\n"
     ]
    }
   ],
   "source": [
    "import torch\n",
    "import numpy as np\n",
    "\n",
    "# create custom Tensor and ndarray\n",
    "x = torch.Tensor([[1,5,4],[3,2,1]])\n",
    "y = np.array([[1,5,4],[3,2,1]])\n",
    "\n",
    "def pretty_print(obj, title=None):\n",
    "    if title is not None:\n",
    "        print(title)\n",
    "    print(obj)\n",
    "    print(\"\\n\")\n",
    "\n",
    "pretty_print(x, \"x\")\n",
    "pretty_print(y, \"y\")"
   ]
  },
  {
   "cell_type": "markdown",
   "metadata": {},
   "source": [
    "What are the types of these objs?"
   ]
  },
  {
   "cell_type": "code",
   "execution_count": 2,
   "metadata": {},
   "outputs": [
    {
     "data": {
      "text/plain": [
       "(torch.float32, dtype('int64'))"
      ]
     },
     "execution_count": 2,
     "metadata": {},
     "output_type": "execute_result"
    }
   ],
   "source": [
    "x.dtype, y.dtype"
   ]
  },
  {
   "cell_type": "markdown",
   "metadata": {},
   "source": [
    "`torch` already thinks with Machine Learning in mind as the `Tensor` is implicitly converted to `dtype float32`, while NumPy makes no such assumption.\n",
    "\n",
    "For more info on `Tensor` data types, please check the beginning of [this page](https://pytorch.org/docs/stable/tensors.html).\n",
    "\n",
    "As in NumPy, we can call the `.shape` attribute to get the shape of the structures. Moreover, `Tensor`s have also the `.size()` method which is analogous to `.shape`."
   ]
  },
  {
   "cell_type": "code",
   "execution_count": 3,
   "metadata": {},
   "outputs": [
    {
     "data": {
      "text/plain": [
       "(torch.Size([2, 3]), (2, 3), torch.Size([2, 3]))"
      ]
     },
     "execution_count": 3,
     "metadata": {},
     "output_type": "execute_result"
    }
   ],
   "source": [
    "x.shape, y.shape, x.size()"
   ]
  },
  {
   "cell_type": "markdown",
   "metadata": {},
   "source": [
    "Notice how a `Tensor` shape is **not** a tuple.\n",
    "\n",
    "We can also create a random `Tensor` analogously to NumPy.\n",
    "\n",
    "A `2 × 3 × 3` `Tensor` is the same as saying \"2 3 × 3 matrices\", or a \"cubic matrix\"\n",
    "\n",
    "![](img/tensors.jpg)"
   ]
  },
  {
   "cell_type": "code",
   "execution_count": 4,
   "metadata": {},
   "outputs": [
    {
     "data": {
      "text/plain": [
       "tensor([[[0.9280, 0.1340, 0.9581],\n",
       "         [0.5027, 0.0477, 0.2049],\n",
       "         [0.5473, 0.4035, 0.7573]],\n",
       "\n",
       "        [[0.3744, 0.4266, 0.2842],\n",
       "         [0.1188, 0.2153, 0.7267],\n",
       "         [0.9205, 0.8184, 0.7448]]])"
      ]
     },
     "execution_count": 4,
     "metadata": {},
     "output_type": "execute_result"
    }
   ],
   "source": [
    "x = torch.rand([2, 3, 3]) # you always have to specify wih a tuple the shape of the tensor!\n",
    "x"
   ]
  },
  {
   "cell_type": "code",
   "execution_count": 5,
   "metadata": {},
   "outputs": [
    {
     "data": {
      "text/plain": [
       "array([[[0.34989447, 0.36597144, 0.50542438],\n",
       "        [0.56567929, 0.01843964, 0.18805826],\n",
       "        [0.02664252, 0.45189365, 0.09091822]],\n",
       "\n",
       "       [[0.07951707, 0.78401585, 0.06974925],\n",
       "        [0.03458609, 0.69625923, 0.37263207],\n",
       "        [0.97624707, 0.95133144, 0.28856876]]])"
      ]
     },
     "execution_count": 5,
     "metadata": {},
     "output_type": "execute_result"
    }
   ],
   "source": [
    "y = np.random.rand(2, 3, 3)\n",
    "y"
   ]
  },
  {
   "cell_type": "markdown",
   "metadata": {},
   "source": [
    "We can get the total number of elements in a `Tensor` via the `numel()` method"
   ]
  },
  {
   "cell_type": "code",
   "execution_count": 6,
   "metadata": {},
   "outputs": [
    {
     "data": {
      "text/plain": [
       "18"
      ]
     },
     "execution_count": 6,
     "metadata": {},
     "output_type": "execute_result"
    }
   ],
   "source": [
    "x.numel()"
   ]
  },
  {
   "cell_type": "markdown",
   "metadata": {},
   "source": [
    "We can get the memory occupied by each element of a `Tensor` via `element_size()`"
   ]
  },
  {
   "cell_type": "code",
   "execution_count": 7,
   "metadata": {},
   "outputs": [
    {
     "data": {
      "text/plain": [
       "4"
      ]
     },
     "execution_count": 7,
     "metadata": {},
     "output_type": "execute_result"
    }
   ],
   "source": [
    "x.element_size()"
   ]
  },
  {
   "cell_type": "markdown",
   "metadata": {},
   "source": [
    "Hence, we can quickly calculate the size of the `Tensor` within the RAM"
   ]
  },
  {
   "cell_type": "code",
   "execution_count": 8,
   "metadata": {},
   "outputs": [
    {
     "data": {
      "text/plain": [
       "72"
      ]
     },
     "execution_count": 8,
     "metadata": {},
     "output_type": "execute_result"
    }
   ],
   "source": [
    "x.numel() * x.element_size()"
   ]
  },
  {
   "cell_type": "markdown",
   "metadata": {},
   "source": [
    "#### Slicing a `Tensor`\n",
    "\n",
    "You can slice a `Tensor` (*i.e.*, extract a substructure of a `Tensor`) as in NumPy using the square brackets:"
   ]
  },
  {
   "cell_type": "code",
   "execution_count": 9,
   "metadata": {},
   "outputs": [
    {
     "name": "stdout",
     "output_type": "stream",
     "text": [
      "Slice first element (x[0])\n",
      "tensor([[0.9280, 0.1340, 0.9581],\n",
      "        [0.5027, 0.0477, 0.2049],\n",
      "        [0.5473, 0.4035, 0.7573]])\n",
      "\n",
      "\n",
      "Slice element at (1, 2, 0) (x[1, 2, 0])\n",
      "tensor(0.9205)\n",
      "\n",
      "\n",
      "Slice first element of second dim (x[:, 0])\n",
      "tensor([[0.9280, 0.1340, 0.9581],\n",
      "        [0.3744, 0.4266, 0.2842]])\n",
      "\n",
      "\n",
      "As above (x[:, 0] equivalent to x[:, 0, :])\n",
      "tensor([[0.9280, 0.1340, 0.9581],\n",
      "        [0.3744, 0.4266, 0.2842]])\n",
      "\n",
      "\n",
      "Slice first and second el of third dim (x[:, :, 0:2])\n",
      "tensor([[[0.9280, 0.1340],\n",
      "         [0.5027, 0.0477],\n",
      "         [0.5473, 0.4035]],\n",
      "\n",
      "        [[0.3744, 0.4266],\n",
      "         [0.1188, 0.2153],\n",
      "         [0.9205, 0.8184]]])\n",
      "\n",
      "\n",
      "As above (x[:, :, 0:2] equivalent to x[:, :, (0, 1)])\n",
      "tensor([[[0.9280, 0.1340],\n",
      "         [0.5027, 0.0477],\n",
      "         [0.5473, 0.4035]],\n",
      "\n",
      "        [[0.3744, 0.4266],\n",
      "         [0.1188, 0.2153],\n",
      "         [0.9205, 0.8184]]])\n",
      "\n",
      "\n"
     ]
    }
   ],
   "source": [
    "# extract first element (i.e., matrix) of first dimension\n",
    "pretty_print(x[0], \"Slice first element (x[0])\")\n",
    "\n",
    "# extract a specific element\n",
    "pretty_print(x[1,2,0], \"Slice element at (1, 2, 0) (x[1, 2, 0])\")\n",
    "\n",
    "# extract first element of second dimension (\":\" means all the elements of the given dim)\n",
    "pretty_print(x[:, 0], \"Slice first element of second dim (x[:, 0])\")\n",
    "\n",
    "# note that it is equivalent to\n",
    "pretty_print(x[:, 0, :], \"As above (x[:, 0] equivalent to x[:, 0, :])\")\n",
    "\n",
    "# extract range of dimensions (first and second element of third dim) \n",
    "pretty_print(x[:, :, 0:2], \"Slice first and second el of third dim (x[:, :, 0:2])\")\n",
    "\n",
    "# note that it is equivalent to (i.e., you can also pass list for slicing, as opposed to Py vanilla lists/tuples)\n",
    "pretty_print(x[:, :, (0, 1)], \"As above (x[:, :, 0:2] equivalent to x[:, :, (0, 1)])\")"
   ]
  },
  {
   "cell_type": "markdown",
   "metadata": {},
   "source": [
    "In Py, you can also slice any list by interval via the \"double colon\" notation `::` (`from`:`to - 1`:`step`). Note that `::3` means \"take all elements of the object by step of 3 starting from 0 until the list ends\"."
   ]
  },
  {
   "cell_type": "code",
   "execution_count": 10,
   "metadata": {},
   "outputs": [
    {
     "name": "stderr",
     "output_type": "stream",
     "text": [
      "/home/angela/Documenti/Deep Learning/DSSC_DL_2021/venv/lib/python3.6/site-packages/ipykernel_launcher.py:1: UserWarning: torch.range is deprecated and will be removed in a future release because its behavior is inconsistent with Python's range builtin. Instead, use torch.arange, which produces values in [start, end).\n",
      "  \"\"\"Entry point for launching an IPython kernel.\n"
     ]
    },
    {
     "data": {
      "text/plain": [
       "tensor([0., 3., 6.])"
      ]
     },
     "execution_count": 10,
     "metadata": {},
     "output_type": "execute_result"
    }
   ],
   "source": [
    "torch.range(0, 10)[0:7:3]"
   ]
  },
  {
   "cell_type": "markdown",
   "metadata": {},
   "source": [
    "#### `Tensor` supports linear algebra"
   ]
  },
  {
   "cell_type": "code",
   "execution_count": 11,
   "metadata": {},
   "outputs": [
    {
     "name": "stdout",
     "output_type": "stream",
     "text": [
      "z1\n",
      "shape torch.Size([4, 5])\n",
      "tensor([[0.1633, 0.9493, 0.2605, 0.9819, 0.8829],\n",
      "        [0.9943, 0.2070, 0.0618, 0.7593, 0.7828],\n",
      "        [0.2211, 0.1903, 0.1790, 0.0591, 0.6795],\n",
      "        [0.8308, 0.2549, 0.1791, 0.5185, 0.3801]])\n",
      "\n",
      "z2\n",
      "shape torch.Size([5, 4])\n",
      "tensor([[0.1633, 0.9943, 0.2211, 0.8308],\n",
      "        [0.9493, 0.2070, 0.1903, 0.2549],\n",
      "        [0.2605, 0.0618, 0.1790, 0.1791],\n",
      "        [0.9819, 0.7593, 0.0591, 0.5185],\n",
      "        [0.8829, 0.7828, 0.6795, 0.3801]])\n"
     ]
    }
   ],
   "source": [
    "z1 = torch.rand([4, 5])\n",
    "print(\"z1\")\n",
    "print(\"shape\", z1.shape)\n",
    "print(z1)\n",
    "\n",
    "# transposition\n",
    "z2 = z1.T # specific for matrices\n",
    "# z2 = z1.transpose(INDICATE DIMENSIONS!)\n",
    "\n",
    "print(\"\\nz2\")\n",
    "print(\"shape\", z2.shape)\n",
    "print(z2)"
   ]
  },
  {
   "cell_type": "code",
   "execution_count": 12,
   "metadata": {},
   "outputs": [
    {
     "name": "stdout",
     "output_type": "stream",
     "text": [
      "Matrix multiplication: with '@'\n",
      "tensor([[2.7394, 1.8117, 0.9213, 1.2690],\n",
      "        [1.8117, 2.2246, 0.8470, 1.5811],\n",
      "        [0.9213, 0.8470, 0.5823, 0.5531],\n",
      "        [1.2690, 1.5811, 0.5531, 1.2006]])\n",
      "\n",
      "\n",
      "Matrix multiplication: with torch.matmul\n",
      "tensor([[2.7394, 1.8117, 0.9213, 1.2690],\n",
      "        [1.8117, 2.2246, 0.8470, 1.5811],\n",
      "        [0.9213, 0.8470, 0.5823, 0.5531],\n",
      "        [1.2690, 1.5811, 0.5531, 1.2006]])\n",
      "\n",
      "\n",
      "Matrix multiplication: with Tensor.matmul\n",
      "tensor([[2.7394, 1.8117, 0.9213, 1.2690],\n",
      "        [1.8117, 2.2246, 0.8470, 1.5811],\n",
      "        [0.9213, 0.8470, 0.5823, 0.5531],\n",
      "        [1.2690, 1.5811, 0.5531, 1.2006]])\n",
      "\n",
      "\n"
     ]
    }
   ],
   "source": [
    "# matrix multiplication\n",
    "pretty_print(z1 @ z2, \"Matrix multiplication: with '@'\")\n",
    "\n",
    "# equivalent to\n",
    "pretty_print(torch.matmul(z1, z2), \"Matrix multiplication: with torch.matmul\")\n",
    "\n",
    "# and also\n",
    "pretty_print(z1.matmul(z2), \"Matrix multiplication: with Tensor.matmul\")"
   ]
  },
  {
   "cell_type": "markdown",
   "metadata": {},
   "source": [
    "Note that `@` identifies the matrix product.\n",
    "\n",
    "Don't mistake `@` and `*` as the latter is the Hadamard (element-by-element) product!"
   ]
  },
  {
   "cell_type": "code",
   "execution_count": 13,
   "metadata": {},
   "outputs": [
    {
     "ename": "RuntimeError",
     "evalue": "The size of tensor a (5) must match the size of tensor b (4) at non-singleton dimension 1",
     "output_type": "error",
     "traceback": [
      "\u001b[0;31m---------------------------------------------------------------------------\u001b[0m",
      "\u001b[0;31mRuntimeError\u001b[0m                              Traceback (most recent call last)",
      "\u001b[0;32m<ipython-input-13-2e428a0c80e7>\u001b[0m in \u001b[0;36m<module>\u001b[0;34m\u001b[0m\n\u001b[0;32m----> 1\u001b[0;31m \u001b[0mz1\u001b[0m \u001b[0;34m*\u001b[0m \u001b[0mz2\u001b[0m \u001b[0;31m# this gives an Exception\u001b[0m\u001b[0;34m\u001b[0m\u001b[0;34m\u001b[0m\u001b[0m\n\u001b[0m",
      "\u001b[0;31mRuntimeError\u001b[0m: The size of tensor a (5) must match the size of tensor b (4) at non-singleton dimension 1"
     ]
    }
   ],
   "source": [
    "z1 * z2 # this gives an Exception"
   ]
  },
  {
   "cell_type": "code",
   "execution_count": null,
   "metadata": {},
   "outputs": [],
   "source": [
    "z1 * z1"
   ]
  },
  {
   "cell_type": "markdown",
   "metadata": {},
   "source": [
    "Generally, the \"regular\" arithmetic operators for Python act as element-wise operators in `Tensor`s (as in `ndarrays`)"
   ]
  },
  {
   "cell_type": "code",
   "execution_count": null,
   "metadata": {},
   "outputs": [],
   "source": [
    "z1 ** 2 # Equivalent to above: NOT matrix product!"
   ]
  },
  {
   "cell_type": "code",
   "execution_count": 14,
   "metadata": {},
   "outputs": [
    {
     "name": "stdout",
     "output_type": "stream",
     "text": [
      "z1 % z3 (remainder of integer division)\n",
      "tensor([[ 0.1633,  0.9493,  0.2605,  0.9819,  0.8829],\n",
      "        [ 0.1943,  0.2070,  0.0618,  0.7593,  0.7828],\n",
      "        [-0.7789,  0.1903, -3.8210,  0.0591,  0.6795],\n",
      "        [ 0.8308,  0.2549,  0.1791,  0.5185,  0.3801]])\n",
      "\n",
      "\n",
      "z3 // z1 (integer division)\n",
      "tensor([[  6.,   2.,  11.,   4.,   7.],\n",
      "        [  0.,   9.,  64.,   6.,   3.],\n",
      "        [ -4.,  15., -22.,  33.,   2.],\n",
      "        [  1.,   3.,   5.,   1.,   5.]])\n",
      "\n",
      "\n",
      "in-place tensor division (z3 /= z1)\n",
      "tensor([[  6.1221,   2.1069,  11.5167,   4.0735,   7.9282],\n",
      "        [  0.2011,   9.6635,  64.7660,   6.5849,   3.8323],\n",
      "        [ -4.5234,  15.7683, -22.3462,  33.8675,   2.9433],\n",
      "        [  1.2036,   3.9235,   5.5823,   1.9287,   5.2619]])\n",
      "\n",
      "\n"
     ]
    }
   ],
   "source": [
    "z3 = torch.Tensor([[1,2,3,4,7],[0.2,2,4,5,3],[-1,3,-4,2,2],[1,1,1,1,2]])\n",
    "pretty_print(z1 % z3, \"z1 % z3 (remainder of integer division)\")\n",
    "pretty_print(z3 // z1, \"z3 // z1 (integer division)\") # integer division\n",
    "z3 /= z1\n",
    "pretty_print(z3, \"in-place tensor division (z3 /= z1)\")"
   ]
  },
  {
   "cell_type": "markdown",
   "metadata": {},
   "source": [
    "As for `ndarrays`, `Tensor`s arithmetic operations support **broadcasting**. Roughly speaking, when two `Tensor`s have different shapes and a binary+ operator is applied to them, PT will try to find a way to make these objects \"compatible\" for the operation. \n",
    "\n",
    "Of course, broadcasting is not always possible, but as a rule of thumb, if some dimensions of a `Tensor` are one and the other dimensions are the same, broadcasting works."
   ]
  },
  {
   "cell_type": "code",
   "execution_count": 15,
   "metadata": {},
   "outputs": [
    {
     "name": "stdout",
     "output_type": "stream",
     "text": [
      "small_vector_5: tensor([1., 2., 3., 5., 2.]) ; Shape: torch.Size([5]) \n",
      "\n",
      "Broadcasting: dividing matrix by row vector\n",
      "tensor([[0.1633, 0.4746, 0.0868, 0.1964, 0.4415],\n",
      "        [0.9943, 0.1035, 0.0206, 0.1519, 0.3914],\n",
      "        [0.2211, 0.0951, 0.0597, 0.0118, 0.3398],\n",
      "        [0.8308, 0.1274, 0.0597, 0.1037, 0.1900]])\n",
      "\n",
      "\n",
      "small_vector_4:\n",
      " tensor([[4.],\n",
      "        [2.],\n",
      "        [3.],\n",
      "        [1.]]) \n",
      "Shape: torch.Size([4, 1]) \n",
      "\n",
      "Broadcasting: dividing matrix by column vector\n",
      "tensor([[0.0408, 0.2373, 0.0651, 0.2455, 0.2207],\n",
      "        [0.4971, 0.1035, 0.0309, 0.3797, 0.3914],\n",
      "        [0.0737, 0.0634, 0.0597, 0.0197, 0.2265],\n",
      "        [0.8308, 0.2549, 0.1791, 0.5185, 0.3801]])\n",
      "\n",
      "\n"
     ]
    }
   ],
   "source": [
    "small_vector_5 = torch.Tensor([1,2,3,5,2]) # this is treated as a row vector (1 x 5 matrix)\n",
    "print(\"small_vector_5:\", small_vector_5, \"; Shape:\", small_vector_5.shape, \"\\n\")\n",
    "\n",
    "pretty_print(z1 / small_vector_5, \"Broadcasting: dividing matrix by row vector\")\n",
    "\n",
    "small_vector_4 = torch.Tensor([4,2,3,1])\n",
    "small_vector_4 = small_vector_4.unsqueeze(-1) # this operation \"transposes\" the vector into a column vector (4 x 1 matrix)\n",
    "print(\"small_vector_4:\\n\", small_vector_4, \"\\nShape:\", small_vector_4.shape, \"\\n\")\n",
    "\n",
    "pretty_print(z1 / small_vector_4, \"Broadcasting: dividing matrix by column vector\")"
   ]
  },
  {
   "cell_type": "code",
   "execution_count": 16,
   "metadata": {},
   "outputs": [
    {
     "data": {
      "text/plain": [
       "tensor([[True, True, True]])"
      ]
     },
     "execution_count": 16,
     "metadata": {},
     "output_type": "execute_result"
    }
   ],
   "source": [
    "torch.Tensor([1,2,3]) == torch.Tensor([[1,2,3]]) # single-dim Tensors are also row vectors"
   ]
  },
  {
   "cell_type": "markdown",
   "metadata": {},
   "source": [
    "#### Reshaping and permuting\n",
    "\n",
    "Sometimes it may be necessary to reshape the tensors to apply some specific operators.\n",
    "\n",
    "Take the example of RGB images: they can be seen as `3 x h x w` tensors, where `h` is the height and `w` the width.\n",
    "\n",
    "![](img/image_tensor.png)\n",
    "\n",
    "Sometimes, it may be necessary to \"flatten\" the three matrices into vectors, thus obtaining a `3 x hw` tensor."
   ]
  },
  {
   "cell_type": "code",
   "execution_count": 17,
   "metadata": {},
   "outputs": [
    {
     "data": {
      "text/plain": [
       "torch.Size([3, 243, 880])"
      ]
     },
     "execution_count": 17,
     "metadata": {},
     "output_type": "execute_result"
    }
   ],
   "source": [
    "image = torch.load(\"data/img.pt\")\n",
    "image.shape"
   ]
  },
  {
   "cell_type": "markdown",
   "metadata": {},
   "source": [
    "This flattening may be achieved via the `reshape` method."
   ]
  },
  {
   "cell_type": "code",
   "execution_count": 18,
   "metadata": {},
   "outputs": [
    {
     "name": "stdout",
     "output_type": "stream",
     "text": [
      "shape of image_reshaped\n",
      "torch.Size([3, 213840])\n",
      "\n",
      "\n"
     ]
    }
   ],
   "source": [
    "image_reshaped = image.reshape(3, 243*880)\n",
    "pretty_print(image_reshaped.shape, \"shape of image_reshaped\")"
   ]
  },
  {
   "cell_type": "markdown",
   "metadata": {},
   "source": [
    "We can alternatively use the `view` method..."
   ]
  },
  {
   "cell_type": "code",
   "execution_count": 19,
   "metadata": {},
   "outputs": [
    {
     "name": "stdout",
     "output_type": "stream",
     "text": [
      "shape of image_view\n",
      "torch.Size([3, 213840])\n",
      "\n",
      "\n"
     ]
    }
   ],
   "source": [
    "image_view = image.view(3, 243*880)\n",
    "pretty_print(image_view.shape, \"shape of image_view\")"
   ]
  },
  {
   "cell_type": "markdown",
   "metadata": {},
   "source": [
    "**Q**: what is the difference between `reshape` and `view`?"
   ]
  },
  {
   "cell_type": "markdown",
   "metadata": {},
   "source": [
    "Some libraries encode images as `h x w x 3` tensors instead of `3 x h x w`.\n",
    "\n",
    "To convert between these two format, one may be tempted to `reshape` or `view` the tensor: in the end, they share the number of elements.\n",
    "\n"
   ]
  },
  {
   "cell_type": "code",
   "execution_count": 20,
   "metadata": {},
   "outputs": [
    {
     "name": "stderr",
     "output_type": "stream",
     "text": [
      "Matplotlib is building the font cache; this may take a moment.\n"
     ]
    },
    {
     "data": {
      "image/png": "[encoded data removed]",
      "text/plain": [
       "<Figure size 432x288 with 1 Axes>"
      ]
     },
     "metadata": {
      "needs_background": "light"
     },
     "output_type": "display_data"
    }
   ],
   "source": [
    "from matplotlib import pyplot as plt\n",
    "\n",
    "image2 = image.reshape(243, 880, 3)\n",
    "\n",
    "plt.imshow(image2)\n",
    "plt.show()"
   ]
  },
  {
   "cell_type": "markdown",
   "metadata": {},
   "source": [
    "That does not seem to work though: reshape does not change the order of the elements within the memory.\n",
    "\n",
    "In order to do so, we need to use `permute`, which changes shape **and** the order of the elements.\n",
    "We need to pass the new order of the dimensions to it."
   ]
  },
  {
   "cell_type": "code",
   "execution_count": 21,
   "metadata": {},
   "outputs": [
    {
     "data": {
      "image/png": "[encoded data removed]",
      "text/plain": [
       "<Figure size 432x288 with 1 Axes>"
      ]
     },
     "metadata": {
      "needs_background": "light"
     },
     "output_type": "display_data"
    }
   ],
   "source": [
    "image3 = image.permute(1,2,0) # 1,2,0 --> old dim1 goes first, old dim2 goes second, dim0 goes last\n",
    "# can also do image.permute(-2,-1,0) -- works with negative indices as well\n",
    "plt.imshow(image3)\n",
    "plt.show()"
   ]
  },
  {
   "cell_type": "markdown",
   "metadata": {},
   "source": [
    "We already saw a case of incompatible `Tensor`s above. Which one is it?\n",
    "\n",
    "Some more lineal algebra...\n"
   ]
  },
  {
   "cell_type": "code",
   "execution_count": 22,
   "metadata": {},
   "outputs": [
    {
     "name": "stdout",
     "output_type": "stream",
     "text": [
      "Tensor norm\n",
      "tensor(81.2628)\n",
      "\n",
      "\n",
      "ndarray norm\n",
      "2.0670646241212736\n",
      "\n",
      "\n"
     ]
    }
   ],
   "source": [
    "z3_norm = z3.norm(2)\n",
    "pretty_print(z3_norm, \"Tensor norm\")\n",
    "pretty_print(np.linalg.norm(y), \"ndarray norm\") # notice how torch is more OO"
   ]
  },
  {
   "cell_type": "markdown",
   "metadata": {},
   "source": [
    "Notice how methods reducing `Tensor`s to scalars still return singleton `Tensor`s. (be wary of this feature when scripting something in PT)\n",
    "\n",
    "To \"disentangle\" the scalar from a `Tensor` use the `.item()` method."
   ]
  },
  {
   "cell_type": "code",
   "execution_count": 23,
   "metadata": {},
   "outputs": [
    {
     "data": {
      "text/plain": [
       "81.26278686523438"
      ]
     },
     "execution_count": 23,
     "metadata": {},
     "output_type": "execute_result"
    }
   ],
   "source": [
    "z3_norm.item()"
   ]
  },
  {
   "cell_type": "markdown",
   "metadata": {},
   "source": [
    "Note that, as for NumPy, PT supports `Tensor`s operator on a subset of its dimensions.\n",
    "\n",
    "For example, given a `3x4x4 Tensor`, we might want to calculate the norm of each of the three `4x4` matrices composing it. We must hence specify to the `norm` method the dimensions on which we want it to operate the reduction:"
   ]
  },
  {
   "cell_type": "code",
   "execution_count": 24,
   "metadata": {},
   "outputs": [
    {
     "name": "stdout",
     "output_type": "stream",
     "text": [
      "tensor(4.3153)\n",
      "\n",
      "\n",
      "Norm of the three matrices composing z4 -- z4.norm(dim=(1,2))\n",
      "tensor([2.7641, 2.3086, 2.3775])\n",
      "\n",
      "\n"
     ]
    }
   ],
   "source": [
    "z4 = torch.rand((3,4,4))\n",
    "pretty_print(z4.norm())\n",
    "pretty_print(z4.norm(dim=(1,2)), \"Norm of the three matrices composing z4 -- z4.norm(dim=(1,2))\")"
   ]
  },
  {
   "cell_type": "markdown",
   "metadata": {},
   "source": [
    "As expected, the result is a `1x3 Tensor`, showing the norm of each of the matrices.\n",
    "\n",
    "We can notice this behaviour in other `Tensor` operator applying a reduction:"
   ]
  },
  {
   "cell_type": "code",
   "execution_count": 25,
   "metadata": {},
   "outputs": [
    {
     "name": "stdout",
     "output_type": "stream",
     "text": [
      "tensor([[[0.5448, 0.4005, 0.6352, 0.9357],\n",
      "         [0.7812, 0.5658, 0.6327, 0.7152],\n",
      "         [0.3887, 0.9942, 0.9646, 0.0587],\n",
      "         [0.4592, 0.9384, 0.6622, 0.6771]],\n",
      "\n",
      "        [[0.9886, 0.1965, 0.3424, 0.7602],\n",
      "         [0.1854, 0.6530, 0.5681, 0.8302],\n",
      "         [0.3141, 0.1889, 0.1344, 0.6855],\n",
      "         [0.9554, 0.7340, 0.2106, 0.1656]],\n",
      "\n",
      "        [[0.5381, 0.5875, 0.6509, 0.6017],\n",
      "         [0.1934, 0.8556, 0.1065, 0.2135],\n",
      "         [0.8166, 0.0409, 0.6457, 0.5349],\n",
      "         [0.9514, 0.7078, 0.7907, 0.0510]]])\n",
      "tensor([0.5448, 0.7812, 0.3887, 0.4592])\n",
      "tensor(2.1739)\n"
     ]
    }
   ],
   "source": [
    "print(z4)\n",
    "print(z4[0,:,0])\n",
    "print(z4[0,:,0].sum())"
   ]
  },
  {
   "cell_type": "code",
   "execution_count": 26,
   "metadata": {},
   "outputs": [
    {
     "name": "stdout",
     "output_type": "stream",
     "text": [
      "z4.sum(dim=0) -- Sum of the three matrices composing the tensor -- is a 4x4 matrix\n",
      "tensor([[2.0715, 1.1845, 1.6284, 2.2976],\n",
      "        [1.1600, 2.0745, 1.3073, 1.7589],\n",
      "        [1.5194, 1.2239, 1.7446, 1.2792],\n",
      "        [2.3660, 2.3802, 1.6636, 0.8936]])\n",
      "\n",
      "\n",
      "z4.prod(dim=1) -- Product of the columns of each matrix composing the tensor\n",
      "tensor([[0.0760, 0.2114, 0.2567, 0.0266],\n",
      "        [0.0550, 0.0178, 0.0055, 0.0716],\n",
      "        [0.0809, 0.0145, 0.0354, 0.0035]])\n",
      "\n",
      "\n"
     ]
    }
   ],
   "source": [
    "pretty_print(z4.sum(dim=0), \"z4.sum(dim=0) -- Sum of the three matrices composing the tensor -- is a 4x4 matrix\")\n",
    "\n",
    "pretty_print(z4.prod(dim=1), \"z4.prod(dim=1) -- Product of the columns of each matrix composing the tensor\")"
   ]
  },
  {
   "cell_type": "code",
   "execution_count": 27,
   "metadata": {},
   "outputs": [
    {
     "name": "stdout",
     "output_type": "stream",
     "text": [
      "This is how the first element of z4.prod(dim=1) is obtained. We fix the 1st and 3rd dim to `0` ...\n",
      "tensor([0.5448, 0.7812, 0.3887, 0.4592])\n",
      "\n",
      "\n",
      "... and we operate the prod on it\n",
      "tensor(0.0760)\n",
      "\n",
      "\n",
      "The other elements are obtained by looping through all of the other possible 1st and 3rd dimension indices. For instance, the element `2,3` of the reduction is obtained as\n",
      "z4[2, :, 3].prod().\n",
      "\n",
      "z4[2, : ,3]\n",
      "tensor([0.6017, 0.2135, 0.5349, 0.0510])\n",
      "\n",
      "\n",
      "z4[2, : ,3].prod()\n",
      "tensor(0.0035)\n",
      "\n",
      "\n"
     ]
    }
   ],
   "source": [
    "pretty_print(z4[0, :, 0], \"This is how the first element of z4.prod(dim=1) is obtained. We fix the 1st and 3rd dim to `0` ...\")\n",
    "pretty_print(z4[0, :, 0].prod(), \"... and we operate the prod on it\")\n",
    "print(\"The other elements are obtained by looping through all of the other possible 1st and 3rd dimension indices. For instance, the element `2,3` of the reduction is obtained as\\nz4[2, :, 3].prod().\\n\")\n",
    "pretty_print(z4[2, : ,3], \"z4[2, : ,3]\")\n",
    "pretty_print(z4[2, :, 3].prod(), \"z4[2, : ,3].prod()\")"
   ]
  },
  {
   "cell_type": "markdown",
   "metadata": {},
   "source": [
    "#### Seamless conversion from NumPy to PT"
   ]
  },
  {
   "cell_type": "code",
   "execution_count": 28,
   "metadata": {},
   "outputs": [
    {
     "name": "stdout",
     "output_type": "stream",
     "text": [
      "y converted to torch.Tensor\n",
      "tensor([[[0.3499, 0.3660, 0.5054],\n",
      "         [0.5657, 0.0184, 0.1881],\n",
      "         [0.0266, 0.4519, 0.0909]],\n",
      "\n",
      "        [[0.0795, 0.7840, 0.0697],\n",
      "         [0.0346, 0.6963, 0.3726],\n",
      "         [0.9762, 0.9513, 0.2886]]], dtype=torch.float64)\n",
      "\n",
      "\n",
      "x converted to numpy.ndarray\n",
      "[[[0.9280394  0.1339671  0.958135  ]\n",
      "  [0.502702   0.04768664 0.20493782]\n",
      "  [0.5472957  0.40345943 0.7572888 ]]\n",
      "\n",
      " [[0.3743773  0.42664456 0.2841804 ]\n",
      "  [0.11875057 0.21527767 0.7267378 ]\n",
      "  [0.9204928  0.81843925 0.74477917]]]\n",
      "\n",
      "\n",
      "Example of implicit conversion Tensor → ndarray\n",
      "2.4886522\n",
      "\n",
      "\n"
     ]
    }
   ],
   "source": [
    "y_torch = torch.from_numpy(y)\n",
    "pretty_print(y_torch, \"y converted to torch.Tensor\")\n",
    "\n",
    "x_numpy = x.numpy()\n",
    "pretty_print(x_numpy, \"x converted to numpy.ndarray\")\n",
    "\n",
    "# Note that NumPy implicitly converts Tensor to ndarray whenever it can; the same doesn't happen for PT\n",
    "pretty_print(np.linalg.norm(x), \"Example of implicit conversion Tensor → ndarray\")\n",
    "\n",
    "# torch.norm(x_numpy) # ERROR: numpy.... has no attribute dim"
   ]
  },
  {
   "cell_type": "markdown",
   "metadata": {},
   "source": [
    "#### Stochastic functionalities"
   ]
  },
  {
   "cell_type": "markdown",
   "metadata": {},
   "source": [
    "We can render the (pseudo)random number generator deterministic by calling `torch.manual_seed(integer)`.\n",
    "\n",
    "This works for both CPU and CUDA RNG calls."
   ]
  },
  {
   "cell_type": "code",
   "execution_count": 29,
   "metadata": {},
   "outputs": [
    {
     "name": "stdout",
     "output_type": "stream",
     "text": [
      "...from now on our random tensor should be the same...\n"
     ]
    }
   ],
   "source": [
    "torch.manual_seed(123456)\n",
    "print(\"...from now on our random tensor should be the same...\")"
   ]
  },
  {
   "cell_type": "code",
   "execution_count": 30,
   "metadata": {},
   "outputs": [
    {
     "name": "stdout",
     "output_type": "stream",
     "text": [
      "(randperm) Random permutation of 0:10\n",
      "tensor([5, 2, 4, 9, 1, 7, 3, 6, 0, 8])\n",
      "\n",
      "\n",
      "(rand_like) Create random vector with the same shape of z_1\n",
      "tensor([[0.4954, 0.0728, 0.9644, 0.5524, 0.0060],\n",
      "        [0.1053, 0.2431, 0.5141, 0.2926, 0.0147],\n",
      "        [0.3049, 0.4911, 0.6739, 0.6872, 0.9038],\n",
      "        [0.1368, 0.2698, 0.1289, 0.3020, 0.0194]])\n",
      "\n",
      "\n",
      "(randint) Like rand, but with integers up to 10\n",
      "tensor([[7, 6, 2],\n",
      "        [9, 0, 3],\n",
      "        [0, 4, 4]])\n",
      "\n",
      "\n",
      "(normal) Sampling a 3x3 iid scalars from N(0,1)\n",
      "tensor([[-0.4107, -1.5861, -0.4778],\n",
      "        [ 1.0268,  1.2428,  0.4147],\n",
      "        [-0.6491,  0.0784, -0.7173]])\n",
      "\n",
      "\n",
      "Sampling from 9 normals with different means and std into a (3x3) Tensor\n",
      "tensor([[ 1.1070,  1.9439,  2.3757],\n",
      "        [ 3.6595,  5.8618,  5.9344],\n",
      "        [ 5.0647, -1.0821, -0.0713]])\n",
      "\n",
      "\n"
     ]
    }
   ],
   "source": [
    "pretty_print(torch.randperm(10), \"(randperm) Random permutation of 0:10\")\n",
    "\n",
    "pretty_print(torch.rand_like(z1), \"(rand_like) Create random vector with the same shape of z_1\")\n",
    "\n",
    "pretty_print(torch.randint(10, (3, 3)), \"(randint) Like rand, but with integers up to 10\")\n",
    "\n",
    "pretty_print(torch.normal(0, 1, (3, 3)), \"(normal) Sampling a 3x3 iid scalars from N(0,1)\")\n",
    "\n",
    "pretty_print(torch.normal(torch.Tensor([[1,2,3],[4,5,6],[0,0,0]]), torch.Tensor([[1,0.5,0.9],[0.5,1,0.1],[3,4,1]])), \"Sampling from 9 normals with different means and std into a (3x3) Tensor\")"
   ]
  },
  {
   "cell_type": "markdown",
   "metadata": {},
   "source": [
    "### Using GPUs\n",
    "\n",
    "All `Torch.Tensor` methods support GPU computation via built-in CUDA wrappers.\n",
    "\n",
    "Just transfer the involved `Tensor`s to CUDA and let the magic happen :)"
   ]
  },
  {
   "cell_type": "code",
   "execution_count": 31,
   "metadata": {},
   "outputs": [
    {
     "name": "stderr",
     "output_type": "stream",
     "text": [
      "/home/angela/Documenti/Deep Learning/DSSC_DL_2021/venv/lib/python3.6/site-packages/torch/cuda/__init__.py:52: UserWarning: CUDA initialization: The NVIDIA driver on your system is too old (found version 9010). Please update your GPU driver by downloading and installing a new version from the URL: http://www.nvidia.com/Download/index.aspx Alternatively, go to: https://pytorch.org to install a PyTorch version that has been compiled with your version of the CUDA driver. (Triggered internally at  /pytorch/c10/cuda/CUDAFunctions.cpp:109.)\n",
      "  return torch._C._cuda_getDeviceCount() > 0\n"
     ]
    }
   ],
   "source": [
    "# check if cuda is available on this machine\n",
    "torch.cuda.is_available()\n",
    "\n",
    "has_cuda_gpu = torch.cuda.is_available()"
   ]
  },
  {
   "cell_type": "code",
   "execution_count": 32,
   "metadata": {},
   "outputs": [
    {
     "name": "stdout",
     "output_type": "stream",
     "text": [
      "Sorry, this part of the notebook is inaccessible since it seems you don't have a CUDA-capable GPU on your device :/\n"
     ]
    }
   ],
   "source": [
    "if has_cuda_gpu:\n",
    "    dim = 10000\n",
    "    large_cpu_matrix = torch.rand((dim, dim)) \n",
    "    large_gpu_matrix = large_cpu_matrix.to(\"cuda\") # Can also specify \"cuda:gpu_id\" if multiple GPUs: cuda:0, cuda:1, etc.\n",
    "    # alternatively, you may also call large_cpu_matrix.cuda() or large_cpu_matrix.cuda(0)\n",
    "else:\n",
    "    print(\"Sorry, this part of the notebook is inaccessible since it seems you don't have a CUDA-capable GPU on your device :/\")"
   ]
  },
  {
   "cell_type": "code",
   "execution_count": null,
   "metadata": {},
   "outputs": [],
   "source": [
    "pretty_print(large_cpu_matrix.device, \"Device of large_cpu_matrix\")\n",
    "pretty_print(large_gpu_matrix.device, \"Device of large_gpu_matrix\")\n",
    "pretty_print(large_gpu_matrix, \"If a tensor is not on CPU, the device will also be printed if you print the tensor itself\")"
   ]
  },
  {
   "cell_type": "code",
   "execution_count": null,
   "metadata": {},
   "outputs": [],
   "source": [
    "if has_cuda_gpu:\n",
    "    import timeit\n",
    "\n",
    "    # NOTE: please fix this number w.r.t. your GPU and CPU\n",
    "    repetitions = 100\n",
    "\n",
    "    print(\"Norm of large cpu matrix. Time:\", timeit.timeit(\"large_cpu_matrix.norm()\", number=repetitions, globals=locals()))\n",
    "    print(\"Norm of large gpu matrix. Time:\", timeit.timeit(\"large_gpu_matrix.norm()\", number=repetitions, globals=locals()))\n",
    "else:\n",
    "    print(\"Sorry, this part of the notebook is inaccessible since it seems you don't have a CUDA-capable GPU on your device :/\")"
   ]
  },
  {
   "cell_type": "markdown",
   "metadata": {},
   "source": [
    "Captain obvious: Use `tensor.cpu()` or `tensor.to(\"cpu\")` to move a tensor to your CPU"
   ]
  },
  {
   "cell_type": "markdown",
   "metadata": {},
   "source": [
    "### Building easy ML models\n",
    "\n",
    "By using all the pieces we've seen till now, we can build our first ML model using PyTorch: a linear regressor, whose model is\n",
    "\n",
    "`y = XW + b`\n",
    "\n",
    "which can also be simplified as\n",
    "\n",
    "`y = XW`\n",
    "\n",
    "if we incorporate the bias `b` inside `W` and add to the `X` a column of ones to the right.\n",
    "\n",
    "We'll first create our data. The `X`s are the 0:9 range plus some iid random noise, while the `y` is just the 0:9 range"
   ]
  },
  {
   "cell_type": "code",
   "execution_count": 34,
   "metadata": {},
   "outputs": [
    {
     "name": "stdout",
     "output_type": "stream",
     "text": [
      "X (covariates)\n",
      "tensor([[ 0.0698, -0.0294, -0.0875,  1.0000],\n",
      "        [ 1.1936,  0.9067,  1.4257,  1.0000],\n",
      "        [ 2.0887,  2.0520,  2.0334,  1.0000],\n",
      "        [ 3.0333,  2.7806,  2.8838,  1.0000],\n",
      "        [ 4.2332,  3.8806,  3.9750,  1.0000],\n",
      "        [ 4.9830,  4.9553,  5.3448,  1.0000],\n",
      "        [ 5.6296,  6.3334,  6.0269,  1.0000],\n",
      "        [ 7.1786,  6.7816,  7.2288,  1.0000],\n",
      "        [ 7.7853,  7.9722,  7.8963,  1.0000],\n",
      "        [ 8.5020,  9.2573,  8.9184,  1.0000]])\n",
      "\n",
      "\n",
      "y (response)\n",
      "tensor([[0.],\n",
      "        [1.],\n",
      "        [2.],\n",
      "        [3.],\n",
      "        [4.],\n",
      "        [5.],\n",
      "        [6.],\n",
      "        [7.],\n",
      "        [8.],\n",
      "        [9.]])\n",
      "\n",
      "\n"
     ]
    },
    {
     "name": "stderr",
     "output_type": "stream",
     "text": [
      "/home/angela/Documenti/Deep Learning/DSSC_DL_2021/venv/lib/python3.6/site-packages/ipykernel_launcher.py:1: UserWarning: torch.range is deprecated and will be removed in a future release because its behavior is inconsistent with Python's range builtin. Instead, use torch.arange, which produces values in [start, end).\n",
      "  \"\"\"Entry point for launching an IPython kernel.\n",
      "/home/angela/Documenti/Deep Learning/DSSC_DL_2021/venv/lib/python3.6/site-packages/ipykernel_launcher.py:2: UserWarning: torch.range is deprecated and will be removed in a future release because its behavior is inconsistent with Python's range builtin. Instead, use torch.arange, which produces values in [start, end).\n",
      "  \n",
      "/home/angela/Documenti/Deep Learning/DSSC_DL_2021/venv/lib/python3.6/site-packages/ipykernel_launcher.py:3: UserWarning: torch.range is deprecated and will be removed in a future release because its behavior is inconsistent with Python's range builtin. Instead, use torch.arange, which produces values in [start, end).\n",
      "  This is separate from the ipykernel package so we can avoid doing imports until\n",
      "/home/angela/Documenti/Deep Learning/DSSC_DL_2021/venv/lib/python3.6/site-packages/ipykernel_launcher.py:10: UserWarning: torch.range is deprecated and will be removed in a future release because its behavior is inconsistent with Python's range builtin. Instead, use torch.arange, which produces values in [start, end).\n",
      "  # Remove the CWD from sys.path while we load stuff.\n"
     ]
    }
   ],
   "source": [
    "x1 = torch.range(0, 9).unsqueeze(-1)\n",
    "x2 = torch.range(0, 9).unsqueeze(-1)\n",
    "x3 = torch.range(0, 9).unsqueeze(-1)\n",
    "x0 = torch.ones([10]).unsqueeze(-1)\n",
    "X = torch.cat((x1, x2, x3), dim=1)\n",
    "eps = torch.normal(0, .3, (10, 3))\n",
    "X += eps\n",
    "X = torch.cat((X, x0), dim=1) # to concatenate tensors\n",
    "\n",
    "y = torch.range(0, 9).unsqueeze(-1)\n",
    "\n",
    "\n",
    "pretty_print(X, \"X (covariates)\")\n",
    "pretty_print(y, \"y (response)\")"
   ]
  },
  {
   "cell_type": "markdown",
   "metadata": {},
   "source": [
    "For the case of linear regression, we usually wish to obtain a set of weights minimizing the so called mean square error/loss (MSE), which is the squared difference between the ground truth and the model prediction, summed for each data instance.\n",
    "\n",
    "We know that the OLS/Max Likelihood esitmator is the one yielding the optimal set of weights in that regard."
   ]
  },
  {
   "cell_type": "code",
   "execution_count": 35,
   "metadata": {},
   "outputs": [
    {
     "name": "stdout",
     "output_type": "stream",
     "text": [
      "W (weights - coefficients and bias/intercept)\n",
      "tensor([[ 0.5034],\n",
      "        [ 0.5444],\n",
      "        [-0.0323],\n",
      "        [-0.0463]])\n",
      "\n",
      "\n"
     ]
    }
   ],
   "source": [
    "W_hat = ((X.T @ X).inverse()) @ X.T @ y # OLS estimator\n",
    "\n",
    "pretty_print(W_hat, \"W (weights - coefficients and bias/intercept)\")"
   ]
  },
  {
   "cell_type": "markdown",
   "metadata": {},
   "source": [
    "We can evaluate our model on the mean square loss"
   ]
  },
  {
   "cell_type": "code",
   "execution_count": 36,
   "metadata": {},
   "outputs": [],
   "source": [
    "def mean_square_loss(y, y_hat):\n",
    "    return (((y - y_hat).norm())**2).item() / y.shape[0]"
   ]
  },
  {
   "cell_type": "markdown",
   "metadata": {},
   "source": [
    "Let's apply it to our data.\n",
    "\n",
    "First we need to obtain the predictions, then we can evaluate the MSE."
   ]
  },
  {
   "cell_type": "code",
   "execution_count": 37,
   "metadata": {},
   "outputs": [
    {
     "name": "stdout",
     "output_type": "stream",
     "text": [
      "Predictions (y_hat)\n",
      "tensor([[-0.0243],\n",
      "        [ 1.0021],\n",
      "        [ 2.0565],\n",
      "        [ 2.9012],\n",
      "        [ 4.0688],\n",
      "        [ 4.9870],\n",
      "        [ 6.0407],\n",
      "        [ 7.0256],\n",
      "        [ 7.9576],\n",
      "        [ 8.9849]])\n",
      "\n",
      "\n",
      "Loss (MSE)\n",
      "0.0022791530936956406\n",
      "\n",
      "\n"
     ]
    }
   ],
   "source": [
    "y_hat = X @ W_hat\n",
    "pretty_print(y_hat, \"Predictions (y_hat)\")\n",
    "\n",
    "pretty_print(mean_square_loss(y, y_hat), \"Loss (MSE)\")"
   ]
  },
  {
   "cell_type": "markdown",
   "metadata": {},
   "source": [
    "#### Using PT built-ins\n",
    "\n",
    "We will now be exploring the second chunk of PT functionalities, namely the built-in structures and routines supporting the creation of ML models.\n",
    "\n",
    "We can create the same model we have seen before using PT built-in structures, so we start to see them right away.\n",
    "\n",
    "Usually, a PT model is a `class` inheriting from `torch.nn.Module`. Inside this class, we'll define two methods:\n",
    "* the constructor (`__init__`) in which we define the building blocks of our model as class variables (later during our lectures we'll see more \"elegant\" methods to build models architectures)\n",
    "* the `forward` method, which specifies as the data fed into the model needs to be processed in order to produce the output\n",
    "\n",
    "Note for those who already know something about NNs: we don't need to define `backward` methods since we're constructing our model with built-in PT building blocks. PT automatically creates a `backward` routine based upon the `forward` method.\n",
    "\n",
    "Our model only has one building block (layer) which is a `Linear` layer.\n",
    "We need to specify the size of the input (i.e. the coefficients `W` of our linear regressor) and the size of the output (i.e. how many scalars it produces) of the layer. We additionaly request our layer to has a bias term `b` (which acts as the intercept of the line we saw before).\n",
    "\n",
    "The `Linear` layer processes its input as `XW + b`, which is exactly the (first) equation of the linear regressor we saw before.\n",
    "\n"
   ]
  },
  {
   "cell_type": "code",
   "execution_count": 38,
   "metadata": {},
   "outputs": [],
   "source": [
    "class LinearRegressor(torch.nn.Module):\n",
    "    def __init__(self):\n",
    "        super().__init__()\n",
    "        self.regressor = torch.nn.Linear(in_features=3, out_features=1, bias=True)\n",
    "\n",
    "    def forward(self, X):\n",
    "        return self.regressor(X)"
   ]
  },
  {
   "cell_type": "markdown",
   "metadata": {},
   "source": [
    "We can create an instance of our model and inspect the current parameters by using the `state_dict` method, which prints the building blocks of our model and their current parameters. Note that `state_dict` is essentially a dictonary indexed by the names of the building blocks which we defined inside the constructor (plus some additional identifiers if a layer has more than one set of parameters)."
   ]
  },
  {
   "cell_type": "code",
   "execution_count": 39,
   "metadata": {},
   "outputs": [
    {
     "name": "stdout",
     "output_type": "stream",
     "text": [
      "regressor.weight tensor([[0.0326, 0.2675, 0.2290]])\n",
      "regressor.bias tensor([-0.3914])\n"
     ]
    }
   ],
   "source": [
    "lin_reg = LinearRegressor()\n",
    "\n",
    "for param_name, param in lin_reg.state_dict().items():\n",
    "    print(param_name, param)"
   ]
  },
  {
   "cell_type": "markdown",
   "metadata": {},
   "source": [
    "We can update the parameters via `state_dict` and re-using the same OLS estimates we obtained before.\n",
    "\n",
    "Note that PT is thought of for Deep Learning: it does not have (I think) the routines to solve different ML problems.\n",
    "\n",
    "Next time, we'll see as we can unleash PT's gradient-based iterative training routines and compare the results w.r.t. the OLS estimators."
   ]
  },
  {
   "cell_type": "code",
   "execution_count": 40,
   "metadata": {},
   "outputs": [
    {
     "data": {
      "text/plain": [
       "<All keys matched successfully>"
      ]
     },
     "execution_count": 40,
     "metadata": {},
     "output_type": "execute_result"
    }
   ],
   "source": [
    "state_dict = lin_reg.state_dict()\n",
    "state_dict[\"regressor.weight\"] = W_hat[:3].T\n",
    "state_dict[\"regressor.bias\"] = W_hat[3]\n",
    "lin_reg.load_state_dict(state_dict)"
   ]
  },
  {
   "cell_type": "code",
   "execution_count": 41,
   "metadata": {},
   "outputs": [
    {
     "name": "stdout",
     "output_type": "stream",
     "text": [
      "regressor.weight tensor([[ 0.5034,  0.5444, -0.0323]])\n",
      "regressor.bias tensor([-0.0463])\n"
     ]
    }
   ],
   "source": [
    "# Check if it worked\n",
    "for param_name, param in lin_reg.state_dict().items():\n",
    "    print(param_name, param)"
   ]
  },
  {
   "cell_type": "markdown",
   "metadata": {},
   "source": [
    "The `forward` method gets implicitly called by passing the data to our model's instance `lin_reg`:"
   ]
  },
  {
   "cell_type": "code",
   "execution_count": 42,
   "metadata": {},
   "outputs": [
    {
     "name": "stdout",
     "output_type": "stream",
     "text": [
      "Predictions of torch class\n",
      "tensor([[-0.0243],\n",
      "        [ 1.0021],\n",
      "        [ 2.0565],\n",
      "        [ 2.9012],\n",
      "        [ 4.0688],\n",
      "        [ 4.9870],\n",
      "        [ 6.0407],\n",
      "        [ 7.0256],\n",
      "        [ 7.9576],\n",
      "        [ 8.9849]], grad_fn=<AddmmBackward>)\n",
      "\n",
      "\n"
     ]
    }
   ],
   "source": [
    "X_lin_reg = X[:,:3]\n",
    "predictions_lin_reg = lin_reg(X_lin_reg)\n",
    "pretty_print(predictions_lin_reg, \"Predictions of torch class\")"
   ]
  },
  {
   "cell_type": "markdown",
   "metadata": {},
   "source": [
    "The predictions are the same as before"
   ]
  },
  {
   "cell_type": "code",
   "execution_count": 43,
   "metadata": {},
   "outputs": [
    {
     "name": "stdout",
     "output_type": "stream",
     "text": [
      "Predictions of linear model\n",
      "tensor([[-0.0243],\n",
      "        [ 1.0021],\n",
      "        [ 2.0565],\n",
      "        [ 2.9012],\n",
      "        [ 4.0688],\n",
      "        [ 4.9870],\n",
      "        [ 6.0407],\n",
      "        [ 7.0256],\n",
      "        [ 7.9576],\n",
      "        [ 8.9849]])\n",
      "\n",
      "\n"
     ]
    }
   ],
   "source": [
    "pretty_print(y_hat, \"Predictions of linear model\")"
   ]
  },
  {
   "cell_type": "markdown",
   "metadata": {},
   "source": [
    "### Adding non-linearity\n",
    "\n",
    "One of the staples of DL is that the relationship between the `X`s and the predictions is **non-linear**.\n",
    "\n",
    "The non-linearity is obtain by applying a non-linear function (called *activation function*) after each linear layer.\n",
    "\n",
    "We can complicate just a little bit our linear model to create a **logistic regressor**:\n",
    "\n",
    "`y = logistic(XW + b)`,\n",
    "\n",
    "where `logistic(z) = exp(z) / (1 + exp(z))`\n",
    "\n",
    "The logistic function has different names:\n",
    "* in statistics, it's usually called *inverse logit* as well\n",
    "* in DL and mathematics, it's called *sigmoid function* due to its \"S\" shape\n",
    "\n",
    "Hystorically, the sigmoid was between the first activation functions used in NNs.\n",
    "\n",
    "![](img/sigmoid.png)\n",
    "\n",
    "Logistic regression is usually used as a **binary classification model** instead of a regression model.\n",
    "In this setting, we suppose we have two destination classes to which we assign values 0 and 1: `y ∈ {0, 1}`.\n",
    "Since the codomain of the sigmoid is `[0,1]`, we can interpret its output `ŷ` as a probability value, and assign each data to the class 0 if `ŷ <= 0.5`, to the class 1 otherwise.\n"
   ]
  },
  {
   "cell_type": "code",
   "execution_count": 44,
   "metadata": {},
   "outputs": [
    {
     "name": "stdout",
     "output_type": "stream",
     "text": [
      "y for our classification problem\n",
      "tensor([0., 1., 0., 0., 1., 1., 1., 0., 1., 1.])\n",
      "\n",
      "\n"
     ]
    }
   ],
   "source": [
    "y = torch.Tensor([0,1,0,0,1,1,1,0,1,1])\n",
    "pretty_print(y, \"y for our classification problem\")"
   ]
  },
  {
   "cell_type": "markdown",
   "metadata": {},
   "source": [
    "Note that we may also want our y to be a vector of `int`s.\n",
    "We can convert the `Tensor` type to `int` by calling the method `.long()` or `.int()` of `Tensor`.\n",
    "\n",
    "As in NumPy, the type of the `Tensor` is found within the `dtype` variable of the given `Tensor`."
   ]
  },
  {
   "cell_type": "code",
   "execution_count": 45,
   "metadata": {},
   "outputs": [
    {
     "name": "stdout",
     "output_type": "stream",
     "text": [
      "y converted to int\n",
      "tensor([0, 1, 0, 0, 1, 1, 1, 0, 1, 1])\n",
      "\n",
      "\n",
      "Data type of y\n",
      "torch.int64\n",
      "\n",
      "\n"
     ]
    }
   ],
   "source": [
    "y = y.long() # ...PT expects a long(=int64)\n",
    "pretty_print(y, \"y converted to int\")\n",
    "pretty_print(y.dtype, \"Data type of y\")"
   ]
  },
  {
   "cell_type": "markdown",
   "metadata": {},
   "source": [
    "Let us now build our logistic regressor in PT.\n",
    "\n",
    "We only need one single addition wrt the linear regressor: in the `forward` method, we'll add the sigmoidal non-linearity by calling the `sigmoid` function within the `torch.nn.functional` library.\n",
    "\n",
    "Note that there also exist some \"mirror\" alias of these functionals within `torch.nn` (e.g. `torch.nn.Sigmoid`): we'll learn in the following lecture why these aliases are there and how to use them."
   ]
  },
  {
   "cell_type": "code",
   "execution_count": 46,
   "metadata": {},
   "outputs": [],
   "source": [
    "class LogisticRegressor(torch.nn.Module):\n",
    "    def __init__(self):\n",
    "        super().__init__()\n",
    "        # no difference wrt linear regressor\n",
    "        self.regressor = torch.nn.Linear(in_features=3, out_features=1)\n",
    "    \n",
    "    def forward(self, X):\n",
    "        out = self.regressor(X)\n",
    "        # here we apply the sigmoid fct to the output of regressor\n",
    "        out = torch.nn.functional.sigmoid(out)\n",
    "        return out"
   ]
  },
  {
   "cell_type": "markdown",
   "metadata": {},
   "source": [
    "We can instantiate our logistic regressor and use it to calculate our predictions on the same X as before.\n",
    "\n",
    "Note that **we're using the initial (random) weights which PT has assigned to the model parameters**.\n",
    "For our linear regressor, we were able to analytically obtain the OLS value of the parameters.\n",
    "In the case of logistic regression, there's no MaxLikelihood estimator obtainable in close form and we need to resort to numerical methods to obtain them.\n",
    "Since the part concerning numerical optimization will be discussed during the next Lab, we will not be training our model (hence results will obviously be sub-par)."
   ]
  },
  {
   "cell_type": "code",
   "execution_count": 47,
   "metadata": {},
   "outputs": [
    {
     "name": "stdout",
     "output_type": "stream",
     "text": [
      "logistic regressor predictions\n",
      "tensor([[0.5320],\n",
      "        [0.4851],\n",
      "        [0.5382],\n",
      "        [0.5322],\n",
      "        [0.5392],\n",
      "        [0.5152],\n",
      "        [0.5800],\n",
      "        [0.5216],\n",
      "        [0.5709],\n",
      "        [0.5966]], grad_fn=<SigmoidBackward>)\n",
      "\n",
      "\n"
     ]
    },
    {
     "name": "stderr",
     "output_type": "stream",
     "text": [
      "/home/angela/Documenti/Deep Learning/DSSC_DL_2021/venv/lib/python3.6/site-packages/torch/nn/functional.py:1709: UserWarning: nn.functional.sigmoid is deprecated. Use torch.sigmoid instead.\n",
      "  warnings.warn(\"nn.functional.sigmoid is deprecated. Use torch.sigmoid instead.\")\n"
     ]
    }
   ],
   "source": [
    "log_reg = LogisticRegressor()\n",
    "y_hat = log_reg(X_lin_reg)\n",
    "pretty_print(y_hat, \"logistic regressor predictions\")"
   ]
  },
  {
   "cell_type": "markdown",
   "metadata": {},
   "source": [
    "There exist many ways to evaluate the performance of the logistic regressor: one of them is **accuracy** (correctly identified units / total number of units).\n",
    "We can define a function to evaluate accuracy and calculate it on our model and data"
   ]
  },
  {
   "cell_type": "code",
   "execution_count": 48,
   "metadata": {},
   "outputs": [],
   "source": [
    "def accuracy(y, y_hat):\n",
    "    # Assign each y_hat to its predicted class\n",
    "    pred_classes = torch.where(y_hat < .5, 0, 1).squeeze().long()\n",
    "    correct = (pred_classes == y).sum()\n",
    "    return (correct / y.shape[0]).item()"
   ]
  },
  {
   "cell_type": "code",
   "execution_count": 49,
   "metadata": {},
   "outputs": [
    {
     "data": {
      "text/plain": [
       "0.5"
      ]
     },
     "execution_count": 49,
     "metadata": {},
     "output_type": "execute_result"
    }
   ],
   "source": [
    "accuracy(y, y_hat)"
   ]
  },
  {
   "cell_type": "markdown",
   "metadata": {},
   "source": [
    "#### Visualizing linear and logistic regression as a computational graph\n",
    "\n",
    "We now need to convert the equation of the linear and the logistic regression:\n",
    "* `y = σ(WX + b)`\n",
    "\n",
    "where `σ` is a generic `ℝ → ℝ` function: sigmoid for logistic regression, identity for linear regression.\n",
    "\n",
    "![](img/log_reg_graph.jpg)\n",
    "\n",
    "We organize the input in *nodes* (on the left part) s.t. each node represents one dimension/covariate.\n",
    "For each data instance, we substitute to each node the corresponding numeric value.\n",
    "The nodes undergo one or more operations, namely, from left to right:\n",
    "\n",
    "1. Each node is multiplied by its corresponding weight (a value placed on the edge indicates that the node is multiplied by said value)\n",
    "2. All the corresponding outputs are summed together\n",
    "\n",
    "These two operations identify the dot product between vectors `X` and `W`\n",
    "\n",
    "3. The bias term `b` is added\n",
    "4. The non-linear function `σ` is applied to the result of this sum\n",
    "5. Finally, we assign that value to the variable `ŷ`, which is also indicated as a node\n"
   ]
  },
  {
   "cell_type": "markdown",
   "metadata": {},
   "source": [
    "### Our first MultiLayer Perceptron (MLP)\n",
    "\n",
    "The MLP is a family of Artificial NNs in which the input is a vector of size `ℝ^d` and the output is again a vector of size `ℝ^p`, where `p` is determined upon the nature of the problem we wish to solve. Additionally, a MLP is characterized by multiple stages (*layers*) of sequential vector-matrix multiplication and non-linearity (steps 1., 2., 3. above) in which each output of the layer `l-1` acts as input to the layer `l`.\n",
    "\n",
    "Taking inspiration to the graph of the logistic regression, we can translate all into an image to give sense to these words:\n",
    "\n",
    "![](img/mlp_graph.jpg)\n",
    "\n",
    "In NNs, each of the nodes within the graph is called a **neuron**\n",
    "\n",
    "Neurons are organized in **layers**\n",
    "\n",
    "In computational graphs, layers are shown from left to right (or bottom to top sometimes), which is the direction of the flow of information inside the NN.\n",
    "\n",
    "The first layer is called **input layer** and represents the dimensions of our data.\n",
    "\n",
    "The last layer is called **output layer** and represent the output of our NN.\n",
    "\n",
    "All the intermediate layers are called **hidden layers**. To be defined MLP, there must be at least one hidden layer inside our model.\n",
    "\n",
    "If the NN is an MLP, each neuron in a given layer (except for the input) receives information from every neuron of the previous; moreover, each neuron in any layer (except for the output) sends information to every neuron of the next layer. There's no communication between neurons of the same layer (if it happens, we have a **Recursive Neural Network**)."
   ]
  },
  {
   "cell_type": "markdown",
   "metadata": {},
   "source": [
    "For the sake of brevity, usually in NN computational graphs we drop the blocks `+` and `σ`, the values of weights, and the reference to the bias terms, remaining with a scheme conveying info about\n",
    "* the number of neurons per layer\n",
    "* the connectivity of neurons\n",
    "\n",
    "The graph above becomes:\n",
    "\n",
    "![](img/mlp_graph_common.jpg)\n",
    "\n",
    "We can then start programming our simple MLP in PT.\n",
    "\n",
    "We will suppose that our MLP is for **binary classification**, hence the activation function `τ` is the sigmoid.\n",
    "\n",
    "**Q**: what if we wanted our MLP to operate a regression?"
   ]
  },
  {
   "cell_type": "code",
   "execution_count": null,
   "metadata": {},
   "outputs": [],
   "source": [
    "class MLP(torch.nn.Module):\n",
    "    def __init__(self):\n",
    "        super().__init__()\n",
    "        self.layer1 = torch.nn.Linear(in_features=3, out_features=2)\n",
    "        self.layer2 = torch.nn.Linear(in_features=2, out_features=1)\n",
    "\n",
    "    def forward(self, X):\n",
    "        out = self.layer1(X)\n",
    "        out = torch.nn.functional.relu(out)\n",
    "        out = self.layer2(X)\n",
    "        out = torch.nn.functional.sigmoid(out)\n",
    "        return out\n"
   ]
  },
  {
   "cell_type": "markdown",
   "metadata": {},
   "source": [
    "For the great majority of MLP, it's very hard to get analytical solutions to our sets of weights and biases. We then resort to numerical methods for optimization.\n",
    "\n",
    "In DL, we normally used gradient-based methods like Stochastic Gradient Descent with *backpropagation* to find approximate solutions.\n",
    "\n",
    "We'll cover these topics in future lectures. For now, the focus is to build a MLP in PT and perform the *forward pass* (=evaluate the model on a set of data)."
   ]
  },
  {
   "cell_type": "markdown",
   "metadata": {},
   "source": [
    "We can analyse the structure of our MLP by just printing the model"
   ]
  },
  {
   "cell_type": "code",
   "execution_count": null,
   "metadata": {},
   "outputs": [],
   "source": [
    "model = MLP()\n",
    "model"
   ]
  },
  {
   "cell_type": "markdown",
   "metadata": {},
   "source": [
    "although we might wanna have additional informations.\n",
    "\n",
    "There's an additional package, called `torch-summary` which helps us producing more informative and exhaustive model summaries."
   ]
  },
  {
   "cell_type": "code",
   "execution_count": null,
   "metadata": {},
   "outputs": [],
   "source": [
    "import sys\n",
    "!{sys.executable} -m pip install torch-summary\n",
    "from torchsummary import summary"
   ]
  },
  {
   "cell_type": "code",
   "execution_count": null,
   "metadata": {},
   "outputs": [],
   "source": [
    "summary(model)"
   ]
  },
  {
   "cell_type": "markdown",
   "metadata": {},
   "source": [
    "Let us suppose we wish to build a larger model from the graph below.\n",
    "\n",
    "![](img/mlp_graph_larger.jpg)\n",
    "\n",
    "We suppose that\n",
    "\n",
    "1. The layers have no bias units\n",
    "2. The activation function for hidden layers is `ReLU`\n",
    "\n",
    "Moreover, we suppose that this is a classification problem.\n",
    "\n",
    "As you might recall, when the number of classes is > 2, we encode the problem in such a way that the output layer has a no. of neurons corresponding to the no. of classes. Doing so, we establish a correspondence between output units and classes. The value of the $j$-th neuron represents the **confidence** of the network in assigning a given data instance to the $j$-th class.\n",
    "\n",
    "Classically, when the network is encoded in such way, the activation function for the final layer is the **softmax** function.\n",
    "If $C$ is the total number of classes,\n",
    "\n",
    "$softmax(z_j) = \\frac{\\exp(z_j)}{\\sum_{k=1}^C \\exp(z_k)}$\n",
    "\n",
    "where $j\\in \\{1,\\cdots,C\\}$ is one of the classes.\n",
    "\n",
    "If we repeat this calculation for all $j$s, we end up with $C$ normalized values (i.e., between 0 and 1) which can be interpreted as probability that the network assigns the instance to the corresponding class."
   ]
  },
  {
   "cell_type": "code",
   "execution_count": null,
   "metadata": {},
   "outputs": [],
   "source": [
    "# Task: build this network from scratch during class"
   ]
  },
  {
   "cell_type": "code",
   "execution_count": null,
   "metadata": {},
   "outputs": [],
   "source": [
    "# instantiate and summarise"
   ]
  }
 ],
 "metadata": {
  "kernelspec": {
   "display_name": "Python (DL virtualenv)",
   "language": "python",
   "name": "dssc_dl_2021"
  },
  "language_info": {
   "codemirror_mode": {
    "name": "ipython",
    "version": 3
   },
   "file_extension": ".py",
   "mimetype": "text/x-python",
   "name": "python",
   "nbconvert_exporter": "python",
   "pygments_lexer": "ipython3",
   "version": "3.6.9"
  }
 },
 "nbformat": 4,
 "nbformat_minor": 2
}
