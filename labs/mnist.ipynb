{
 "metadata": {
  "language_info": {
   "codemirror_mode": {
    "name": "ipython",
    "version": 3
   },
   "file_extension": ".py",
   "mimetype": "text/x-python",
   "name": "python",
   "nbconvert_exporter": "python",
   "pygments_lexer": "ipython3",
   "version": "3.8.8-final"
  },
  "orig_nbformat": 2,
  "kernelspec": {
   "name": "python3",
   "display_name": "Python 3.8.8 64-bit ('pytorch': conda)",
   "metadata": {
    "interpreter": {
     "hash": "0b44c525ca95e5dbf893da2282eb3ec3f420cb9fa59d94f9af90ca833dc1a37c"
    }
   }
  }
 },
 "nbformat": 4,
 "nbformat_minor": 2,
 "cells": [
  {
   "cell_type": "code",
   "execution_count": 10,
   "metadata": {},
   "outputs": [],
   "source": [
    "import torch\n",
    "from torch import nn\n",
    "from scripts import mnist, train"
   ]
  },
  {
   "cell_type": "code",
   "execution_count": 13,
   "metadata": {},
   "outputs": [],
   "source": [
    "class Net(nn.Module):\n",
    "    def __init__(self):\n",
    "        super().__init__()\n",
    "        self.seq = nn.Sequential(\n",
    "            nn.Flatten(),\n",
    "            nn.Linear(784, 300),\n",
    "            nn.SiLU(),\n",
    "            nn.BatchNorm1d(300),\n",
    "            nn.Linear(300, 300),\n",
    "            nn.SiLU(),\n",
    "            nn.BatchNorm1d(300),\n",
    "            nn.Linear(300, 300),\n",
    "            nn.SiLU(),\n",
    "            nn.BatchNorm1d(300),\n",
    "            nn.Linear(300, 10)\n",
    "        )\n",
    "    def forward(self, x):\n",
    "        return self.seq(x)"
   ]
  },
  {
   "cell_type": "code",
   "execution_count": 19,
   "metadata": {},
   "outputs": [],
   "source": [
    "net = Net()\n",
    "lr = 0.001\n",
    "optim = torch.optim.Adam(net.parameters(), lr=lr)"
   ]
  },
  {
   "cell_type": "code",
   "execution_count": 17,
   "metadata": {},
   "outputs": [],
   "source": [
    "trainloader, testloader , _ , _ = mnist.get_data()\n",
    "loss_fn = nn.CrossEntropyLoss()\n",
    "N = 30\n",
    "scheduler = torch.optim.lr_scheduler.ExponentialLR(optim, gamma=0.1/N)"
   ]
  },
  {
   "cell_type": "code",
   "execution_count": 24,
   "metadata": {},
   "outputs": [
    {
     "output_type": "stream",
     "name": "stdout",
     "text": [
      "Epoch 1 --- learning rate 0.01000\n",
      "Epoch 1 completed. Loss - total: 239.99735281988978 - average: 0.003999955880331496; Performance: 0.9985666666666667\n",
      "Epoch 2 --- learning rate 0.00900\n",
      "Epoch 2 completed. Loss - total: 193.8695738390088 - average: 0.00323115956398348; Performance: 0.9989666666666667\n",
      "Epoch 3 --- learning rate 0.00810\n",
      "Epoch 3 completed. Loss - total: 179.85791432578117 - average: 0.0029976319054296863; Performance: 0.99895\n",
      "Epoch 4 --- learning rate 0.00729\n",
      "Epoch 4 completed. Loss - total: 177.81469136057422 - average: 0.0029635781893429035; Performance: 0.9990833333333333\n",
      "Epoch 5 --- learning rate 0.00656\n",
      "Epoch 5 completed. Loss - total: 147.15052384324372 - average: 0.0024525087307207287; Performance: 0.9992166666666666\n",
      "Epoch 6 --- learning rate 0.00590\n",
      "Epoch 6 completed. Loss - total: 145.72085304756183 - average: 0.0024286808841260305; Performance: 0.9993\n",
      "Epoch 7 --- learning rate 0.00531\n",
      "Epoch 7 completed. Loss - total: 117.41154247289523 - average: 0.0019568590412149204; Performance: 0.9995166666666667\n",
      "Epoch 8 --- learning rate 0.00478\n",
      "Epoch 8 completed. Loss - total: 121.28407187946141 - average: 0.0020214011979910237; Performance: 0.9993833333333333\n",
      "Epoch 9 --- learning rate 0.00430\n",
      "Epoch 9 completed. Loss - total: 132.27581478003412 - average: 0.002204596913000569; Performance: 0.9993\n",
      "Epoch 10 --- learning rate 0.00387\n",
      "Epoch 10 completed. Loss - total: 125.42148006265052 - average: 0.0020903580010441752; Performance: 0.9994166666666666\n"
     ]
    }
   ],
   "source": [
    "optim = torch.optim.SGD(net.parameters(), lr=0.01)\n",
    "scheduler = torch.optim.lr_scheduler.ExponentialLR(optim, gamma=0.9)\n",
    "_ = train.train_model(net, trainloader, loss_fn, optim, num_epochs=10, lr_scheduler=scheduler)"
   ]
  }
 ]
}