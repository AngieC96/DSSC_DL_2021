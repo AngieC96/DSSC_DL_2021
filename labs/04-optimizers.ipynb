{
 "metadata": {
  "language_info": {
   "codemirror_mode": {
    "name": "ipython",
    "version": 3
   },
   "file_extension": ".py",
   "mimetype": "text/x-python",
   "name": "python",
   "nbconvert_exporter": "python",
   "pygments_lexer": "ipython3",
   "version": "3.8.6-final"
  },
  "orig_nbformat": 2,
  "kernelspec": {
   "name": "python3",
   "display_name": "Python 3",
   "language": "python"
  }
 },
 "nbformat": 4,
 "nbformat_minor": 2,
 "cells": [
  {
   "source": [
    "# Deep Learning course - LAB 4\n",
    "\n",
    "## A tour of the optimizers in PyTorch\n",
    "\n"
   ],
   "cell_type": "markdown",
   "metadata": {}
  },
  {
   "source": [
    "### Recap from previous Lab\n",
    "\n",
    "* We experimented with building a Multilayer Perceptron (MLP) trained on the MNIST dataset using _vanilla_ Stochastic Gradient Descent (SGD) and constructing a training loop that lets us track loss and accuracy as training goes on\n",
    "* We saw how we can analyze parameters and gradients of this MLP as training is operated\n",
    "* We explored how to add regularization to our network and loss function to increase generalization or speed up the training\n",
    "\n",
    "### Agenda for today\n",
    "\n",
    "* Today we will be taking a quick tour of the `torch.optim` library, having a look at some optimizers which are more advanced than vanilla SGD\n",
    "* in addition to that, we will be exploring how to toggle the hyperparameters (chiefly, the learning rate) of the optimizer as the training is operated"
   ],
   "cell_type": "markdown",
   "metadata": {}
  },
  {
   "source": [
    "# TODO\n",
    "\n",
    "talk about the effect of the minibatch size as a regularizer"
   ],
   "cell_type": "markdown",
   "metadata": {}
  },
  {
   "cell_type": "code",
   "execution_count": 1,
   "metadata": {},
   "outputs": [],
   "source": [
    "import torch\n",
    "from scripts.architectures import MLP # I have pasted the code for the MLP with regularization in this script, no need to redefine it\n",
    "from scripts.train_utils import AverageMeter, accuracy\n",
    "from scripts import mnist"
   ]
  },
  {
   "source": [
    "### Exploring optimizers in PyTorch\n",
    "\n",
    "PT optimizers can be found in the `torch.optim` library.\n",
    "\n",
    "We'll take a look at some of those, namely:\n",
    "\n",
    "* SGD with momentum\n",
    "* RMSProp\n",
    "* Adam\n",
    "\n",
    "If you're a fan of optimizers, you can yourself have a look at the plethora of optimizers in the `optim` library on the [official docs](https://pytorch.org/docs/stable/optim.html).\n",
    "\n",
    "#### SGD w/ momentum\n",
    "\n",
    "Adding a momentum term helps SGD optimize faster in some situations where the optimum is situated in _valleys_ which are way steeper along sime directions w.r.t. others.\n",
    "\n",
    "![](img/sgd_momentum.jpg)\n",
    "\n",
    "*Image from Deep Learning book (Goodfellow et al.) - chapter 8.3.2*\n",
    "\n",
    "The gradient is updated via the following quantity $\\nu$:\n",
    "\n",
    "$\\mathbf{\\nu} \\leftarrow m\\cdot\\mathbf{\\nu} + \\text{lr} \\cdot \\mathbf{G}$\n",
    "\n",
    "$\\mathbf{\\Theta} \\leftarrow \\mathbf{\\Theta} - \\mathbf{\\nu}$\n",
    "\n",
    "where $\\mathbf{G}$ is the gradient and $m$ is the momentum term (usually picked $\\rightarrow 1$).\n",
    "\n",
    "Actually, SGD with momentum is part of vanilla SGD in PT. Indeed, one of its arguments is `momentum`."
   ],
   "cell_type": "markdown",
   "metadata": {}
  },
  {
   "cell_type": "code",
   "execution_count": 65,
   "metadata": {},
   "outputs": [],
   "source": [
    "lr = .1\n",
    "wd = 5e-4\n",
    "momentum = .9\n",
    "\n",
    "num_epochs = 5\n",
    "\n",
    "loss_fn = torch.nn.CrossEntropyLoss()\n",
    "\n",
    "model = MLP()\n",
    "optimizer = torch.optim.SGD(model.parameters(), lr=lr, weight_decay=wd, momentum=momentum)"
   ]
  },
  {
   "source": [
    "Let us also recover the training and testing routines we defined last lab (without the trajectory):"
   ],
   "cell_type": "markdown",
   "metadata": {}
  },
  {
   "cell_type": "code",
   "execution_count": 2,
   "metadata": {},
   "outputs": [],
   "source": [
    "def train_epoch(model, dataloader, loss_fn, optimizer, loss_meter, performance_meter, performance): # note: I've added a generic performance to replace accuracy\n",
    "    for X, y in dataloader:\n",
    "        # 1. reset the gradients previously accumulated by the optimizer\n",
    "        #    this will avoid re-using gradients from previous loops\n",
    "        optimizer.zero_grad() \n",
    "        # 2. get the predictions from the current state of the model\n",
    "        #    this is the forward pass\n",
    "        y_hat = model(X)\n",
    "        # 3. calculate the loss on the current mini-batch\n",
    "        loss = loss_fn(y_hat, y)\n",
    "        # 4. execute the backward pass given the current loss\n",
    "        loss.backward()\n",
    "        # 5. update the value of the params\n",
    "        optimizer.step()\n",
    "        # 6. calculate the accuracy for this mini-batch\n",
    "        acc = performance(y_hat, y)\n",
    "        # 7. update the loss and accuracy AverageMeter\n",
    "        loss_meter.update(val=loss.item(), n=X.shape[0])\n",
    "        performance_meter.update(val=acc, n=X.shape[0])\n",
    "\n",
    "\n",
    "def train_model(model, dataloader, loss_fn, optimizer, num_epochs, checkpoint_loc=None, checkpoint_name=\"checkpoint.pt\", performance=accuracy):\n",
    "\n",
    "    # create the folder for the checkpoints (if it's not None)\n",
    "    if checkpoint_loc is not None:\n",
    "        os.makedirs(checkpoint_loc, exist_ok=True)\n",
    "    \n",
    "    model.train()\n",
    "\n",
    "    # epoch loop\n",
    "    for epoch in range(num_epochs):\n",
    "        loss_meter = AverageMeter()\n",
    "        performance_meter = AverageMeter()\n",
    "\n",
    "        train_epoch(model, dataloader, loss_fn, optimizer, loss_meter, performance_meter, performance)\n",
    "\n",
    "        print(f\"Epoch {epoch+1} completed. Loss - total: {loss_meter.sum} - average: {loss_meter.avg}; Performance: {performance_meter.avg}\")\n",
    "\n",
    "        # produce checkpoint dictionary -- but only if the name and folder of the checkpoint are not None\n",
    "        if checkpoint_name is not None and checkpoint_loc is not None:\n",
    "            checkpoint_dict = {\n",
    "                \"parameters\": model.state_dict(),\n",
    "                \"optimizer\": optimizer.state_dict(),\n",
    "                \"epoch\": epoch\n",
    "            }\n",
    "            torch.save(checkpoint_dict, os.path.join(checkpoint_loc, checkpoint_name))\n",
    "\n",
    "    return loss_meter.sum, performance_meter.avg\n",
    "\n",
    "def test_model(model, dataloader, performance=accuracy, loss_fn=None):\n",
    "    # create an AverageMeter for the loss if passed\n",
    "    if loss_fn is not None:\n",
    "        loss_meter = AverageMeter()\n",
    "    \n",
    "    performance_meter = AverageMeter()\n",
    "\n",
    "    model.eval()\n",
    "    with torch.no_grad():\n",
    "        for X, y in dataloader:\n",
    "            y_hat = model(X)\n",
    "            loss = loss_fn(y_hat, y) if loss_fn is not None else None\n",
    "            acc = performance(y_hat, y)\n",
    "            if loss_fn is not None:\n",
    "                loss_meter.update(loss.item(), X.shape[0])\n",
    "            performance_meter.update(acc, X.shape[0])\n",
    "    # get final performances\n",
    "    fin_loss = loss_meter.sum if loss_fn is not None else None\n",
    "    fin_perf = performance_meter.avg\n",
    "    print(f\"TESTING - loss {fin_loss if fin_loss is not None else '--'} - performance {fin_perf}\")\n",
    "    return fin_loss, fin_perf"
   ]
  },
  {
   "source": [
    "and recover the data"
   ],
   "cell_type": "markdown",
   "metadata": {}
  },
  {
   "cell_type": "code",
   "execution_count": 67,
   "metadata": {},
   "outputs": [],
   "source": [
    "trainloader, testloader, _, _ = mnist.get_data()"
   ]
  },
  {
   "source": [
    "Let's train the network"
   ],
   "cell_type": "markdown",
   "metadata": {}
  },
  {
   "cell_type": "code",
   "execution_count": 14,
   "metadata": {},
   "outputs": [
    {
     "output_type": "stream",
     "name": "stdout",
     "text": [
      "Epoch 1 completed. Loss - total: 26499.092242240906 - average: 0.44165153737068175; Performance: 0.8647500000317891\n",
      "Epoch 2 completed. Loss - total: 14802.4463763237 - average: 0.246707439605395; Performance: 0.9258000000317892\n",
      "Epoch 3 completed. Loss - total: 13043.869870185852 - average: 0.2173978311697642; Performance: 0.9346833333333333\n",
      "Epoch 4 completed. Loss - total: 11759.672103881836 - average: 0.19599453506469727; Performance: 0.9414\n",
      "Epoch 5 completed. Loss - total: 11193.425158977509 - average: 0.18655708598295848; Performance: 0.9434833333015442\n"
     ]
    },
    {
     "output_type": "error",
     "ename": "NameError",
     "evalue": "name 'trajectory' is not defined",
     "traceback": [
      "\u001b[0;31m---------------------------------------------------------------------------\u001b[0m",
      "\u001b[0;31mNameError\u001b[0m                                 Traceback (most recent call last)",
      "\u001b[0;32m<ipython-input-14-a641dd16d7cb>\u001b[0m in \u001b[0;36m<module>\u001b[0;34m\u001b[0m\n\u001b[0;32m----> 1\u001b[0;31m \u001b[0mtrain_model\u001b[0m\u001b[0;34m(\u001b[0m\u001b[0mmodel\u001b[0m\u001b[0;34m,\u001b[0m \u001b[0mtrainloader\u001b[0m\u001b[0;34m,\u001b[0m \u001b[0mloss_fn\u001b[0m\u001b[0;34m,\u001b[0m \u001b[0moptimizer\u001b[0m\u001b[0;34m,\u001b[0m \u001b[0mnum_epochs\u001b[0m\u001b[0;34m)\u001b[0m\u001b[0;34m\u001b[0m\u001b[0;34m\u001b[0m\u001b[0m\n\u001b[0m",
      "\u001b[0;32m<ipython-input-10-2ae50da05c09>\u001b[0m in \u001b[0;36mtrain_model\u001b[0;34m(model, dataloader, loss_fn, optimizer, num_epochs, checkpoint_loc, checkpoint_name, performance)\u001b[0m\n\u001b[1;32m     46\u001b[0m             \u001b[0mtorch\u001b[0m\u001b[0;34m.\u001b[0m\u001b[0msave\u001b[0m\u001b[0;34m(\u001b[0m\u001b[0mcheckpoint_dict\u001b[0m\u001b[0;34m,\u001b[0m \u001b[0mos\u001b[0m\u001b[0;34m.\u001b[0m\u001b[0mpath\u001b[0m\u001b[0;34m.\u001b[0m\u001b[0mjoin\u001b[0m\u001b[0;34m(\u001b[0m\u001b[0mcheckpoint_loc\u001b[0m\u001b[0;34m,\u001b[0m \u001b[0mcheckpoint_name\u001b[0m\u001b[0;34m)\u001b[0m\u001b[0;34m)\u001b[0m\u001b[0;34m\u001b[0m\u001b[0;34m\u001b[0m\u001b[0m\n\u001b[1;32m     47\u001b[0m \u001b[0;34m\u001b[0m\u001b[0m\n\u001b[0;32m---> 48\u001b[0;31m     \u001b[0;32mreturn\u001b[0m \u001b[0mloss_meter\u001b[0m\u001b[0;34m.\u001b[0m\u001b[0msum\u001b[0m\u001b[0;34m,\u001b[0m \u001b[0mperformance_meter\u001b[0m\u001b[0;34m.\u001b[0m\u001b[0mavg\u001b[0m\u001b[0;34m,\u001b[0m \u001b[0mtrajectory\u001b[0m\u001b[0;34m\u001b[0m\u001b[0;34m\u001b[0m\u001b[0m\n\u001b[0m\u001b[1;32m     49\u001b[0m \u001b[0;34m\u001b[0m\u001b[0m\n\u001b[1;32m     50\u001b[0m \u001b[0;32mdef\u001b[0m \u001b[0mtest_model\u001b[0m\u001b[0;34m(\u001b[0m\u001b[0mmodel\u001b[0m\u001b[0;34m,\u001b[0m \u001b[0mdataloader\u001b[0m\u001b[0;34m,\u001b[0m \u001b[0mperformance\u001b[0m\u001b[0;34m=\u001b[0m\u001b[0maccuracy\u001b[0m\u001b[0;34m,\u001b[0m \u001b[0mloss_fn\u001b[0m\u001b[0;34m=\u001b[0m\u001b[0;32mNone\u001b[0m\u001b[0;34m)\u001b[0m\u001b[0;34m:\u001b[0m\u001b[0;34m\u001b[0m\u001b[0;34m\u001b[0m\u001b[0m\n",
      "\u001b[0;31mNameError\u001b[0m: name 'trajectory' is not defined"
     ]
    }
   ],
   "source": [
    "train_model(model, trainloader, loss_fn, optimizer, num_epochs)"
   ]
  },
  {
   "source": [
    "by adding the momentum term, we already saw a small increase in training accuracy. Let's test"
   ],
   "cell_type": "markdown",
   "metadata": {}
  },
  {
   "cell_type": "code",
   "execution_count": 17,
   "metadata": {},
   "outputs": [
    {
     "output_type": "stream",
     "name": "stdout",
     "text": [
      "TESTING - loss -- - performance 0.9569333333333333\n"
     ]
    },
    {
     "output_type": "execute_result",
     "data": {
      "text/plain": [
       "(None, 0.9569333333333333)"
      ]
     },
     "metadata": {},
     "execution_count": 17
    }
   ],
   "source": [
    "test_model(model, testloader)"
   ]
  },
  {
   "source": [
    "#### RMSProp and the LR sensitivity \"dilemma\"\n",
    "\n",
    "With RMSProp we want to tackle a problem with SGD/SGD+momentum, which is related to the fact that, with SGD, there seems to be a deal of _sensitivity_ towards some specific _directions_ (read, parameters, since each parameter of the model represent a dimension in the optimization space).\n",
    "\n",
    "RMSProp tries to tackle this issue by introducing an _adaptive rule_ for updating the learning rate parameter-wise in each step. \n",
    "In particular:\n",
    "* it keeps track of the _history_ of the squared gradient via an exponentially decaying running average: \n",
    "  $\\mathbf{R} \\leftarrow \\rho\\mathbf{R} + (1-\\rho) \\mathbf{G}^2$\n",
    "  * (the _decay_ is controlled by a hyperparameter $\\rho \\in (0,1)$, usually 0.9)\n",
    "* The parameter update is \n",
    "  * directly proportional to the learning rate\n",
    "  * directly proportional to the gradient for this step\n",
    "  * inversely proportional to the gradient average\n",
    "    * i.e., the direct effect of the gradient is _mitigated_ by dividing it with the accumulated average gradient\n",
    "\n",
    "The formula for the update is:\n",
    "\n",
    "$ \\theta_{t+1} = \\theta_t + \\frac{\\text{lr}}{\\sqrt{\\epsilon + \\mathbf{R}}} \\odot \\mathbf{G}$\n",
    "\n",
    "where:\n",
    "* $\\epsilon$ is a small constant for numerical stability\n",
    "* $\\mathbf{R}$ is the squared gradient running averate (which depends upon $\\rho$)\n",
    "* $\\mathbf{G}$ is the gradient for the current step"
   ],
   "cell_type": "markdown",
   "metadata": {}
  },
  {
   "cell_type": "code",
   "execution_count": 24,
   "metadata": {},
   "outputs": [],
   "source": [
    "model = MLP() # always remember to reinstantiate the net between tries\n",
    "rmsprop = torch.optim.RMSprop(model.parameters()) # let's use the default hyperparams (lr=.01, eps=1e-8)"
   ]
  },
  {
   "cell_type": "code",
   "execution_count": 25,
   "metadata": {},
   "outputs": [
    {
     "output_type": "stream",
     "name": "stdout",
     "text": [
      "Epoch 1 completed. Loss - total: 25307.13468837738 - average: 0.42178557813962303; Performance: 0.8705166666984558\n",
      "Epoch 2 completed. Loss - total: 16272.398222923279 - average: 0.27120663704872133; Performance: 0.9179166666984558\n",
      "Epoch 3 completed. Loss - total: 14396.38200044632 - average: 0.23993970000743867; Performance: 0.9285000000317891\n",
      "Epoch 4 completed. Loss - total: 13521.132495880127 - average: 0.22535220826466879; Performance: 0.9339333333651225\n",
      "Epoch 5 completed. Loss - total: 12783.330872535706 - average: 0.21305551454226176; Performance: 0.9366666666666666\n",
      "TESTING - loss -- - performance 0.9390000000317892\n"
     ]
    },
    {
     "output_type": "execute_result",
     "data": {
      "text/plain": [
       "(None, 0.9390000000317892)"
      ]
     },
     "metadata": {},
     "execution_count": 25
    }
   ],
   "source": [
    "train_model(model, trainloader, loss_fn, rmsprop, num_epochs)\n",
    "test_model(model, testloader)"
   ]
  },
  {
   "source": [
    "#### ADAM\n",
    "\n",
    "Adam is an extension to RMSProp where we try to implement momentum-like mechanics as well.\n",
    "\n",
    "Instead of adding one single momentum term, though, we add two of them:\n",
    "\n",
    "$\\mathbf{M} \\leftarrow (\\beta_1 \\mathbf{M} + (1 - \\beta_1)\\mathbf{G})~/~(1-\\beta_1^t)$\n",
    "\n",
    "$\\mathbf{V} \\leftarrow (\\beta_2 \\mathbf{V} + (1 - \\beta_2)\\mathbf{G}^2)~/~(1-\\beta_2^t)$\n",
    "\n",
    "where $t$ is the training iteration.\n",
    "\n",
    "The two terms are running averages (with a so called *bias correction* at the denominator) of the gradient and its square respectively.\n",
    "\n",
    "These terms are then incorporated into the parameters update formula:\n",
    "\n",
    "$\\mathbf{\\Theta} \\leftarrow \\mathbf{\\Theta} + \\frac{\\text{lr}}{\\sqrt{\\mathbf{V}} + \\epsilon} \\cdot \\mathbf{G}$\n",
    "\n",
    "Notice the similarities between Adam and RMSProp."
   ],
   "cell_type": "markdown",
   "metadata": {}
  },
  {
   "cell_type": "code",
   "execution_count": 4,
   "metadata": {},
   "outputs": [],
   "source": [
    "model = MLP()\n",
    "adam = torch.optim.Adam(model.parameters()) # we keep the default hyperparameters"
   ]
  },
  {
   "cell_type": "code",
   "execution_count": 34,
   "metadata": {},
   "outputs": [
    {
     "output_type": "stream",
     "name": "stdout",
     "text": [
      "Epoch 1 completed. Loss - total: 48566.915053367615 - average: 0.8094485842227935; Performance: 0.8016000000317891\n",
      "Epoch 2 completed. Loss - total: 18961.944045066833 - average: 0.3160324007511139; Performance: 0.9128166666666667\n",
      "Epoch 3 completed. Loss - total: 15120.141127586365 - average: 0.2520023521264394; Performance: 0.9276666666348775\n",
      "Epoch 4 completed. Loss - total: 13185.002179145813 - average: 0.21975003631909687; Performance: 0.9350666666348775\n",
      "Epoch 5 completed. Loss - total: 12003.2468252182 - average: 0.2000541137536367; Performance: 0.9411\n",
      "TESTING - loss -- - performance 0.9559833333651224\n"
     ]
    },
    {
     "output_type": "execute_result",
     "data": {
      "text/plain": [
       "(None, 0.9559833333651224)"
      ]
     },
     "metadata": {},
     "execution_count": 34
    }
   ],
   "source": [
    "train_model(model, trainloader, loss_fn, adam, num_epochs)\n",
    "test_model(model, testloader)"
   ]
  },
  {
   "source": [
    "The literature is loaded with SGD variants for optimization: Adagrad, AdaMax, Nadam, AdamW... You can use one of them of your own choice in your exercises, (provided you can explain the concept behind it during the exam).\n",
    "\n",
    "#### Additional reading\n",
    "\n",
    "If you're interested in SGD variants, you may check out [this blog post](https://ruder.io/optimizing-gradient-descent/index.html) which, in my opinion, does a good job in summarising and presenting recent work in the field."
   ],
   "cell_type": "markdown",
   "metadata": {}
  },
  {
   "source": [
    "## Modifying the optimizer hyperparameters\n",
    "\n",
    "One thing we might be interested in doing is to modify the hyperparameters of our optimizer mid-training.\n",
    "\n",
    "The parameters of the optimizer are contained:\n",
    "* in its `state_dict`\n",
    "* under the `param_groups`\n",
    "\n",
    "we will see how to work with the latter.\n"
   ],
   "cell_type": "markdown",
   "metadata": {}
  },
  {
   "cell_type": "code",
   "execution_count": 14,
   "metadata": {},
   "outputs": [
    {
     "output_type": "stream",
     "name": "stdout",
     "text": [
      "<class 'list'>\n1\n"
     ]
    }
   ],
   "source": [
    "print(type(optimizer.param_groups))\n",
    "print(len(optimizer.param_groups))"
   ]
  },
  {
   "source": [
    "The `param_groups` represent groups of parameters for which given conditions apply.\n",
    "\n",
    "Here we have only one group, corresponding to the params of our MLP network.\n",
    "\n",
    "Let us see how this group is composed:"
   ],
   "cell_type": "markdown",
   "metadata": {}
  },
  {
   "cell_type": "code",
   "execution_count": 17,
   "metadata": {},
   "outputs": [
    {
     "output_type": "stream",
     "name": "stdout",
     "text": [
      "<class 'dict'>\ndict_keys(['params', 'lr', 'momentum', 'dampening', 'weight_decay', 'nesterov'])\n"
     ]
    }
   ],
   "source": [
    "print(type(optimizer.param_groups[0]))\n",
    "print(optimizer.param_groups[0].keys())"
   ]
  },
  {
   "source": [
    "To the surprise of no-one, the parameters of the MLP are stored under the `params` key.\n",
    "\n",
    "The other keys represent the _conditions_ that apply to these parameter group.\n",
    "\n",
    "Toggling one of these hyperparameters can be done in that way."
   ],
   "cell_type": "markdown",
   "metadata": {}
  },
  {
   "cell_type": "code",
   "execution_count": null,
   "metadata": {},
   "outputs": [],
   "source": [
    "optimizer.param_groups[0][\"momentum\"] = 0.8 # -> from now on, the momentum will be decreased a little bit"
   ]
  },
  {
   "source": [
    "even if it's better to be general: if we're willing to do a global update for that optimizer, we better do it for all groups."
   ],
   "cell_type": "markdown",
   "metadata": {}
  },
  {
   "cell_type": "code",
   "execution_count": 18,
   "metadata": {},
   "outputs": [
    {
     "output_type": "error",
     "ename": "SyntaxError",
     "evalue": "invalid syntax (<ipython-input-18-f274e606b070>, line 1)",
     "traceback": [
      "\u001b[0;36m  File \u001b[0;32m\"<ipython-input-18-f274e606b070>\"\u001b[0;36m, line \u001b[0;32m1\u001b[0m\n\u001b[0;31m    _ = [pg[\"momentum\"]=0.8 for pg in optimizer.param_groups]\u001b[0m\n\u001b[0m                       ^\u001b[0m\n\u001b[0;31mSyntaxError\u001b[0m\u001b[0;31m:\u001b[0m invalid syntax\n"
     ]
    }
   ],
   "source": [
    "for pg in optimizer.param_groups:\n",
    "    pg[\"momentum\"] = .8"
   ]
  },
  {
   "source": [
    "Let us suppose we wish to use a different momentum or learning rate for each layer"
   ],
   "cell_type": "markdown",
   "metadata": {}
  },
  {
   "cell_type": "code",
   "execution_count": 45,
   "metadata": {},
   "outputs": [],
   "source": [
    "optimizer_diff = torch.optim.SGD(\n",
    "    [\n",
    "        {\"params\": mlp.layers[:6].parameters()},\n",
    "        {\"params\": mlp.layers[6:].parameters()}\n",
    "    ],\n",
    "    lr=.1, weight_decay=5e-4, momentum=.9\n",
    ")"
   ]
  },
  {
   "source": [
    "We have split the params of our MLP in two groups (the first 6 layers and the remaining ones). Let's check that we have >1 `param_group`"
   ],
   "cell_type": "markdown",
   "metadata": {}
  },
  {
   "cell_type": "code",
   "execution_count": 46,
   "metadata": {},
   "outputs": [
    {
     "output_type": "execute_result",
     "data": {
      "text/plain": [
       "2"
      ]
     },
     "metadata": {},
     "execution_count": 46
    }
   ],
   "source": [
    "len(optimizer_diff.param_groups)"
   ]
  },
  {
   "source": [
    "Now, suppose we might want to have a different weight decay in the second group: we only need to toggle it."
   ],
   "cell_type": "markdown",
   "metadata": {}
  },
  {
   "cell_type": "code",
   "execution_count": 47,
   "metadata": {},
   "outputs": [],
   "source": [
    "optimizer_diff.param_groups[1][\"weight_decay\"] = 1e-3"
   ]
  },
  {
   "cell_type": "code",
   "execution_count": 51,
   "metadata": {},
   "outputs": [
    {
     "output_type": "stream",
     "name": "stdout",
     "text": [
      "lr \t 0.1\nmomentum \t 0.9\ndampening \t 0\nweight_decay \t 0.05\nnesterov \t False\nlr \t 0.1\nmomentum \t 0.9\ndampening \t 0\nweight_decay \t 0.001\nnesterov \t False\n"
     ]
    }
   ],
   "source": [
    "_ = [[print(hyp, \"\\t\", val) for hyp, val in pg.items() if hyp!=\"params\"] for pg in optimizer_diff.param_groups]"
   ]
  },
  {
   "source": [
    "We also could've done this like so:"
   ],
   "cell_type": "markdown",
   "metadata": {}
  },
  {
   "cell_type": "code",
   "execution_count": 61,
   "metadata": {},
   "outputs": [
    {
     "output_type": "stream",
     "name": "stdout",
     "text": [
      "weight_decay \t 0.0005\nlr \t 0.1\nmomentum \t 0.9\ndampening \t 0\nnesterov \t False\nweight_decay \t 0.001\nlr \t 0.1\nmomentum \t 0.9\ndampening \t 0\nnesterov \t False\n"
     ]
    }
   ],
   "source": [
    "optimizer_diff = torch.optim.SGD(\n",
    "    [\n",
    "        {\"params\": mlp.layers[:6].parameters(), \"weight_decay\": 5e-4},\n",
    "        {\"params\": mlp.layers[6:].parameters(), \"weight_decay\": 1e-3}\n",
    "    ],\n",
    "     momentum=.9, lr=.1\n",
    ")\n",
    "\n",
    "_ = [[print(hyp, \"\\t\", val) for hyp, val in pg.items() if hyp!=\"params\"] for pg in optimizer_diff.param_groups]"
   ]
  },
  {
   "source": [
    "### The Learning Rate dilemma in Deep Learning\n",
    "\n",
    "static nature of the learning rate (LR):\n",
    "* if the LR is too high, we'll notice a sharp increase in accuracy with a relatively quick plateu corresponding to non-optimal solutions.\n",
    "  * this is because we'll likely miss local optima because our step in the parameter space is too large\n",
    "* if the LR is too low, training will be excruciatingly low and we'll likely get stuck in very bad local optima, being unable to get out of them because the step in the parameter space is too low to get out of these _valleys_\n",
    "\n",
    "An _ideal_ solution would be to keep a _high enough_ LR until we find a _good enough_ portion of the parameter space, then decrease progressively the LR in order to carefully explore these areas for good optima.\n",
    "\n",
    "Mid-training learning rate toggling is called in a variety of terms: **learning rate decay**, **learning rate annealing**, **learning rate scheduling**...\n",
    "\n",
    "The simplest idea to implement this is a **stepwise** learning rate annealing:\n",
    "\n",
    "![](https://miro.medium.com/max/864/1*VQkTnjr2VJOz0R2m4hDucQ.jpeg)\n",
    "\n",
    "*picture from [towardsdatascience.com](https://towardsdatascience.com/learning-rate-schedules-and-adaptive-learning-rate-methods-for-deep-learning-2c8f433990d1?gi=aea0860a2f14).*\n",
    "\n",
    "In our MLP trained with SGD + momentum, we wish to train for 15 epochs and decrease the lr by a factor of 1/10 **before** epoch 7 and 12.\n",
    "\n",
    "Let us recover our training loop and update it accordingly:"
   ],
   "cell_type": "markdown",
   "metadata": {}
  },
  {
   "cell_type": "code",
   "execution_count": null,
   "metadata": {},
   "outputs": [],
   "source": [
    "def train_model(model, dataloader, loss_fn, optimizer, num_epochs, checkpoint_loc=None, checkpoint_name=\"checkpoint.pt\", performance=accuracy):\n",
    "\n",
    "    # create the folder for the checkpoints (if it's not None)\n",
    "    if checkpoint_loc is not None:\n",
    "        os.makedirs(checkpoint_loc, exist_ok=True)\n",
    "    \n",
    "    model.train()\n",
    "\n",
    "    # epoch loop\n",
    "    for epoch in range(num_epochs):\n",
    "        ### UPDATE HERE THE LOOP ###\n",
    "\n",
    "        ############################\n",
    "\n",
    "        loss_meter = AverageMeter()\n",
    "        performance_meter = AverageMeter()\n",
    "\n",
    "        train_epoch(model, dataloader, loss_fn, optimizer, loss_meter, performance_meter, performance)\n",
    "\n",
    "        print(f\"Epoch {epoch+1} completed. Loss - total: {loss_meter.sum} - average: {loss_meter.avg}; Performance: {performance_meter.avg}\")\n",
    "\n",
    "        # produce checkpoint dictionary -- but only if the name and folder of the checkpoint are not None\n",
    "        if checkpoint_name is not None and checkpoint_loc is not None:\n",
    "            checkpoint_dict = {\n",
    "                \"parameters\": model.state_dict(),\n",
    "                \"optimizer\": optimizer.state_dict(),\n",
    "                \"epoch\": epoch\n",
    "            }\n",
    "            torch.save(checkpoint_dict, os.path.join(checkpoint_loc, checkpoint_name))\n",
    "\n",
    "    return loss_meter.sum, performance_meter.avg"
   ]
  },
  {
   "source": [
    "PyTorch has a tool additional to the optimizer, the **`lr_scheduler`**.\n",
    "\n",
    "The closest thing to the one above is the **StepLR**, which decays the lr by `gamma` each `step_size` epochs."
   ],
   "cell_type": "markdown",
   "metadata": {}
  },
  {
   "cell_type": "code",
   "execution_count": 78,
   "metadata": {},
   "outputs": [],
   "source": [
    "model = MLP()"
   ]
  },
  {
   "cell_type": "code",
   "execution_count": 79,
   "metadata": {},
   "outputs": [],
   "source": [
    "optimizer = torch.optim.SGD(model.parameters(), lr=.1, weight_decay=5e-4, momentum=.9)\n",
    "\n",
    "scheduler = torch.optim.lr_scheduler.StepLR(optimizer, step_size=5, gamma=.1)"
   ]
  },
  {
   "cell_type": "code",
   "execution_count": 80,
   "metadata": {},
   "outputs": [],
   "source": [
    "def train_model(model, dataloader, loss_fn, optimizer, num_epochs, checkpoint_loc=None, checkpoint_name=\"checkpoint.pt\", performance=accuracy, lr_scheduler=None, epoch_start_scheduler=1):\n",
    "    # added lr_scheduler\n",
    "\n",
    "    # create the folder for the checkpoints (if it's not None)\n",
    "    if checkpoint_loc is not None:\n",
    "        os.makedirs(checkpoint_loc, exist_ok=True)\n",
    "    \n",
    "    model.train()\n",
    "\n",
    "    # epoch loop\n",
    "    for epoch in range(num_epochs):\n",
    "\n",
    "        loss_meter = AverageMeter()\n",
    "        performance_meter = AverageMeter()\n",
    "\n",
    "        # added print for LR\n",
    "        print(f\"Epoch {epoch+1} --- learning rate {optimizer.param_groups[0]['lr']:.5f}\")\n",
    "\n",
    "        train_epoch(model, dataloader, loss_fn, optimizer, loss_meter, performance_meter, performance)\n",
    "\n",
    "        print(f\"Epoch {epoch+1} completed. Loss - total: {loss_meter.sum} - average: {loss_meter.avg}; Performance: {performance_meter.avg}\")\n",
    "\n",
    "        # produce checkpoint dictionary -- but only if the name and folder of the checkpoint are not None\n",
    "        if checkpoint_name is not None and checkpoint_loc is not None:\n",
    "            checkpoint_dict = {\n",
    "                \"parameters\": model.state_dict(),\n",
    "                \"optimizer\": optimizer.state_dict(),\n",
    "                \"epoch\": epoch\n",
    "            }\n",
    "            torch.save(checkpoint_dict, os.path.join(checkpoint_loc, checkpoint_name))\n",
    "        \n",
    "        if lr_scheduler is not None:\n",
    "            if epoch >= epoch_start_scheduler:\n",
    "                lr_scheduler.step()\n",
    "\n",
    "    return loss_meter.sum, performance_meter.avg"
   ]
  },
  {
   "cell_type": "code",
   "execution_count": 81,
   "metadata": {},
   "outputs": [
    {
     "output_type": "stream",
     "name": "stdout",
     "text": [
      "Epoch 1 --- learning rate 0.10000\n",
      "Epoch 1 completed. Loss - total: 26423.32963657379 - average: 0.44038882727622986; Performance: 0.8645166666984558\n",
      "Epoch 2 --- learning rate 0.10000\n",
      "Epoch 2 completed. Loss - total: 14970.883371829987 - average: 0.2495147228638331; Performance: 0.9253499999682109\n",
      "Epoch 3 --- learning rate 0.10000\n",
      "Epoch 3 completed. Loss - total: 13198.945890903473 - average: 0.2199824315150579; Performance: 0.93385\n",
      "Epoch 4 --- learning rate 0.10000\n",
      "Epoch 4 completed. Loss - total: 12233.711651325226 - average: 0.20389519418875376; Performance: 0.9381333333651225\n",
      "Epoch 5 --- learning rate 0.10000\n",
      "Epoch 5 completed. Loss - total: 11651.040762901306 - average: 0.19418401271502178; Performance: 0.9421666666666667\n",
      "Epoch 6 --- learning rate 0.10000\n",
      "Epoch 6 completed. Loss - total: 11336.593544483185 - average: 0.18894322574138642; Performance: 0.9433333333333334\n",
      "Epoch 7 --- learning rate 0.01000\n",
      "Epoch 7 completed. Loss - total: 9255.401719331741 - average: 0.15425669532219569; Performance: 0.9542333333651225\n",
      "Epoch 8 --- learning rate 0.01000\n",
      "Epoch 8 completed. Loss - total: 8531.393698215485 - average: 0.14218989497025808; Performance: 0.9569166666984558\n",
      "Epoch 9 --- learning rate 0.01000\n",
      "Epoch 9 completed. Loss - total: 8149.136192083359 - average: 0.13581893653472266; Performance: 0.9594\n",
      "Epoch 10 --- learning rate 0.01000\n",
      "Epoch 10 completed. Loss - total: 8034.009197950363 - average: 0.1339001532991727; Performance: 0.9602333333015441\n",
      "Epoch 11 --- learning rate 0.01000\n",
      "Epoch 11 completed. Loss - total: 7930.209679603577 - average: 0.13217016132672627; Performance: 0.9599999999682108\n",
      "Epoch 12 --- learning rate 0.00100\n",
      "Epoch 12 completed. Loss - total: 7627.4916043281555 - average: 0.12712486007213591; Performance: 0.9621833333333333\n",
      "Epoch 13 --- learning rate 0.00100\n",
      "Epoch 13 completed. Loss - total: 7537.748771905899 - average: 0.12562914619843166; Performance: 0.9624833333651225\n",
      "Epoch 14 --- learning rate 0.00100\n",
      "Epoch 14 completed. Loss - total: 7591.314327716827 - average: 0.1265219054619471; Performance: 0.9623833333333334\n",
      "Epoch 15 --- learning rate 0.00100\n",
      "Epoch 15 completed. Loss - total: 7536.799172639847 - average: 0.12561331954399746; Performance: 0.9616666666348775\n"
     ]
    },
    {
     "output_type": "execute_result",
     "data": {
      "text/plain": [
       "(7536.799172639847, 0.9616666666348775)"
      ]
     },
     "metadata": {},
     "execution_count": 81
    }
   ],
   "source": [
    "train_model(model, trainloader, loss_fn, optimizer, 15, lr_scheduler=scheduler)"
   ]
  },
  {
   "cell_type": "code",
   "execution_count": 82,
   "metadata": {},
   "outputs": [
    {
     "output_type": "stream",
     "name": "stdout",
     "text": [
      "TESTING - loss -- - performance 0.9732333333015442\n"
     ]
    },
    {
     "output_type": "execute_result",
     "data": {
      "text/plain": [
       "(None, 0.9732333333015442)"
      ]
     },
     "metadata": {},
     "execution_count": 82
    }
   ],
   "source": [
    "test_model(model, testloader)"
   ]
  },
  {
   "source": [
    "#### Other techniques\n",
    "\n",
    "1. Exponential Annealing\n",
    "\n",
    "![](https://miro.medium.com/max/432/1*iSZv0xuVCsCCK7Z4UiXf2g.jpeg)\n",
    "\n",
    "*picture from [towardsdatascience.com](towardsdatascience.com).*\n",
    "\n",
    "2. Cosine Annealing\n",
    "\n",
    "![](https://miro.medium.com/max/1266/1*2NAuh6DbcrrMv4Voq5yG9A.png)\n",
    "\n",
    "*picture from [towardsdatascience.com](towardsdatascience.com).*\n",
    "\n",
    "3. Triangular Annealing\n",
    "\n",
    "![](img/lr_tri.jpg)\n",
    "\n",
    "*picture from [Universal Language Model Fine-tuning for Text Classification](https://arxiv.org/pdf/1801.06146.pdf).*\n"
   ],
   "cell_type": "markdown",
   "metadata": {}
  },
  {
   "source": [
    "#### Warm-up\n",
    "\n",
    "Warm-up is a techinque which is centered on the idea that, before we start the actual training, the network has to be _warmed-up_ with some iterations of training at an ever-increasing LR, till we hit the target LR $\\eta$.\n",
    "\n",
    "A simple implementation of this (which resembles the ascending phase of the triangular schedule above) could be to:\n",
    "* warm up for $U$ iterations\n",
    "* increase the LR by a fraction $\\frac{\\eta}{U}$.\n",
    "\n",
    "So, at iteration $u\\in\\{1,\\dots,U\\}$, the LR is $u\\frac{\\eta}{U}$.\n",
    "\n",
    "Hence, the triangular annealing above could be thought of as a composition of\n",
    "\n",
    "1. Linear warm-up, and\n",
    "2. Linear annealing"
   ],
   "cell_type": "markdown",
   "metadata": {}
  },
  {
   "source": [
    "#### LR schedule cycling\n",
    "\n",
    "The aforementioned schedules can be cycled multiple times during the same training, giving rise to shapes like the following:\n",
    "\n",
    "![](https://miro.medium.com/max/890/1*xaQVSxG_13E7ZhwPPvPNhw.png)\n",
    "\n",
    "*picture from [towardsdatascience.com](towardsdatascience.com)*\n",
    "\n",
    "![](https://pyimagesearch.com/wp-content/uploads/2019/07/keras_clr_triangular.png)\n",
    "\n",
    "*picture from [pyimagesearch.com](https://www.pyimagesearch.com/2019/07/29/cyclical-learning-rates-with-keras-and-deep-learning/)*\n",
    "\n",
    "This, coupled with $E_{opt}$ early stopping, might actually give the optimizer multiple end points from which to choose our best model. Each time the LR gets \"bumped up\", we get a \"fresh restart\" from a possibly more favorable initialization, in the hope of getting closer and closer to a good local optimum.\n",
    "\n",
    "On to something a bit more complex:\n",
    "\n",
    "![](https://www.pyimagesearch.com/wp-content/uploads/2019/07/keras_clr_exp_range.png)\n",
    "\n",
    "*picture from [pyimagesearch.com](https://www.pyimagesearch.com/2019/07/29/cyclical-learning-rates-with-keras-and-deep-learning/)*\n",
    "\n",
    "the maximum LR gets decayed as well in a \"logarithmic\" way. We can have a similar figure with the cosine annealing as well.\n",
    "\n",
    "Further watch (a bit older, from 2018): [2](https://www.youtube.com/watch?v=kbe_tNGoBHI)\n",
    "\n",
    "Further read, an argument proposing an alternative to LR annealing: [Don't Decay the Learning Rate, Increase the Batch Size](https://arxiv.org/abs/1711.00489)\n"
   ],
   "cell_type": "markdown",
   "metadata": {}
  },
  {
   "source": [
    "#### Homework\n",
    "\n",
    "1. Now that you have all the tools to train an MLP with high performance on MNIST, try reaching 0-loss on the training data (with a small epsilon -- don't worry if you overfit!).\n",
    "The implementation is completely up to you. You just need to keep it an MLP without using fancy layers (e.g., keep the `Linear` layers, don't go into `Conv1d` or somthing like this). You are free to use any LR scheduler or optimizer, any one of batchnorm/groupnorm, regularization methods... If you use something we haven't seen during lectures, please motivate your choice and explain (as briefly as possible) how it works.\n",
    "2. Try reaching 0-loss on the training data with **permuted labels**. Assess the model on the test data (without permuted labels) and comment. Help yourself with [3](https://arxiv.org/abs/1611.03530).\n",
    "*Tip*: To permute the labels, act on the `trainset.targets` with an appropriate torch function.\n",
    "Then, you can pass this \"permuted\" `Dataset` to a `DataLoader` like so: `trainloader_permuted = torch.utils.data.DataLoader(trainset_permuted, batch_size=batch_size_train, shuffle=True)`. You can now use this `DataLoader` inside the training function.\n",
    "Additional view: [\"The statistical significance perfect linear separation\", by Jared Tanner (Oxford U.)](https://www.youtube.com/watch?v=vl2QsVWEqdA)."
   ],
   "cell_type": "markdown",
   "metadata": {}
  },
  {
   "source": [
    "### References\n",
    "\n",
    "[1](https://www.deeplearningbook.org/) LeCun, Y., Bengio, Y., & Hinton, G. (2015). Deep learning. nature, 521(7553), 436-444.\n",
    "\n",
    "[2](https://www.youtube.com/watch?v=kbe_tNGoBHI) State-of-the-art Learning Rate Schedules. Apache MXNet. YouTube.\n",
    "\n",
    "[3](https://arxiv.org/abs/1611.03530) Zhang, C., Bengio, S., Hardt, M., Recht, B., & Vinyals, O. (2016). Understanding deep learning requires rethinking generalization.\n"
   ],
   "cell_type": "markdown",
   "metadata": {}
  }
 ]
}