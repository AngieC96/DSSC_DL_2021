{
 "metadata": {
  "language_info": {
   "codemirror_mode": {
    "name": "ipython",
    "version": 3
   },
   "file_extension": ".py",
   "mimetype": "text/x-python",
   "name": "python",
   "nbconvert_exporter": "python",
   "pygments_lexer": "ipython3",
   "version": "3.8.6-final"
  },
  "orig_nbformat": 2,
  "kernelspec": {
   "name": "python38664bitlotteryce31c0a482d54873875cc8eb2d66ce61",
   "display_name": "Python 3.8.6 64-bit ('lottery')",
   "language": "python"
  }
 },
 "nbformat": 4,
 "nbformat_minor": 2,
 "cells": [
  {
   "source": [
    "# Extra lab 1 - Basics of Autograd in Python\n",
    "\n",
    "In this extra laboratory, we will learn a few concepts about autograd in PyTorch and how to build modules with a custom backward pass."
   ],
   "cell_type": "markdown",
   "metadata": {}
  },
  {
   "source": [
    "## Building a custom non-parametric module\n",
    "\n",
    "Basically, we want to create a module which is not controlled by any parameter, be it trainable or non-trainable.\n",
    "\n",
    "As an example, we might have the Leaky ReLU, an activation function which can be used in place of the more-known ReLU.\n",
    "\n",
    "$\\text{Leaky_ReLU} = \\max\\{0.01\\cdot x, x\\}$\n",
    "\n",
    "![](https://i1.wp.com/clay-atlas.com/wp-content/uploads/2019/10/image-37.png?resize=640%2C480&ssl=1)\n",
    "\n",
    "We could do it with the basic PyTorch Tensor methods, like we did at the end of Lab2. Suppose though that, for any reason, we did not have an automatic gradient calculation: we would need to build an autograd Function to implement our Leaky ReLU."
   ],
   "cell_type": "markdown",
   "metadata": {}
  },
  {
   "cell_type": "code",
   "execution_count": 51,
   "metadata": {},
   "outputs": [],
   "source": [
    "import torch\n",
    "from matplotlib import pyplot as plt"
   ]
  },
  {
   "source": [
    "An autograd Function inherits from `torch.autograd.Function` and has two compulsory methods: `forward` and `backward`, whose meaning should be obvious to all.\n",
    "\n",
    "Both functions have a compulsory first argument which is the **context**, `ctx` for brevity.\n",
    "From the context we can infer informations about the entities involved in the calculation of the gradient.\n",
    "The context is built upon calling the `forward` method, so that, during the `backward` call, we can obtain the info such what tensors have been used in `forward` and whether a tensor requires or not the grad.\n",
    "\n",
    "Moreover, the backward method needs an additional argument, `output_grad`, which conveys information about the gradient which is _entering_ the Function (be mindful, we're running _backward_, so a gradient _enters the function_ upstream w.r.t. the forward pass)."
   ],
   "cell_type": "markdown",
   "metadata": {}
  },
  {
   "cell_type": "code",
   "execution_count": 2,
   "metadata": {},
   "outputs": [],
   "source": [
    "class LeakyReLU_Fun(torch.autograd.Function):\n",
    "    @staticmethod # mind the decorator\n",
    "    def forward(ctx, input_):\n",
    "        ctx.save_for_backward(input_) # the parameters that will be involved in the gradient\n",
    "        return torch.max(input_, input_ * 0.01)\n",
    "    \n",
    "    @staticmethod\n",
    "    def backward(ctx, grad_output):\n",
    "        input_, = ctx.saved_tensors # these are the variables which we need to backpropagate the gradient to (only the input)\n",
    "        # the gradient is 1 for positive x's, 0.01 for negative x's\n",
    "        grad_input = torch.ones_like(input_)\n",
    "        grad_input[input_<0] = 0.01\n",
    "        # now, we need to rescale for the grad_output\n",
    "        grad_input *= grad_output\n",
    "        '''\n",
    "        a valid alternative (maybe better performing?):\n",
    "        grad_input = grad_output.clone()\n",
    "        grad_input[input_<0] *= 0.01\n",
    "        '''\n",
    "        return grad_input\n",
    "        "
   ]
  },
  {
   "cell_type": "code",
   "execution_count": 4,
   "metadata": {},
   "outputs": [
    {
     "output_type": "stream",
     "name": "stdout",
     "text": [
      "tensor([0.0100, 0.0100, 0.0100, 0.0100, 0.0100, 1.0000, 1.0000, 1.0000, 1.0000,\n        1.0000, 1.0000])\n"
     ]
    }
   ],
   "source": [
    "fun = LeakyReLU_Fun.apply\n",
    "x = torch.linspace(-5,5,11, requires_grad=True)\n",
    "y = fun(x)\n",
    "z = y.sum()\n",
    "z.backward()"
   ]
  },
  {
   "cell_type": "code",
   "execution_count": 5,
   "metadata": {},
   "outputs": [
    {
     "output_type": "execute_result",
     "data": {
      "text/plain": [
       "tensor([0.0100, 0.0100, 0.0100, 0.0100, 0.0100, 1.0000, 1.0000, 1.0000, 1.0000,\n",
       "        1.0000, 1.0000])"
      ]
     },
     "metadata": {},
     "execution_count": 5
    }
   ],
   "source": [
    "x.grad"
   ]
  },
  {
   "cell_type": "code",
   "execution_count": 6,
   "metadata": {},
   "outputs": [],
   "source": [
    "class LeakyReLU(torch.nn.Module):\n",
    "    def __init__(self):\n",
    "        super().__init__()\n",
    "    \n",
    "    def forward(self, X):\n",
    "        return LeakyReLU_Fun.apply(X)"
   ]
  },
  {
   "cell_type": "code",
   "execution_count": 8,
   "metadata": {},
   "outputs": [
    {
     "output_type": "execute_result",
     "data": {
      "text/plain": [
       "tensor([-0.0500, -0.0400, -0.0300, -0.0200, -0.0100,  0.0000,  1.0000,  2.0000,\n",
       "         3.0000,  4.0000,  5.0000], grad_fn=<LeakyReLU_FunBackward>)"
      ]
     },
     "metadata": {},
     "execution_count": 8
    }
   ],
   "source": [
    "LeakyReLU()(x)"
   ]
  },
  {
   "source": [
    "## Building a custom parametric module\n",
    "\n",
    "We wish to extend our Leaky ReLU module to the Parametric ReLU: $\\text{Param_ReLU} = \\max\\{\\alpha\\cdot x, x\\}, x \\in [0,1)$.\n",
    "\n",
    "![](https://pytorch.org/docs/stable/_images/PReLU.png)\n",
    "\n",
    "Parametric ReLU with $\\alpha=0.25$"
   ],
   "cell_type": "markdown",
   "metadata": {}
  },
  {
   "cell_type": "code",
   "execution_count": 39,
   "metadata": {},
   "outputs": [],
   "source": [
    "class ParamReLU_Fun(torch.autograd.Function):\n",
    "    @staticmethod # mind the decorator\n",
    "    def forward(ctx, input_, alpha:float):\n",
    "        assert alpha >= 0 and alpha < 1, f\"alpha should be >= 0 and < 1. Found {alpha}.\"\n",
    "        ctx.save_for_backward(input_) # the parameters that will be involved in the gradient\n",
    "        ctx.alpha = alpha # note that we don't use self.alpha\n",
    "        return torch.max(input_, input_ * alpha)\n",
    "    \n",
    "    @staticmethod\n",
    "    def backward(ctx, grad_output):\n",
    "        input_, = ctx.saved_tensors # these are the variables which we need to backpropagate the gradient to (only the input)\n",
    "        grad_input = grad_output.clone()\n",
    "        grad_input[input_<0] *= ctx.alpha\n",
    "        return grad_input, None"
   ]
  },
  {
   "cell_type": "code",
   "execution_count": 36,
   "metadata": {},
   "outputs": [],
   "source": [
    "class ParamReLU(torch.nn.Module):\n",
    "    def __init__(self, alpha):\n",
    "        super().__init__()\n",
    "        self.alpha = alpha\n",
    "    \n",
    "    def forward(self, X):\n",
    "        return ParamReLU_Fun.apply(X, self.alpha)"
   ]
  },
  {
   "cell_type": "code",
   "execution_count": 38,
   "metadata": {},
   "outputs": [
    {
     "output_type": "stream",
     "name": "stdout",
     "text": [
      "tensor([-5., -4., -3., -2., -1.,  0.,  1.,  2.,  3.,  4.,  5.],\n       requires_grad=True)\ntensor([0.2500, 0.2500, 0.2500, 0.2500, 0.2500, 1.0000, 1.0000, 1.0000, 1.0000,\n        1.0000, 1.0000])\n"
     ]
    }
   ],
   "source": [
    "prelu = ParamReLU(0.25)\n",
    "x = torch.linspace(-5,5,11, requires_grad=True)\n",
    "y = prelu(x)\n",
    "z = y.sum()\n",
    "z.backward()\n",
    "print(x.grad)"
   ]
  },
  {
   "source": [
    "## Building a custom parametric module, with trainable parameters\n",
    "\n",
    "What if our $\\alpha$ within the parametric ReLU was a trainable parameter? I.e., what if the optimizer could upldate values of $\\alpha$ during training?\n",
    "\n",
    "In this case, we will not have a single parameter $\\alpha$, but a vector $\\mathbf{a}$ of the same size of the input of the function.\n",
    "\n",
    "Moreover, we're not enforcing anymore a condition on $\\mathbf{a}$, so we must extend our Parametric ReLU formula to encompass also the condition in which $\\alpha<0$ or $\\alpha>1$. The formula becomes:\n",
    "\n",
    "$\\text{Parametric_ReLU}(x) = \\max(0, x) + \\alpha \\min(0, x)$"
   ],
   "cell_type": "markdown",
   "metadata": {}
  },
  {
   "cell_type": "code",
   "execution_count": 126,
   "metadata": {},
   "outputs": [],
   "source": [
    "class ParamReLU_Trainable_Fun(torch.autograd.Function):\n",
    "    @staticmethod # mind the decorator\n",
    "    def forward(ctx, input_:torch.Tensor, alpha:torch.Tensor):\n",
    "        # we are not enforcing anymore the condition on alpha\n",
    "        ctx.save_for_backward(input_, alpha) # the parameters that will be involved in the gradient\n",
    "        zeros = torch.zeros_like(input_)\n",
    "        return torch.max(input_, zeros) + alpha * torch.min(input_, zeros)\n",
    "    \n",
    "    @staticmethod\n",
    "    def backward(ctx, grad_output):\n",
    "        input_, alpha, = ctx.saved_tensors # these are the variables which we need to backpropagate the gradient to (only the input)\n",
    "        grad_input = grad_output.clone()\n",
    "        grad_input[input_<0] *= alpha.expand_as(input_)[input_<0]\n",
    "        \n",
    "        # gradient of alpha - note that the funciton param_relu(a) is constant for positive input_ -> zero derivative\n",
    "        grad_alpha = grad_output.clone()\n",
    "        grad_alpha[input_<0] *= input_[input_<0]\n",
    "        grad_alpha[input_>=0] = 0\n",
    "        return grad_input, grad_alpha"
   ]
  },
  {
   "cell_type": "code",
   "execution_count": 80,
   "metadata": {},
   "outputs": [
    {
     "output_type": "execute_result",
     "data": {
      "text/plain": [
       "[<matplotlib.lines.Line2D at 0x7f32247aeb20>]"
      ]
     },
     "metadata": {},
     "execution_count": 80
    },
    {
     "output_type": "display_data",
     "data": {
      "text/plain": "<Figure size 432x288 with 1 Axes>",
      "image/svg+xml": "<?xml version=\"1.0\" encoding=\"utf-8\" standalone=\"no\"?>\n<!DOCTYPE svg PUBLIC \"-//W3C//DTD SVG 1.1//EN\"\n  \"http://www.w3.org/Graphics/SVG/1.1/DTD/svg11.dtd\">\n<!-- Created with matplotlib (https://matplotlib.org/) -->\n<svg height=\"248.518125pt\" version=\"1.1\" viewBox=\"0 0 370.942187 248.518125\" width=\"370.942187pt\" xmlns=\"http://www.w3.org/2000/svg\" xmlns:xlink=\"http://www.w3.org/1999/xlink\">\n <metadata>\n  <rdf:RDF xmlns:cc=\"http://creativecommons.org/ns#\" xmlns:dc=\"http://purl.org/dc/elements/1.1/\" xmlns:rdf=\"http://www.w3.org/1999/02/22-rdf-syntax-ns#\">\n   <cc:Work>\n    <dc:type rdf:resource=\"http://purl.org/dc/dcmitype/StillImage\"/>\n    <dc:date>2021-04-03T19:55:54.354679</dc:date>\n    <dc:format>image/svg+xml</dc:format>\n    <dc:creator>\n     <cc:Agent>\n      <dc:title>Matplotlib v3.3.3, https://matplotlib.org/</dc:title>\n     </cc:Agent>\n    </dc:creator>\n   </cc:Work>\n  </rdf:RDF>\n </metadata>\n <defs>\n  <style type=\"text/css\">*{stroke-linecap:butt;stroke-linejoin:round;}</style>\n </defs>\n <g id=\"figure_1\">\n  <g id=\"patch_1\">\n   <path d=\"M 0 248.518125 \nL 370.942187 248.518125 \nL 370.942187 0 \nL 0 0 \nz\n\" style=\"fill:none;\"/>\n  </g>\n  <g id=\"axes_1\">\n   <g id=\"patch_2\">\n    <path d=\"M 28.942188 224.64 \nL 363.742188 224.64 \nL 363.742188 7.2 \nL 28.942188 7.2 \nz\n\" style=\"fill:#ffffff;\"/>\n   </g>\n   <g id=\"matplotlib.axis_1\">\n    <g id=\"xtick_1\">\n     <g id=\"line2d_1\">\n      <defs>\n       <path d=\"M 0 0 \nL 0 3.5 \n\" id=\"m7841284857\" style=\"stroke:#000000;stroke-width:0.8;\"/>\n      </defs>\n      <g>\n       <use style=\"stroke:#000000;stroke-width:0.8;\" x=\"74.596733\" xlink:href=\"#m7841284857\" y=\"224.64\"/>\n      </g>\n     </g>\n     <g id=\"text_1\">\n      <!-- −4 -->\n      <g transform=\"translate(67.225639 239.238437)scale(0.1 -0.1)\">\n       <defs>\n        <path d=\"M 10.59375 35.5 \nL 73.1875 35.5 \nL 73.1875 27.203125 \nL 10.59375 27.203125 \nz\n\" id=\"DejaVuSans-8722\"/>\n        <path d=\"M 37.796875 64.3125 \nL 12.890625 25.390625 \nL 37.796875 25.390625 \nz\nM 35.203125 72.90625 \nL 47.609375 72.90625 \nL 47.609375 25.390625 \nL 58.015625 25.390625 \nL 58.015625 17.1875 \nL 47.609375 17.1875 \nL 47.609375 0 \nL 37.796875 0 \nL 37.796875 17.1875 \nL 4.890625 17.1875 \nL 4.890625 26.703125 \nz\n\" id=\"DejaVuSans-52\"/>\n       </defs>\n       <use xlink:href=\"#DejaVuSans-8722\"/>\n       <use x=\"83.789062\" xlink:href=\"#DejaVuSans-52\"/>\n      </g>\n     </g>\n    </g>\n    <g id=\"xtick_2\">\n     <g id=\"line2d_2\">\n      <g>\n       <use style=\"stroke:#000000;stroke-width:0.8;\" x=\"135.46946\" xlink:href=\"#m7841284857\" y=\"224.64\"/>\n      </g>\n     </g>\n     <g id=\"text_2\">\n      <!-- −2 -->\n      <g transform=\"translate(128.098366 239.238437)scale(0.1 -0.1)\">\n       <defs>\n        <path d=\"M 19.1875 8.296875 \nL 53.609375 8.296875 \nL 53.609375 0 \nL 7.328125 0 \nL 7.328125 8.296875 \nQ 12.9375 14.109375 22.625 23.890625 \nQ 32.328125 33.6875 34.8125 36.53125 \nQ 39.546875 41.84375 41.421875 45.53125 \nQ 43.3125 49.21875 43.3125 52.78125 \nQ 43.3125 58.59375 39.234375 62.25 \nQ 35.15625 65.921875 28.609375 65.921875 \nQ 23.96875 65.921875 18.8125 64.3125 \nQ 13.671875 62.703125 7.8125 59.421875 \nL 7.8125 69.390625 \nQ 13.765625 71.78125 18.9375 73 \nQ 24.125 74.21875 28.421875 74.21875 \nQ 39.75 74.21875 46.484375 68.546875 \nQ 53.21875 62.890625 53.21875 53.421875 \nQ 53.21875 48.921875 51.53125 44.890625 \nQ 49.859375 40.875 45.40625 35.40625 \nQ 44.1875 33.984375 37.640625 27.21875 \nQ 31.109375 20.453125 19.1875 8.296875 \nz\n\" id=\"DejaVuSans-50\"/>\n       </defs>\n       <use xlink:href=\"#DejaVuSans-8722\"/>\n       <use x=\"83.789062\" xlink:href=\"#DejaVuSans-50\"/>\n      </g>\n     </g>\n    </g>\n    <g id=\"xtick_3\">\n     <g id=\"line2d_3\">\n      <g>\n       <use style=\"stroke:#000000;stroke-width:0.8;\" x=\"196.342188\" xlink:href=\"#m7841284857\" y=\"224.64\"/>\n      </g>\n     </g>\n     <g id=\"text_3\">\n      <!-- 0 -->\n      <g transform=\"translate(193.160938 239.238437)scale(0.1 -0.1)\">\n       <defs>\n        <path d=\"M 31.78125 66.40625 \nQ 24.171875 66.40625 20.328125 58.90625 \nQ 16.5 51.421875 16.5 36.375 \nQ 16.5 21.390625 20.328125 13.890625 \nQ 24.171875 6.390625 31.78125 6.390625 \nQ 39.453125 6.390625 43.28125 13.890625 \nQ 47.125 21.390625 47.125 36.375 \nQ 47.125 51.421875 43.28125 58.90625 \nQ 39.453125 66.40625 31.78125 66.40625 \nz\nM 31.78125 74.21875 \nQ 44.046875 74.21875 50.515625 64.515625 \nQ 56.984375 54.828125 56.984375 36.375 \nQ 56.984375 17.96875 50.515625 8.265625 \nQ 44.046875 -1.421875 31.78125 -1.421875 \nQ 19.53125 -1.421875 13.0625 8.265625 \nQ 6.59375 17.96875 6.59375 36.375 \nQ 6.59375 54.828125 13.0625 64.515625 \nQ 19.53125 74.21875 31.78125 74.21875 \nz\n\" id=\"DejaVuSans-48\"/>\n       </defs>\n       <use xlink:href=\"#DejaVuSans-48\"/>\n      </g>\n     </g>\n    </g>\n    <g id=\"xtick_4\">\n     <g id=\"line2d_4\">\n      <g>\n       <use style=\"stroke:#000000;stroke-width:0.8;\" x=\"257.214915\" xlink:href=\"#m7841284857\" y=\"224.64\"/>\n      </g>\n     </g>\n     <g id=\"text_4\">\n      <!-- 2 -->\n      <g transform=\"translate(254.033665 239.238437)scale(0.1 -0.1)\">\n       <use xlink:href=\"#DejaVuSans-50\"/>\n      </g>\n     </g>\n    </g>\n    <g id=\"xtick_5\">\n     <g id=\"line2d_5\">\n      <g>\n       <use style=\"stroke:#000000;stroke-width:0.8;\" x=\"318.087642\" xlink:href=\"#m7841284857\" y=\"224.64\"/>\n      </g>\n     </g>\n     <g id=\"text_5\">\n      <!-- 4 -->\n      <g transform=\"translate(314.906392 239.238437)scale(0.1 -0.1)\">\n       <use xlink:href=\"#DejaVuSans-52\"/>\n      </g>\n     </g>\n    </g>\n   </g>\n   <g id=\"matplotlib.axis_2\">\n    <g id=\"ytick_1\">\n     <g id=\"line2d_6\">\n      <defs>\n       <path d=\"M 0 0 \nL -3.5 0 \n\" id=\"m5de39fa014\" style=\"stroke:#000000;stroke-width:0.8;\"/>\n      </defs>\n      <g>\n       <use style=\"stroke:#000000;stroke-width:0.8;\" x=\"28.942188\" xlink:href=\"#m5de39fa014\" y=\"204.872727\"/>\n      </g>\n     </g>\n     <g id=\"text_6\">\n      <!-- −8 -->\n      <g transform=\"translate(7.2 208.671946)scale(0.1 -0.1)\">\n       <defs>\n        <path d=\"M 31.78125 34.625 \nQ 24.75 34.625 20.71875 30.859375 \nQ 16.703125 27.09375 16.703125 20.515625 \nQ 16.703125 13.921875 20.71875 10.15625 \nQ 24.75 6.390625 31.78125 6.390625 \nQ 38.8125 6.390625 42.859375 10.171875 \nQ 46.921875 13.96875 46.921875 20.515625 \nQ 46.921875 27.09375 42.890625 30.859375 \nQ 38.875 34.625 31.78125 34.625 \nz\nM 21.921875 38.8125 \nQ 15.578125 40.375 12.03125 44.71875 \nQ 8.5 49.078125 8.5 55.328125 \nQ 8.5 64.0625 14.71875 69.140625 \nQ 20.953125 74.21875 31.78125 74.21875 \nQ 42.671875 74.21875 48.875 69.140625 \nQ 55.078125 64.0625 55.078125 55.328125 \nQ 55.078125 49.078125 51.53125 44.71875 \nQ 48 40.375 41.703125 38.8125 \nQ 48.828125 37.15625 52.796875 32.3125 \nQ 56.78125 27.484375 56.78125 20.515625 \nQ 56.78125 9.90625 50.3125 4.234375 \nQ 43.84375 -1.421875 31.78125 -1.421875 \nQ 19.734375 -1.421875 13.25 4.234375 \nQ 6.78125 9.90625 6.78125 20.515625 \nQ 6.78125 27.484375 10.78125 32.3125 \nQ 14.796875 37.15625 21.921875 38.8125 \nz\nM 18.3125 54.390625 \nQ 18.3125 48.734375 21.84375 45.5625 \nQ 25.390625 42.390625 31.78125 42.390625 \nQ 38.140625 42.390625 41.71875 45.5625 \nQ 45.3125 48.734375 45.3125 54.390625 \nQ 45.3125 60.0625 41.71875 63.234375 \nQ 38.140625 66.40625 31.78125 66.40625 \nQ 25.390625 66.40625 21.84375 63.234375 \nQ 18.3125 60.0625 18.3125 54.390625 \nz\n\" id=\"DejaVuSans-56\"/>\n       </defs>\n       <use xlink:href=\"#DejaVuSans-8722\"/>\n       <use x=\"83.789062\" xlink:href=\"#DejaVuSans-56\"/>\n      </g>\n     </g>\n    </g>\n    <g id=\"ytick_2\">\n     <g id=\"line2d_7\">\n      <g>\n       <use style=\"stroke:#000000;stroke-width:0.8;\" x=\"28.942188\" xlink:href=\"#m5de39fa014\" y=\"178.516364\"/>\n      </g>\n     </g>\n     <g id=\"text_7\">\n      <!-- −6 -->\n      <g transform=\"translate(7.2 182.315582)scale(0.1 -0.1)\">\n       <defs>\n        <path d=\"M 33.015625 40.375 \nQ 26.375 40.375 22.484375 35.828125 \nQ 18.609375 31.296875 18.609375 23.390625 \nQ 18.609375 15.53125 22.484375 10.953125 \nQ 26.375 6.390625 33.015625 6.390625 \nQ 39.65625 6.390625 43.53125 10.953125 \nQ 47.40625 15.53125 47.40625 23.390625 \nQ 47.40625 31.296875 43.53125 35.828125 \nQ 39.65625 40.375 33.015625 40.375 \nz\nM 52.59375 71.296875 \nL 52.59375 62.3125 \nQ 48.875 64.0625 45.09375 64.984375 \nQ 41.3125 65.921875 37.59375 65.921875 \nQ 27.828125 65.921875 22.671875 59.328125 \nQ 17.53125 52.734375 16.796875 39.40625 \nQ 19.671875 43.65625 24.015625 45.921875 \nQ 28.375 48.1875 33.59375 48.1875 \nQ 44.578125 48.1875 50.953125 41.515625 \nQ 57.328125 34.859375 57.328125 23.390625 \nQ 57.328125 12.15625 50.6875 5.359375 \nQ 44.046875 -1.421875 33.015625 -1.421875 \nQ 20.359375 -1.421875 13.671875 8.265625 \nQ 6.984375 17.96875 6.984375 36.375 \nQ 6.984375 53.65625 15.1875 63.9375 \nQ 23.390625 74.21875 37.203125 74.21875 \nQ 40.921875 74.21875 44.703125 73.484375 \nQ 48.484375 72.75 52.59375 71.296875 \nz\n\" id=\"DejaVuSans-54\"/>\n       </defs>\n       <use xlink:href=\"#DejaVuSans-8722\"/>\n       <use x=\"83.789062\" xlink:href=\"#DejaVuSans-54\"/>\n      </g>\n     </g>\n    </g>\n    <g id=\"ytick_3\">\n     <g id=\"line2d_8\">\n      <g>\n       <use style=\"stroke:#000000;stroke-width:0.8;\" x=\"28.942188\" xlink:href=\"#m5de39fa014\" y=\"152.16\"/>\n      </g>\n     </g>\n     <g id=\"text_8\">\n      <!-- −4 -->\n      <g transform=\"translate(7.2 155.959219)scale(0.1 -0.1)\">\n       <use xlink:href=\"#DejaVuSans-8722\"/>\n       <use x=\"83.789062\" xlink:href=\"#DejaVuSans-52\"/>\n      </g>\n     </g>\n    </g>\n    <g id=\"ytick_4\">\n     <g id=\"line2d_9\">\n      <g>\n       <use style=\"stroke:#000000;stroke-width:0.8;\" x=\"28.942188\" xlink:href=\"#m5de39fa014\" y=\"125.803636\"/>\n      </g>\n     </g>\n     <g id=\"text_9\">\n      <!-- −2 -->\n      <g transform=\"translate(7.2 129.602855)scale(0.1 -0.1)\">\n       <use xlink:href=\"#DejaVuSans-8722\"/>\n       <use x=\"83.789062\" xlink:href=\"#DejaVuSans-50\"/>\n      </g>\n     </g>\n    </g>\n    <g id=\"ytick_5\">\n     <g id=\"line2d_10\">\n      <g>\n       <use style=\"stroke:#000000;stroke-width:0.8;\" x=\"28.942188\" xlink:href=\"#m5de39fa014\" y=\"99.447273\"/>\n      </g>\n     </g>\n     <g id=\"text_10\">\n      <!-- 0 -->\n      <g transform=\"translate(15.579688 103.246491)scale(0.1 -0.1)\">\n       <use xlink:href=\"#DejaVuSans-48\"/>\n      </g>\n     </g>\n    </g>\n    <g id=\"ytick_6\">\n     <g id=\"line2d_11\">\n      <g>\n       <use style=\"stroke:#000000;stroke-width:0.8;\" x=\"28.942188\" xlink:href=\"#m5de39fa014\" y=\"73.090909\"/>\n      </g>\n     </g>\n     <g id=\"text_11\">\n      <!-- 2 -->\n      <g transform=\"translate(15.579688 76.890128)scale(0.1 -0.1)\">\n       <use xlink:href=\"#DejaVuSans-50\"/>\n      </g>\n     </g>\n    </g>\n    <g id=\"ytick_7\">\n     <g id=\"line2d_12\">\n      <g>\n       <use style=\"stroke:#000000;stroke-width:0.8;\" x=\"28.942188\" xlink:href=\"#m5de39fa014\" y=\"46.734545\"/>\n      </g>\n     </g>\n     <g id=\"text_12\">\n      <!-- 4 -->\n      <g transform=\"translate(15.579688 50.533764)scale(0.1 -0.1)\">\n       <use xlink:href=\"#DejaVuSans-52\"/>\n      </g>\n     </g>\n    </g>\n    <g id=\"ytick_8\">\n     <g id=\"line2d_13\">\n      <g>\n       <use style=\"stroke:#000000;stroke-width:0.8;\" x=\"28.942188\" xlink:href=\"#m5de39fa014\" y=\"20.378182\"/>\n      </g>\n     </g>\n     <g id=\"text_13\">\n      <!-- 6 -->\n      <g transform=\"translate(15.579688 24.177401)scale(0.1 -0.1)\">\n       <use xlink:href=\"#DejaVuSans-54\"/>\n      </g>\n     </g>\n    </g>\n   </g>\n   <g id=\"line2d_14\">\n    <path clip-path=\"url(#p622f9d634f)\" d=\"M 44.160369 82.974545 \nL 74.596733 86.269091 \nL 105.033097 89.563636 \nL 135.46946 92.858182 \nL 165.905824 96.152727 \nL 196.342188 99.447273 \nL 226.778551 86.269091 \nL 257.214915 73.090909 \nL 287.651278 59.912727 \nL 318.087642 46.734545 \nL 348.524006 33.556364 \n\" style=\"fill:none;stroke:#1f77b4;stroke-linecap:square;stroke-width:1.5;\"/>\n   </g>\n   <g id=\"line2d_15\">\n    <path clip-path=\"url(#p622f9d634f)\" d=\"M 44.160369 214.756364 \nL 74.596733 191.694545 \nL 105.033097 168.632727 \nL 135.46946 145.570909 \nL 165.905824 122.509091 \nL 196.342188 99.447273 \nL 226.778551 86.269091 \nL 257.214915 73.090909 \nL 287.651278 59.912727 \nL 318.087642 46.734545 \nL 348.524006 33.556364 \n\" style=\"fill:none;stroke:#ff7f0e;stroke-linecap:square;stroke-width:1.5;\"/>\n   </g>\n   <g id=\"line2d_16\">\n    <path clip-path=\"url(#p622f9d634f)\" d=\"M 44.160369 17.083636 \nL 74.596733 33.556364 \nL 105.033097 50.029091 \nL 135.46946 66.501818 \nL 165.905824 82.974545 \nL 196.342188 99.447273 \nL 226.778551 86.269091 \nL 257.214915 73.090909 \nL 287.651278 59.912727 \nL 318.087642 46.734545 \nL 348.524006 33.556364 \n\" style=\"fill:none;stroke:#2ca02c;stroke-linecap:square;stroke-width:1.5;\"/>\n   </g>\n   <g id=\"patch_3\">\n    <path d=\"M 28.942188 224.64 \nL 28.942188 7.2 \n\" style=\"fill:none;stroke:#000000;stroke-linecap:square;stroke-linejoin:miter;stroke-width:0.8;\"/>\n   </g>\n   <g id=\"patch_4\">\n    <path d=\"M 363.742188 224.64 \nL 363.742188 7.2 \n\" style=\"fill:none;stroke:#000000;stroke-linecap:square;stroke-linejoin:miter;stroke-width:0.8;\"/>\n   </g>\n   <g id=\"patch_5\">\n    <path d=\"M 28.942188 224.64 \nL 363.742188 224.64 \n\" style=\"fill:none;stroke:#000000;stroke-linecap:square;stroke-linejoin:miter;stroke-width:0.8;\"/>\n   </g>\n   <g id=\"patch_6\">\n    <path d=\"M 28.942188 7.2 \nL 363.742188 7.2 \n\" style=\"fill:none;stroke:#000000;stroke-linecap:square;stroke-linejoin:miter;stroke-width:0.8;\"/>\n   </g>\n  </g>\n </g>\n <defs>\n  <clipPath id=\"p622f9d634f\">\n   <rect height=\"217.44\" width=\"334.8\" x=\"28.942188\" y=\"7.2\"/>\n  </clipPath>\n </defs>\n</svg>\n",
      "image/png": "[encoded data removed]"
     },
     "metadata": {
      "needs_background": "light"
     }
    }
   ],
   "source": [
    "# plot the function for various \"anomalous\" levels of alpha\n",
    "prelu_fun = ParamReLU_Trainable_Fun.apply\n",
    "y1 = prelu_fun(x, torch.full_like(x, -0.25))\n",
    "y2 = prelu_fun(x, torch.full_like(x, 1.75))\n",
    "y3 = prelu_fun(x, torch.full_like(x, -1.25))\n",
    "plt.plot(x.detach().numpy(), y1.detach().numpy())\n",
    "plt.plot(x.detach().numpy(), y2.detach().numpy())\n",
    "plt.plot(x.detach().numpy(), y3.detach().numpy())"
   ]
  },
  {
   "cell_type": "code",
   "execution_count": 119,
   "metadata": {},
   "outputs": [],
   "source": [
    "class ParamReLU_Trainable(torch.nn.Module):\n",
    "    def __init__(self, in_features):\n",
    "        super().__init__()\n",
    "        self.alpha = torch.nn.Parameter(torch.Tensor(in_features))\n",
    "        self.alpha.data.uniform_(0, 1)\n",
    "    \n",
    "    def forward(self, X):\n",
    "        return ParamReLU_Trainable_Fun.apply(X, self.alpha)"
   ]
  },
  {
   "cell_type": "code",
   "execution_count": 120,
   "metadata": {},
   "outputs": [
    {
     "output_type": "stream",
     "name": "stdout",
     "text": [
      "Parameter containing:\ntensor([0.2569, 0.0555, 0.2497, 0.2951, 0.6838, 0.0498, 0.6828, 0.5222, 0.9132,\n        0.7173, 0.7872], requires_grad=True)\n"
     ]
    }
   ],
   "source": [
    "prelu = ParamReLU_Trainable(x.shape)\n",
    "print(prelu.alpha)"
   ]
  },
  {
   "cell_type": "code",
   "execution_count": 121,
   "metadata": {},
   "outputs": [
    {
     "output_type": "stream",
     "name": "stdout",
     "text": [
      "tensor([-1.2846, -0.2220, -0.7490, -0.5901, -0.6838,  0.0000,  1.0000,  2.0000,\n         3.0000,  4.0000,  5.0000], grad_fn=<ParamReLU_Trainable_FunBackward>)\n"
     ]
    }
   ],
   "source": [
    "y = prelu(x)\n",
    "print(y)"
   ]
  },
  {
   "cell_type": "code",
   "execution_count": 122,
   "metadata": {},
   "outputs": [
    {
     "output_type": "stream",
     "name": "stdout",
     "text": [
      "torch.Size([11]) torch.Size([11]) torch.Size([11])\ntensor([-10.,  -8.,  -6.,  -4.,  -2.,   0.,   0.,   0.,   0.,   0.,   0.])\ntensor([1.4488, 2.3287, 2.2010, 2.4278, 3.8587, 9.0000, 9.0000, 9.0000, 9.0000,\n        9.0000, 9.0000])\n"
     ]
    }
   ],
   "source": [
    "z = y.sum() * 2\n",
    "z.backward()\n",
    "print(prelu.alpha.grad)\n",
    "print(x.grad)"
   ]
  },
  {
   "source": [
    "Let us put this inside our MLP and see how things work out..."
   ],
   "cell_type": "markdown",
   "metadata": {}
  },
  {
   "cell_type": "code",
   "execution_count": 123,
   "metadata": {},
   "outputs": [],
   "source": [
    "from scripts import train\n",
    "from scripts import mnist"
   ]
  },
  {
   "cell_type": "code",
   "execution_count": 127,
   "metadata": {},
   "outputs": [],
   "source": [
    "class MLP(torch.nn.Module):\n",
    "    def __init__(self):\n",
    "        super().__init__()\n",
    "        self.layers = torch.nn.Sequential(\n",
    "            torch.nn.Flatten(),\n",
    "            torch.nn.Linear(28*28, 16),\n",
    "            ParamReLU_Trainable(16),\n",
    "\n",
    "            torch.nn.BatchNorm1d(num_features=16),\n",
    "            torch.nn.Linear(16, 32),\n",
    "            ParamReLU_Trainable(32),\n",
    "\n",
    "            torch.nn.BatchNorm1d(num_features=32),\n",
    "            torch.nn.Linear(32, 24),\n",
    "            ParamReLU_Trainable(24),\n",
    "\n",
    "            torch.nn.BatchNorm1d(num_features=24),\n",
    "            torch.nn.Linear(24, 10)\n",
    "        )\n",
    "        \n",
    "    def forward(self, X):\n",
    "        return self.layers(X)"
   ]
  },
  {
   "cell_type": "code",
   "execution_count": null,
   "metadata": {},
   "outputs": [],
   "source": [
    "net = MLP()"
   ]
  },
  {
   "source": [
    "First, let us inspect alphas"
   ],
   "cell_type": "markdown",
   "metadata": {}
  },
  {
   "cell_type": "code",
   "execution_count": null,
   "metadata": {},
   "outputs": [],
   "source": [
    "def inspect_alphas(net):\n",
    "    for name, param in net.named_parameters():\n",
    "        if \"alpha\" in name:\n",
    "            print(name, \"\\n\", param, \"\\n\")\n",
    "inspect_alphas(net)"
   ]
  },
  {
   "source": [
    "Then, train our network..."
   ],
   "cell_type": "markdown",
   "metadata": {}
  },
  {
   "cell_type": "code",
   "execution_count": 128,
   "metadata": {
    "tags": []
   },
   "outputs": [
    {
     "output_type": "stream",
     "name": "stdout",
     "text": [
      "Epoch 1 --- learning rate 0.00100\n",
      "Epoch 1 completed. Loss - total: 37716.54240274429 - average: 0.6286090400457383; Performance: 0.8542666666666666\n",
      "Epoch 2 --- learning rate 0.00100\n",
      "Epoch 2 completed. Loss - total: 14607.407104492188 - average: 0.24345678507486979; Performance: 0.9327166666666666\n",
      "Epoch 3 --- learning rate 0.00100\n",
      "Epoch 3 completed. Loss - total: 11235.904957771301 - average: 0.18726508262952168; Performance: 0.94485\n",
      "Epoch 4 --- learning rate 0.00100\n",
      "Epoch 4 completed. Loss - total: 9695.077285289764 - average: 0.16158462142149607; Performance: 0.9515166666666667\n",
      "Epoch 5 --- learning rate 0.00100\n",
      "Epoch 5 completed. Loss - total: 8750.21903371811 - average: 0.1458369838953018; Performance: 0.9556833333333333\n"
     ]
    },
    {
     "output_type": "execute_result",
     "data": {
      "text/plain": [
       "(8750.21903371811, 0.9556833333333333)"
      ]
     },
     "metadata": {},
     "execution_count": 128
    }
   ],
   "source": [
    "optim = torch.optim.Adam(net.parameters())\n",
    "loss = torch.nn.CrossEntropyLoss()\n",
    "num_epochs = 5\n",
    "trainloader, testloader, _, _ = mnist.get_data()\n",
    "train.train_model(net, trainloader, loss, optim, num_epochs)"
   ]
  },
  {
   "cell_type": "code",
   "execution_count": 130,
   "metadata": {},
   "outputs": [
    {
     "output_type": "stream",
     "name": "stdout",
     "text": [
      "TESTING - loss -- - performance 0.9597833333333333\n"
     ]
    },
    {
     "output_type": "execute_result",
     "data": {
      "text/plain": [
       "(None, 0.9597833333333333)"
      ]
     },
     "metadata": {},
     "execution_count": 130
    }
   ],
   "source": [
    "train.test_model(net, testloader)"
   ]
  },
  {
   "source": [
    "Actually, our model is not performing bad at all.\n",
    "\n",
    "Let us check the values of the $\\alpha$s after training:"
   ],
   "cell_type": "markdown",
   "metadata": {}
  },
  {
   "cell_type": "code",
   "execution_count": 135,
   "metadata": {},
   "outputs": [
    {
     "output_type": "stream",
     "name": "stdout",
     "text": [
      "layers.2.alpha \n Parameter containing:\ntensor([ 0.3485,  0.2707,  0.5717,  0.3840,  0.9014,  0.1937,  0.2021,  0.4519,\n         0.1335,  0.0046,  0.3972,  0.7110,  0.1408, -0.0292,  0.7536,  0.7141],\n       requires_grad=True) \n\nlayers.5.alpha \n Parameter containing:\ntensor([ 0.4110, -0.1313,  0.4857,  0.8699,  0.1633,  0.0103,  0.3908,  0.8189,\n         0.7002,  0.3088, -0.0934,  0.6500,  0.1543, -0.1744,  0.5346,  0.1216,\n         0.3257, -0.0638,  0.8712,  0.1859,  0.1993,  0.6637,  0.1628,  0.1634,\n        -0.0183,  0.4822,  0.8188,  0.9636, -0.0750,  0.4852,  0.0674,  1.2015],\n       requires_grad=True) \n\nlayers.8.alpha \n Parameter containing:\ntensor([ 0.6490,  0.1644,  0.4802,  0.5110,  0.1363, -0.0082,  0.2481,  0.0915,\n         0.9330, -0.0874,  0.3002,  0.2203,  0.4857,  0.0791,  0.5764,  0.4767,\n         0.1953,  0.1956,  0.4838, -0.1792, -0.0680,  0.0226,  0.6703, -0.0442],\n       requires_grad=True) \n\n"
     ]
    }
   ],
   "source": [
    "inspect_alphas(net)"
   ]
  }
 ]
}