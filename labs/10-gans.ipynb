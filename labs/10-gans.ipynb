{
 "metadata": {
  "language_info": {
   "codemirror_mode": {
    "name": "ipython",
    "version": 3
   },
   "file_extension": ".py",
   "mimetype": "text/x-python",
   "name": "python",
   "nbconvert_exporter": "python",
   "pygments_lexer": "ipython3",
   "version": "3.8.8"
  },
  "orig_nbformat": 2,
  "kernelspec": {
   "name": "python388jvsc74a57bd02e6347a50883dfa0598d3f478411c8d6a5b9cf8792810af1a6fbd779ad8b1967",
   "display_name": "Python 3.8.8 64-bit ('lot': conda)"
  },
  "metadata": {
   "interpreter": {
    "hash": "2e6347a50883dfa0598d3f478411c8d6a5b9cf8792810af1a6fbd779ad8b1967"
   }
  }
 },
 "nbformat": 4,
 "nbformat_minor": 2,
 "cells": [
  {
   "source": [
    "# Deep Learning course - LAB 10\n",
    "\n",
    "## Generative Adversarial Networks"
   ],
   "cell_type": "markdown",
   "metadata": {}
  },
  {
   "source": [
    "Generative Adversarial Networks (GANs) are a neural-based category of generative models.\n",
    "\n",
    "Up to now, we have seen only **discriminating models**, i.e. models tasked with learning $P(Y\\vert X)$, where $X$ are the observations and $Y$ is the dependent variable (category or scalars, depending uon the task).\n",
    "\n",
    "**Generative models**, on the other hand, are tasked with learning $P(Y, X)$, i.e. in simple terms they learn a _**rule**_ through which we can sample (generate) any amount of data.\n",
    "\n",
    "Specifically, GANs are expressed as a game in which two models are in competition:\n",
    "* a **generator** $G$ generates synthetic data\n",
    "* a **discriminator** $D$ distinguishes whether a piece of data is synthetic or not\n",
    "\n",
    "$D$ is usually expressed as a *simple* network for binary classification and trained using the binary cross-entropy loss. Given $D(x)\\in[0,1]$ output of the discriminator and $y\\in\\{0,1\\}$ the ground truth, $\\mathcal{L}_D(x) = -y\\log(D(x)) - (1-y) \\log(1-D(x))$.\n",
    "\n",
    "On the other hand, $G$ is a more complex entity. The input is a *latent variable* $z$, while the output is a point in the data space $\\mathcal{D}$ (i.e. $x\\in\\mathcal{D}$). The generator, recall, is tasked with producing samples which $D$ misclassifies as real. We may then ask for the following: $G^\\star = \\text{argmax}_G \\{ \\mathcal{L}_D(G(z)) \\}$, or, that the generated data $G(z)$ *increase* the loss of $D$. Actually, to \n",
    "\n",
    "Merging the two concepts, we express the GAN in terms of a *minmax* game:\n",
    "\n",
    "$\\min_G \\max_D \\log(D(x)) + \\log(1-D(x))$ (note: the signs are switched w.r.t. $\\mathcal{L}_D$, so the $\\min$ becomes $\\max$ and vice-versa).\n",
    "\n"
   ],
   "cell_type": "markdown",
   "metadata": {}
  },
  {
   "cell_type": "code",
   "execution_count": 129,
   "metadata": {},
   "outputs": [],
   "source": [
    "import torch\n",
    "from torch import nn\n",
    "from scripts.mnist import get_data\n",
    "from matplotlib import pyplot as plt\n",
    "import numpy as np"
   ]
  },
  {
   "cell_type": "code",
   "execution_count": 2,
   "metadata": {},
   "outputs": [],
   "source": [
    "trainloader, testloader, _, _ = get_data()"
   ]
  },
  {
   "cell_type": "code",
   "execution_count": 112,
   "metadata": {},
   "outputs": [],
   "source": [
    "# custom weights initialization called on netG and netD\n",
    "def weights_init(m):\n",
    "    classname = m.__class__.__name__\n",
    "    if classname.find('Conv') != -1:\n",
    "        nn.init.normal_(m.weight.data, 0.0, 0.02)\n",
    "    elif classname.find('BatchNorm') != -1:\n",
    "        nn.init.normal_(m.weight.data, 1.0, 0.02)\n",
    "        nn.init.constant_(m.bias.data, 0)"
   ]
  },
  {
   "source": [
    "this is a free reinterpretation of DCGAN [1](https://arxiv.org/abs/1511.06434) build s.t. we can match the original shape of MNIST. We need to tweak the values of the transposed convolution because the original implementation is thought for images with $n^2$ spatial dimensions, while MNIST does not abide to that prerequisite."
   ],
   "cell_type": "markdown",
   "metadata": {}
  },
  {
   "cell_type": "code",
   "execution_count": 96,
   "metadata": {},
   "outputs": [
    {
     "output_type": "stream",
     "name": "stdout",
     "text": [
      "torch.Size([1, 512, 5, 5])\ntorch.Size([1, 256, 9, 9])\ntorch.Size([1, 128, 21, 21])\ntorch.Size([1, 64, 25, 25])\ntorch.Size([1, 1, 28, 28])\n"
     ]
    }
   ],
   "source": [
    "a = torch.rand((1,100,1,1))\n",
    "base_width = 64\n",
    "a = nn.ConvTranspose2d(dim_latent, base_width*8, kernel_size=5, bias=False)(a)\n",
    "print(a.shape)\n",
    "a = nn.ConvTranspose2d(base_width*8, base_width*4, kernel_size=5, bias=False)(a)\n",
    "print(a.shape)\n",
    "a = nn.ConvTranspose2d(base_width*4, base_width*2, kernel_size=5, stride=2, bias=False)(a)\n",
    "print(a.shape)\n",
    "a = nn.ConvTranspose2d(base_width*2, base_width*1, kernel_size=5, bias=False)(a)\n",
    "print(a.shape)\n",
    "a = nn.ConvTranspose2d(base_width, 1, kernel_size=4, bias=False)(a)\n",
    "print(a.shape)"
   ]
  },
  {
   "cell_type": "code",
   "execution_count": 139,
   "metadata": {},
   "outputs": [],
   "source": [
    "class Generator(nn.Module):\n",
    "    def __init__(self, dim_latent, base_width=64, output_ch=1):\n",
    "        super().__init__()\n",
    "        self.layers = nn.Sequential(\n",
    "            nn.ConvTranspose2d(dim_latent, base_width*8, kernel_size=5, bias=False),\n",
    "            nn.BatchNorm2d(base_width*8),\n",
    "            nn.ReLU(),\n",
    "            nn.ConvTranspose2d(base_width*8, base_width*4, kernel_size=5, bias=False),\n",
    "            nn.BatchNorm2d(base_width*4),\n",
    "            nn.ReLU(),\n",
    "            nn.ConvTranspose2d(base_width*4, base_width*2, kernel_size=5, stride=2, bias=False),\n",
    "            nn.BatchNorm2d(base_width*2),\n",
    "            nn.ReLU(),\n",
    "            nn.ConvTranspose2d(base_width*2, base_width, kernel_size=5, bias=False),\n",
    "            nn.BatchNorm2d(base_width),\n",
    "            nn.ReLU(),\n",
    "            nn.ConvTranspose2d(base_width, output_ch, kernel_size=4, bias=False),\n",
    "            nn.Tanh() #tanh so the output is in 0-1\n",
    "        )\n",
    "    \n",
    "    def forward(self, z):\n",
    "        z = z.unsqueeze(-1).unsqueeze(-1) # append two spatial dimensions to make it image-like\n",
    "        return self.layers(z)"
   ]
  },
  {
   "source": [
    "Let's test if the generator produces an output of the desired shape:"
   ],
   "cell_type": "markdown",
   "metadata": {}
  },
  {
   "cell_type": "code",
   "execution_count": 140,
   "metadata": {},
   "outputs": [
    {
     "output_type": "execute_result",
     "data": {
      "text/plain": [
       "torch.Size([1, 1, 28, 28])"
      ]
     },
     "metadata": {},
     "execution_count": 140
    }
   ],
   "source": [
    "dim_latent = 100\n",
    "g = Generator(dim_latent=dim_latent)\n",
    "g.apply(weights_init)\n",
    "g(torch.rand((1,dim_latent))).shape"
   ]
  },
  {
   "cell_type": "code",
   "execution_count": 141,
   "metadata": {},
   "outputs": [],
   "source": [
    "class Discriminator(nn.Module):\n",
    "    def __init__(self, base_width=64, input_ch=1):\n",
    "        super().__init__()\n",
    "        self.layers = nn.Sequential(\n",
    "            nn.Conv2d(input_ch, base_width, kernel_size=4, stride=2, padding=1, bias=False),\n",
    "            nn.LeakyReLU(),\n",
    "            nn.Conv2d(base_width, base_width*2, kernel_size=4, stride=2, padding=1, bias=False),\n",
    "            nn.BatchNorm2d(base_width*2),\n",
    "            nn.LeakyReLU(),\n",
    "            nn.Conv2d(base_width*2, base_width*4, kernel_size=4, stride=2, padding=1, bias=False),\n",
    "            nn.BatchNorm2d(base_width*4),\n",
    "            nn.LeakyReLU(),\n",
    "            nn.AdaptiveAvgPool2d(1),\n",
    "            nn.Flatten(),\n",
    "            nn.Linear(base_width*4, 1),\n",
    "            nn.Sigmoid() # squeeze output in the 0-1 axis so we can apply the loss\n",
    "        )\n",
    "    \n",
    "    def forward(self, X):\n",
    "        return self.layers(X).flatten()"
   ]
  },
  {
   "source": [
    "Check if shape is correct: given batch of size $B$, we expect to have a tensor of shape `[B]` as output"
   ],
   "cell_type": "markdown",
   "metadata": {}
  },
  {
   "cell_type": "code",
   "execution_count": 142,
   "metadata": {},
   "outputs": [
    {
     "output_type": "execute_result",
     "data": {
      "text/plain": [
       "torch.Size([10])"
      ]
     },
     "metadata": {},
     "execution_count": 142
    }
   ],
   "source": [
    "d = Discriminator()\n",
    "d.apply(weights_init)\n",
    "d(torch.rand(10,1,28,28)).shape\n"
   ]
  },
  {
   "cell_type": "code",
   "execution_count": 143,
   "metadata": {},
   "outputs": [],
   "source": [
    "loss_fn = nn.BCELoss() # binary cross entropy\n",
    "\n",
    "device = \"cuda:0\"\n",
    "\n",
    "real_label = 1\n",
    "fake_label = 0\n",
    "\n",
    "\n",
    "\n",
    "# for the discriminator\n",
    "sigma_noise = .5\n",
    "\n",
    "lr = 2e-4\n",
    "beta1 = 0.5\n",
    "beta2 = 0.999\n",
    "\n",
    "# 2 Adams with same hyperparameters\n",
    "optim_d = torch.optim.Adam(d.parameters(), lr=lr, betas=(beta1, beta2))\n",
    "optim_g = torch.optim.Adam(g.parameters(), lr=lr, betas=(beta1, beta2))\n"
   ]
  },
  {
   "cell_type": "code",
   "execution_count": 144,
   "metadata": {},
   "outputs": [],
   "source": [
    "ite_print = 25\n",
    "num_epochs = 3\n",
    "\n",
    "d = d.to(device)\n",
    "g = g.to(device)"
   ]
  },
  {
   "cell_type": "code",
   "execution_count": 145,
   "metadata": {},
   "outputs": [],
   "source": [
    "n_fake = 24\n",
    "fixed_noise = torch.randn([n_fake, dim_latent]).to(device)\n",
    "fakeimgs = np.empty([num_epochs, n_fake, 28, 28])\n",
    "\n",
    "def tensor_to_numpy(imgs):\n",
    "    return ((imgs * 0.3081 + 0.1307) * 255).permute(0,2,3,1).squeeze().numpy()"
   ]
  },
  {
   "cell_type": "code",
   "execution_count": 146,
   "metadata": {},
   "outputs": [
    {
     "output_type": "stream",
     "name": "stdout",
     "text": [
      "Ep. 1 It. 25/235 >>> D loss 1.287 | G loss 0.792 >>> D(x) [real] 0.525 | D(G(z)) [fake] 0.473 | D*(G(z)) [fake after D train] 0.453\n",
      "Ep. 1 It. 50/235 >>> D loss 1.226 | G loss 0.847 >>> D(x) [real] 0.546 | D(G(z)) [fake] 0.462 | D*(G(z)) [fake after D train] 0.429\n",
      "Ep. 1 It. 75/235 >>> D loss 1.132 | G loss 0.885 >>> D(x) [real] 0.576 | D(G(z)) [fake] 0.439 | D*(G(z)) [fake after D train] 0.414\n",
      "Ep. 1 It. 100/235 >>> D loss 1.058 | G loss 0.994 >>> D(x) [real] 0.605 | D(G(z)) [fake] 0.424 | D*(G(z)) [fake after D train] 0.371\n",
      "Ep. 1 It. 125/235 >>> D loss 1.017 | G loss 1.098 >>> D(x) [real] 0.606 | D(G(z)) [fake] 0.401 | D*(G(z)) [fake after D train] 0.336\n",
      "Ep. 1 It. 150/235 >>> D loss 0.867 | G loss 1.183 >>> D(x) [real] 0.624 | D(G(z)) [fake] 0.324 | D*(G(z)) [fake after D train] 0.308\n",
      "Ep. 1 It. 175/235 >>> D loss 0.801 | G loss 1.161 >>> D(x) [real] 0.675 | D(G(z)) [fake] 0.332 | D*(G(z)) [fake after D train] 0.316\n",
      "Ep. 1 It. 200/235 >>> D loss 0.754 | G loss 1.214 >>> D(x) [real] 0.712 | D(G(z)) [fake] 0.337 | D*(G(z)) [fake after D train] 0.299\n",
      "Ep. 1 It. 225/235 >>> D loss 0.665 | G loss 1.400 >>> D(x) [real] 0.694 | D(G(z)) [fake] 0.256 | D*(G(z)) [fake after D train] 0.248\n",
      "Ep. 1 It. 235/235 >>> D loss 0.610 | G loss 1.374 >>> D(x) [real] 0.745 | D(G(z)) [fake] 0.269 | D*(G(z)) [fake after D train] 0.255\n",
      "Ep. 2 It. 25/235 >>> D loss 0.656 | G loss 1.400 >>> D(x) [real] 0.709 | D(G(z)) [fake] 0.263 | D*(G(z)) [fake after D train] 0.251\n",
      "Ep. 2 It. 50/235 >>> D loss 0.482 | G loss 1.599 >>> D(x) [real] 0.802 | D(G(z)) [fake] 0.228 | D*(G(z)) [fake after D train] 0.204\n",
      "Ep. 2 It. 75/235 >>> D loss 0.508 | G loss 1.741 >>> D(x) [real] 0.748 | D(G(z)) [fake] 0.194 | D*(G(z)) [fake after D train] 0.178\n",
      "Ep. 2 It. 100/235 >>> D loss 0.542 | G loss 1.817 >>> D(x) [real] 0.804 | D(G(z)) [fake] 0.275 | D*(G(z)) [fake after D train] 0.165\n",
      "Ep. 2 It. 125/235 >>> D loss 0.654 | G loss 1.428 >>> D(x) [real] 0.671 | D(G(z)) [fake] 0.220 | D*(G(z)) [fake after D train] 0.247\n",
      "Ep. 2 It. 150/235 >>> D loss 0.923 | G loss 1.533 >>> D(x) [real] 0.652 | D(G(z)) [fake] 0.387 | D*(G(z)) [fake after D train] 0.221\n",
      "Ep. 2 It. 175/235 >>> D loss 0.796 | G loss 1.829 >>> D(x) [real] 0.820 | D(G(z)) [fake] 0.444 | D*(G(z)) [fake after D train] 0.164\n",
      "Ep. 2 It. 200/235 >>> D loss 0.771 | G loss 1.198 >>> D(x) [real] 0.602 | D(G(z)) [fake] 0.227 | D*(G(z)) [fake after D train] 0.306\n",
      "Ep. 2 It. 225/235 >>> D loss 0.391 | G loss 1.889 >>> D(x) [real] 0.831 | D(G(z)) [fake] 0.184 | D*(G(z)) [fake after D train] 0.155\n",
      "Ep. 2 It. 235/235 >>> D loss 0.428 | G loss 1.905 >>> D(x) [real] 0.834 | D(G(z)) [fake] 0.216 | D*(G(z)) [fake after D train] 0.152\n",
      "Ep. 3 It. 25/235 >>> D loss 0.320 | G loss 1.850 >>> D(x) [real] 0.880 | D(G(z)) [fake] 0.174 | D*(G(z)) [fake after D train] 0.161\n",
      "Ep. 3 It. 50/235 >>> D loss 0.241 | G loss 2.225 >>> D(x) [real] 0.889 | D(G(z)) [fake] 0.116 | D*(G(z)) [fake after D train] 0.110\n",
      "Ep. 3 It. 75/235 >>> D loss 0.231 | G loss 2.313 >>> D(x) [real] 0.891 | D(G(z)) [fake] 0.109 | D*(G(z)) [fake after D train] 0.101\n",
      "Ep. 3 It. 100/235 >>> D loss 0.209 | G loss 2.438 >>> D(x) [real] 0.897 | D(G(z)) [fake] 0.095 | D*(G(z)) [fake after D train] 0.089\n",
      "Ep. 3 It. 125/235 >>> D loss 0.197 | G loss 2.462 >>> D(x) [real] 0.904 | D(G(z)) [fake] 0.092 | D*(G(z)) [fake after D train] 0.087\n",
      "Ep. 3 It. 150/235 >>> D loss 0.194 | G loss 2.528 >>> D(x) [real] 0.906 | D(G(z)) [fake] 0.091 | D*(G(z)) [fake after D train] 0.081\n",
      "Ep. 3 It. 175/235 >>> D loss 0.179 | G loss 2.651 >>> D(x) [real] 0.911 | D(G(z)) [fake] 0.082 | D*(G(z)) [fake after D train] 0.072\n",
      "Ep. 3 It. 200/235 >>> D loss 0.163 | G loss 2.711 >>> D(x) [real] 0.920 | D(G(z)) [fake] 0.076 | D*(G(z)) [fake after D train] 0.068\n",
      "Ep. 3 It. 225/235 >>> D loss 0.159 | G loss 2.775 >>> D(x) [real] 0.918 | D(G(z)) [fake] 0.070 | D*(G(z)) [fake after D train] 0.064\n",
      "Ep. 3 It. 235/235 >>> D loss 0.148 | G loss 2.849 >>> D(x) [real] 0.925 | D(G(z)) [fake] 0.067 | D*(G(z)) [fake after D train] 0.059\n"
     ]
    }
   ],
   "source": [
    "for epoch in range(num_epochs):\n",
    "    for i, (real_data, _) in enumerate(trainloader):\n",
    "        real_data = real_data.to(device)\n",
    "\n",
    "        # 1 >>>>>> train D\n",
    "        optim_d.zero_grad()\n",
    "\n",
    "        batch_size = real_data.shape[0]\n",
    "\n",
    "        # --- real data part ---\n",
    "        # labels are 1 (real_label) for all elements in the minibatch\n",
    "        gr_truth = torch.full([batch_size], real_label, dtype=torch.float).to(device)\n",
    "        # get prediction for real data\n",
    "        # noisy_real_data = real_data + torch.normal(0, sigma_noise, real_data.shape, device=device)\n",
    "        pred_d_real = d(real_data).view(-1)\n",
    "        err_d_real = loss_fn(pred_d_real, gr_truth)\n",
    "        err_d_real.backward()\n",
    "        # this will be used only in the summary\n",
    "        mean_prediction_d_real = pred_d_real.mean().item()\n",
    "\n",
    "        # --- fake data part ---\n",
    "        # generate gaussian noise\n",
    "        noise = torch.randn([batch_size, dim_latent]).to(device)\n",
    "        # generate fake images\n",
    "        synthetic_dat = g(noise)\n",
    "        # labels are 0 (fake_label) for all elements in the minibatch\n",
    "        gr_truth.fill_(fake_label)\n",
    "        # get prediction for fake data\n",
    "        pred_d_fake = d(synthetic_dat.detach()).view(-1) # Note: don't want to backpropagate errors through the generator for now!\n",
    "        err_d_fake = loss_fn(pred_d_fake, gr_truth)\n",
    "        err_d_fake.backward()\n",
    "        # these two serve only for summary purposes\n",
    "        mean_prediction_d_fake = pred_d_fake.mean().item()\n",
    "        err_d_overall = err_d_fake + err_d_real\n",
    "\n",
    "        optim_d.step()\n",
    "\n",
    "        # 2 >>>>>> train G\n",
    "        optim_g.zero_grad()\n",
    "        # invert the fake/real label -- now they're all real!\n",
    "        gr_truth.fill_(real_label)\n",
    "        # re-feed the synthetic data to the newly-trained discriminator\n",
    "        pred_d_g = d(synthetic_dat).view(-1)\n",
    "        # this time, get error on G's side\n",
    "        err_g = loss_fn(pred_d_g, gr_truth)\n",
    "        err_g.backward()\n",
    "        mean_prediction_d_g = pred_d_g.mean().item()\n",
    "        optim_g.step()\n",
    "\n",
    "        if (i + 1) % ite_print == 0 or (i + 1) == len(trainloader):\n",
    "            print(f\"Ep. {epoch + 1} It. {i+1}/{len(trainloader)} >>> D loss {err_d_overall.item():.3f} | G loss {err_g.item():.3f} >>> D(x) [real] {mean_prediction_d_real:.3f} | D(G(z)) [fake] {mean_prediction_d_fake:.3f} | D*(G(z)) [fake after D train] {mean_prediction_d_g:.3f}\")\n",
    "    \n",
    "    # after each epoch, do some generation...\n",
    "    sample = g(fixed_noise).detach().cpu()\n",
    "    fakeimgs[epoch] = tensor_to_numpy(sample)\n"
   ]
  },
  {
   "cell_type": "code",
   "execution_count": 173,
   "metadata": {},
   "outputs": [
    {
     "output_type": "execute_result",
     "data": {
      "text/plain": [
       "<matplotlib.image.AxesImage at 0x7f1144288d00>"
      ]
     },
     "metadata": {},
     "execution_count": 173
    },
    {
     "output_type": "display_data",
     "data": {
      "text/plain": "<Figure size 432x288 with 1 Axes>",
      "image/svg+xml": "<?xml version=\"1.0\" encoding=\"utf-8\" standalone=\"no\"?>\n<!DOCTYPE svg PUBLIC \"-//W3C//DTD SVG 1.1//EN\"\n  \"http://www.w3.org/Graphics/SVG/1.1/DTD/svg11.dtd\">\n<!-- Created with matplotlib (https://matplotlib.org/) -->\n<svg height=\"248.518125pt\" version=\"1.1\" viewBox=\"0 0 251.565 248.518125\" width=\"251.565pt\" xmlns=\"http://www.w3.org/2000/svg\" xmlns:xlink=\"http://www.w3.org/1999/xlink\">\n <metadata>\n  <rdf:RDF xmlns:cc=\"http://creativecommons.org/ns#\" xmlns:dc=\"http://purl.org/dc/elements/1.1/\" xmlns:rdf=\"http://www.w3.org/1999/02/22-rdf-syntax-ns#\">\n   <cc:Work>\n    <dc:type rdf:resource=\"http://purl.org/dc/dcmitype/StillImage\"/>\n    <dc:date>2021-05-07T18:01:18.313101</dc:date>\n    <dc:format>image/svg+xml</dc:format>\n    <dc:creator>\n     <cc:Agent>\n      <dc:title>Matplotlib v3.3.4, https://matplotlib.org/</dc:title>\n     </cc:Agent>\n    </dc:creator>\n   </cc:Work>\n  </rdf:RDF>\n </metadata>\n <defs>\n  <style type=\"text/css\">*{stroke-linecap:butt;stroke-linejoin:round;}</style>\n </defs>\n <g id=\"figure_1\">\n  <g id=\"patch_1\">\n   <path d=\"M 0 248.518125 \nL 251.565 248.518125 \nL 251.565 0 \nL 0 0 \nz\n\" style=\"fill:none;\"/>\n  </g>\n  <g id=\"axes_1\">\n   <g id=\"patch_2\">\n    <path d=\"M 26.925 224.64 \nL 244.365 224.64 \nL 244.365 7.2 \nL 26.925 7.2 \nz\n\" style=\"fill:#ffffff;\"/>\n   </g>\n   <g clip-path=\"url(#p418a25807d)\">\n    <image height=\"218\" id=\"imagea656c0d603\" transform=\"scale(1 -1)translate(0 -218)\" width=\"218\" x=\"26.925\" xlink:href=\"data:image/png;base64,\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\" y=\"-6.64\"/>\n   </g>\n   <g id=\"matplotlib.axis_1\">\n    <g id=\"xtick_1\">\n     <g id=\"line2d_1\">\n      <defs>\n       <path d=\"M 0 0 \nL 0 3.5 \n\" id=\"m21fe39f285\" style=\"stroke:#000000;stroke-width:0.8;\"/>\n      </defs>\n      <g>\n       <use style=\"stroke:#000000;stroke-width:0.8;\" x=\"30.807857\" xlink:href=\"#m21fe39f285\" y=\"224.64\"/>\n      </g>\n     </g>\n     <g id=\"text_1\">\n      <!-- 0 -->\n      <g transform=\"translate(27.626607 239.238437)scale(0.1 -0.1)\">\n       <defs>\n        <path d=\"M 31.78125 66.40625 \nQ 24.171875 66.40625 20.328125 58.90625 \nQ 16.5 51.421875 16.5 36.375 \nQ 16.5 21.390625 20.328125 13.890625 \nQ 24.171875 6.390625 31.78125 6.390625 \nQ 39.453125 6.390625 43.28125 13.890625 \nQ 47.125 21.390625 47.125 36.375 \nQ 47.125 51.421875 43.28125 58.90625 \nQ 39.453125 66.40625 31.78125 66.40625 \nz\nM 31.78125 74.21875 \nQ 44.046875 74.21875 50.515625 64.515625 \nQ 56.984375 54.828125 56.984375 36.375 \nQ 56.984375 17.96875 50.515625 8.265625 \nQ 44.046875 -1.421875 31.78125 -1.421875 \nQ 19.53125 -1.421875 13.0625 8.265625 \nQ 6.59375 17.96875 6.59375 36.375 \nQ 6.59375 54.828125 13.0625 64.515625 \nQ 19.53125 74.21875 31.78125 74.21875 \nz\n\" id=\"DejaVuSans-48\"/>\n       </defs>\n       <use xlink:href=\"#DejaVuSans-48\"/>\n      </g>\n     </g>\n    </g>\n    <g id=\"xtick_2\">\n     <g id=\"line2d_2\">\n      <g>\n       <use style=\"stroke:#000000;stroke-width:0.8;\" x=\"69.636429\" xlink:href=\"#m21fe39f285\" y=\"224.64\"/>\n      </g>\n     </g>\n     <g id=\"text_2\">\n      <!-- 5 -->\n      <g transform=\"translate(66.455179 239.238437)scale(0.1 -0.1)\">\n       <defs>\n        <path d=\"M 10.796875 72.90625 \nL 49.515625 72.90625 \nL 49.515625 64.59375 \nL 19.828125 64.59375 \nL 19.828125 46.734375 \nQ 21.96875 47.46875 24.109375 47.828125 \nQ 26.265625 48.1875 28.421875 48.1875 \nQ 40.625 48.1875 47.75 41.5 \nQ 54.890625 34.8125 54.890625 23.390625 \nQ 54.890625 11.625 47.5625 5.09375 \nQ 40.234375 -1.421875 26.90625 -1.421875 \nQ 22.3125 -1.421875 17.546875 -0.640625 \nQ 12.796875 0.140625 7.71875 1.703125 \nL 7.71875 11.625 \nQ 12.109375 9.234375 16.796875 8.0625 \nQ 21.484375 6.890625 26.703125 6.890625 \nQ 35.15625 6.890625 40.078125 11.328125 \nQ 45.015625 15.765625 45.015625 23.390625 \nQ 45.015625 31 40.078125 35.4375 \nQ 35.15625 39.890625 26.703125 39.890625 \nQ 22.75 39.890625 18.8125 39.015625 \nQ 14.890625 38.140625 10.796875 36.28125 \nz\n\" id=\"DejaVuSans-53\"/>\n       </defs>\n       <use xlink:href=\"#DejaVuSans-53\"/>\n      </g>\n     </g>\n    </g>\n    <g id=\"xtick_3\">\n     <g id=\"line2d_3\">\n      <g>\n       <use style=\"stroke:#000000;stroke-width:0.8;\" x=\"108.465\" xlink:href=\"#m21fe39f285\" y=\"224.64\"/>\n      </g>\n     </g>\n     <g id=\"text_3\">\n      <!-- 10 -->\n      <g transform=\"translate(102.1025 239.238437)scale(0.1 -0.1)\">\n       <defs>\n        <path d=\"M 12.40625 8.296875 \nL 28.515625 8.296875 \nL 28.515625 63.921875 \nL 10.984375 60.40625 \nL 10.984375 69.390625 \nL 28.421875 72.90625 \nL 38.28125 72.90625 \nL 38.28125 8.296875 \nL 54.390625 8.296875 \nL 54.390625 0 \nL 12.40625 0 \nz\n\" id=\"DejaVuSans-49\"/>\n       </defs>\n       <use xlink:href=\"#DejaVuSans-49\"/>\n       <use x=\"63.623047\" xlink:href=\"#DejaVuSans-48\"/>\n      </g>\n     </g>\n    </g>\n    <g id=\"xtick_4\">\n     <g id=\"line2d_4\">\n      <g>\n       <use style=\"stroke:#000000;stroke-width:0.8;\" x=\"147.293571\" xlink:href=\"#m21fe39f285\" y=\"224.64\"/>\n      </g>\n     </g>\n     <g id=\"text_4\">\n      <!-- 15 -->\n      <g transform=\"translate(140.931071 239.238437)scale(0.1 -0.1)\">\n       <use xlink:href=\"#DejaVuSans-49\"/>\n       <use x=\"63.623047\" xlink:href=\"#DejaVuSans-53\"/>\n      </g>\n     </g>\n    </g>\n    <g id=\"xtick_5\">\n     <g id=\"line2d_5\">\n      <g>\n       <use style=\"stroke:#000000;stroke-width:0.8;\" x=\"186.122143\" xlink:href=\"#m21fe39f285\" y=\"224.64\"/>\n      </g>\n     </g>\n     <g id=\"text_5\">\n      <!-- 20 -->\n      <g transform=\"translate(179.759643 239.238437)scale(0.1 -0.1)\">\n       <defs>\n        <path d=\"M 19.1875 8.296875 \nL 53.609375 8.296875 \nL 53.609375 0 \nL 7.328125 0 \nL 7.328125 8.296875 \nQ 12.9375 14.109375 22.625 23.890625 \nQ 32.328125 33.6875 34.8125 36.53125 \nQ 39.546875 41.84375 41.421875 45.53125 \nQ 43.3125 49.21875 43.3125 52.78125 \nQ 43.3125 58.59375 39.234375 62.25 \nQ 35.15625 65.921875 28.609375 65.921875 \nQ 23.96875 65.921875 18.8125 64.3125 \nQ 13.671875 62.703125 7.8125 59.421875 \nL 7.8125 69.390625 \nQ 13.765625 71.78125 18.9375 73 \nQ 24.125 74.21875 28.421875 74.21875 \nQ 39.75 74.21875 46.484375 68.546875 \nQ 53.21875 62.890625 53.21875 53.421875 \nQ 53.21875 48.921875 51.53125 44.890625 \nQ 49.859375 40.875 45.40625 35.40625 \nQ 44.1875 33.984375 37.640625 27.21875 \nQ 31.109375 20.453125 19.1875 8.296875 \nz\n\" id=\"DejaVuSans-50\"/>\n       </defs>\n       <use xlink:href=\"#DejaVuSans-50\"/>\n       <use x=\"63.623047\" xlink:href=\"#DejaVuSans-48\"/>\n      </g>\n     </g>\n    </g>\n    <g id=\"xtick_6\">\n     <g id=\"line2d_6\">\n      <g>\n       <use style=\"stroke:#000000;stroke-width:0.8;\" x=\"224.950714\" xlink:href=\"#m21fe39f285\" y=\"224.64\"/>\n      </g>\n     </g>\n     <g id=\"text_6\">\n      <!-- 25 -->\n      <g transform=\"translate(218.588214 239.238437)scale(0.1 -0.1)\">\n       <use xlink:href=\"#DejaVuSans-50\"/>\n       <use x=\"63.623047\" xlink:href=\"#DejaVuSans-53\"/>\n      </g>\n     </g>\n    </g>\n   </g>\n   <g id=\"matplotlib.axis_2\">\n    <g id=\"ytick_1\">\n     <g id=\"line2d_7\">\n      <defs>\n       <path d=\"M 0 0 \nL -3.5 0 \n\" id=\"mf10f75971b\" style=\"stroke:#000000;stroke-width:0.8;\"/>\n      </defs>\n      <g>\n       <use style=\"stroke:#000000;stroke-width:0.8;\" x=\"26.925\" xlink:href=\"#mf10f75971b\" y=\"11.082857\"/>\n      </g>\n     </g>\n     <g id=\"text_7\">\n      <!-- 0 -->\n      <g transform=\"translate(13.5625 14.882076)scale(0.1 -0.1)\">\n       <use xlink:href=\"#DejaVuSans-48\"/>\n      </g>\n     </g>\n    </g>\n    <g id=\"ytick_2\">\n     <g id=\"line2d_8\">\n      <g>\n       <use style=\"stroke:#000000;stroke-width:0.8;\" x=\"26.925\" xlink:href=\"#mf10f75971b\" y=\"49.911429\"/>\n      </g>\n     </g>\n     <g id=\"text_8\">\n      <!-- 5 -->\n      <g transform=\"translate(13.5625 53.710647)scale(0.1 -0.1)\">\n       <use xlink:href=\"#DejaVuSans-53\"/>\n      </g>\n     </g>\n    </g>\n    <g id=\"ytick_3\">\n     <g id=\"line2d_9\">\n      <g>\n       <use style=\"stroke:#000000;stroke-width:0.8;\" x=\"26.925\" xlink:href=\"#mf10f75971b\" y=\"88.74\"/>\n      </g>\n     </g>\n     <g id=\"text_9\">\n      <!-- 10 -->\n      <g transform=\"translate(7.2 92.539219)scale(0.1 -0.1)\">\n       <use xlink:href=\"#DejaVuSans-49\"/>\n       <use x=\"63.623047\" xlink:href=\"#DejaVuSans-48\"/>\n      </g>\n     </g>\n    </g>\n    <g id=\"ytick_4\">\n     <g id=\"line2d_10\">\n      <g>\n       <use style=\"stroke:#000000;stroke-width:0.8;\" x=\"26.925\" xlink:href=\"#mf10f75971b\" y=\"127.568571\"/>\n      </g>\n     </g>\n     <g id=\"text_10\">\n      <!-- 15 -->\n      <g transform=\"translate(7.2 131.36779)scale(0.1 -0.1)\">\n       <use xlink:href=\"#DejaVuSans-49\"/>\n       <use x=\"63.623047\" xlink:href=\"#DejaVuSans-53\"/>\n      </g>\n     </g>\n    </g>\n    <g id=\"ytick_5\">\n     <g id=\"line2d_11\">\n      <g>\n       <use style=\"stroke:#000000;stroke-width:0.8;\" x=\"26.925\" xlink:href=\"#mf10f75971b\" y=\"166.397143\"/>\n      </g>\n     </g>\n     <g id=\"text_11\">\n      <!-- 20 -->\n      <g transform=\"translate(7.2 170.196362)scale(0.1 -0.1)\">\n       <use xlink:href=\"#DejaVuSans-50\"/>\n       <use x=\"63.623047\" xlink:href=\"#DejaVuSans-48\"/>\n      </g>\n     </g>\n    </g>\n    <g id=\"ytick_6\">\n     <g id=\"line2d_12\">\n      <g>\n       <use style=\"stroke:#000000;stroke-width:0.8;\" x=\"26.925\" xlink:href=\"#mf10f75971b\" y=\"205.225714\"/>\n      </g>\n     </g>\n     <g id=\"text_12\">\n      <!-- 25 -->\n      <g transform=\"translate(7.2 209.024933)scale(0.1 -0.1)\">\n       <use xlink:href=\"#DejaVuSans-50\"/>\n       <use x=\"63.623047\" xlink:href=\"#DejaVuSans-53\"/>\n      </g>\n     </g>\n    </g>\n   </g>\n   <g id=\"patch_3\">\n    <path d=\"M 26.925 224.64 \nL 26.925 7.2 \n\" style=\"fill:none;stroke:#000000;stroke-linecap:square;stroke-linejoin:miter;stroke-width:0.8;\"/>\n   </g>\n   <g id=\"patch_4\">\n    <path d=\"M 244.365 224.64 \nL 244.365 7.2 \n\" style=\"fill:none;stroke:#000000;stroke-linecap:square;stroke-linejoin:miter;stroke-width:0.8;\"/>\n   </g>\n   <g id=\"patch_5\">\n    <path d=\"M 26.925 224.64 \nL 244.365 224.64 \n\" style=\"fill:none;stroke:#000000;stroke-linecap:square;stroke-linejoin:miter;stroke-width:0.8;\"/>\n   </g>\n   <g id=\"patch_6\">\n    <path d=\"M 26.925 7.2 \nL 244.365 7.2 \n\" style=\"fill:none;stroke:#000000;stroke-linecap:square;stroke-linejoin:miter;stroke-width:0.8;\"/>\n   </g>\n  </g>\n </g>\n <defs>\n  <clipPath id=\"p418a25807d\">\n   <rect height=\"217.44\" width=\"217.44\" x=\"26.925\" y=\"7.2\"/>\n  </clipPath>\n </defs>\n</svg>\n",
      "image/png": "[encoded data removed]"
     },
     "metadata": {
      "needs_background": "light"
     }
    }
   ],
   "source": [
    "plt.imshow(fakeimgs[2,0], cmap=\"gray\")"
   ]
  },
  {
   "source": [
    "## Wasserstein GAN\n",
    "\n",
    "The Wasserstein GAN (WGAN) ([2](https://arxiv.org/pdf/1701.07875.pdf)) replaces the discriminator with a **critic**, which is still an ANN, but with a different loss function: while the discriminator minimizes the binary cross-entropy loss, the critic minimizes an approximation of the **Wasserstein Distance** (also called Earth Mover's Distance, EMD) between the real distribution of data ($P_r$) and the *guide* distribution ($P_\\theta$), which is the distribution being learned by our generator.\n",
    "\n",
    "![](img/emd.jpg)\n",
    "\n",
    "$EMD(P_r, P_\\theta) = \\inf_{\\gamma\\in\\Pi(P_r,P_\\theta)} \\text{E}_{(x,y)\\sim\\gamma}(\\vert\\vert x-y \\vert\\vert)$\n",
    "\n",
    "Here, $\\Pi(P_r,P_\\theta)$ represent the family of all possible joint distribution of $X, Y$ whose marginal $P(X)=P_r$ and $P(Y)=P_\\theta$, and $\\gamma$ is hence a sample from this family.\n",
    "\n",
    "More specifically, we wish to find the *minimal density mass* to be transported from $P_\\theta$ to $P_r$ such that $P_\\theta$ *becomes* $P_r$.\n",
    "\n",
    "It turns out that the critic can be an ANN $f_w$ trained by back-propagating the gradient according to the following loss function:\n",
    "\n",
    "$\\mathcal{L}_f = \\frac{1}{b}\\sum_{i=1}^{b} f_w(x^{(i)}) - \\frac{1}{b}\\sum_{i=1}^{b}f_w(g_\\theta(z^{(i)}))$\n",
    "\n",
    "The notation is easily inferrable from before:\n",
    "* $b$ is the batch size\n",
    "* $g$ is the generator parametrized by $\\theta$\n",
    "* $z$ is a sample from the *guide distribution* (usually, a Gaussian)\n",
    "\n",
    "$w$ (parameters of $f$) is then updated using RMSProp (in the original paper) and clipping the resulting new parameters in the interval $[-0.01, 0.01]$.\n",
    "\n",
    "The loss of $g$ is instead\n",
    "\n",
    "$\\mathcal{L}_g = \\frac{1}{b}\\sum_{i=1}^{m}f_w(g_\\theta(z^{(i)}))$"
   ],
   "cell_type": "markdown",
   "metadata": {}
  },
  {
   "cell_type": "code",
   "execution_count": 190,
   "metadata": {},
   "outputs": [],
   "source": [
    "d = Discriminator().to(device)\n",
    "g = Generator(100).to(device)"
   ]
  },
  {
   "cell_type": "code",
   "execution_count": 191,
   "metadata": {},
   "outputs": [],
   "source": [
    "loss_fn_critic = lambda pred_critic : pred_critic.mean()\n",
    "loss_fn_gener = lambda pred_critic_generated : -pred_critic_generated.mean()"
   ]
  },
  {
   "cell_type": "code",
   "execution_count": 192,
   "metadata": {},
   "outputs": [],
   "source": [
    "optim_d = torch.optim.RMSprop(d.parameters(), lr=5e-5)\n",
    "optim_g = torch.optim.RMSprop(g.parameters(), lr=5e-5)"
   ]
  },
  {
   "cell_type": "code",
   "execution_count": 193,
   "metadata": {},
   "outputs": [],
   "source": [
    "# defines the ratio of critic update vs generator update\n",
    "n_critic_training = 5"
   ]
  },
  {
   "cell_type": "code",
   "execution_count": 194,
   "metadata": {},
   "outputs": [
    {
     "output_type": "stream",
     "name": "stdout",
     "text": [
      "Ep. 1 It. 25/235 >>> Critic loss -0.205 | G loss -0.661\n",
      "Ep. 1 It. 50/235 >>> Critic loss -0.276 | G loss -0.741\n",
      "Ep. 1 It. 75/235 >>> Critic loss -0.302 | G loss -0.782\n",
      "Ep. 1 It. 100/235 >>> Critic loss -0.327 | G loss -0.809\n",
      "Ep. 1 It. 125/235 >>> Critic loss -0.338 | G loss -0.830\n",
      "Ep. 1 It. 150/235 >>> Critic loss -0.346 | G loss -0.847\n",
      "Ep. 1 It. 175/235 >>> Critic loss -0.354 | G loss -0.861\n",
      "Ep. 1 It. 200/235 >>> Critic loss -0.360 | G loss -0.874\n",
      "Ep. 1 It. 225/235 >>> Critic loss -0.358 | G loss -0.884\n",
      "Ep. 1 It. 235/235 >>> Critic loss -0.361 | G loss -0.888\n",
      "Ep. 2 It. 25/235 >>> Critic loss -0.359 | G loss -0.897\n",
      "Ep. 2 It. 50/235 >>> Critic loss -0.363 | G loss -0.904\n",
      "Ep. 2 It. 75/235 >>> Critic loss -0.370 | G loss -0.911\n",
      "Ep. 2 It. 100/235 >>> Critic loss -0.383 | G loss -0.917\n",
      "Ep. 2 It. 125/235 >>> Critic loss -0.387 | G loss -0.923\n",
      "Ep. 2 It. 150/235 >>> Critic loss -0.387 | G loss -0.928\n",
      "Ep. 2 It. 175/235 >>> Critic loss -0.402 | G loss -0.933\n",
      "Ep. 2 It. 200/235 >>> Critic loss -0.427 | G loss -0.937\n",
      "Ep. 2 It. 225/235 >>> Critic loss -0.465 | G loss -0.942\n",
      "Ep. 2 It. 235/235 >>> Critic loss -0.446 | G loss -0.943\n",
      "Ep. 3 It. 25/235 >>> Critic loss -0.477 | G loss -0.947\n",
      "Ep. 3 It. 50/235 >>> Critic loss -0.533 | G loss -0.951\n",
      "Ep. 3 It. 75/235 >>> Critic loss -0.498 | G loss -0.955\n",
      "Ep. 3 It. 100/235 >>> Critic loss -0.491 | G loss -0.958\n",
      "Ep. 3 It. 125/235 >>> Critic loss -0.527 | G loss -0.961\n",
      "Ep. 3 It. 150/235 >>> Critic loss -0.573 | G loss -0.964\n",
      "Ep. 3 It. 175/235 >>> Critic loss -0.555 | G loss -0.966\n",
      "Ep. 3 It. 200/235 >>> Critic loss -0.533 | G loss -0.968\n",
      "Ep. 3 It. 225/235 >>> Critic loss -0.559 | G loss -0.970\n",
      "Ep. 3 It. 235/235 >>> Critic loss -0.558 | G loss -0.970\n"
     ]
    }
   ],
   "source": [
    "for epoch in range(num_epochs):\n",
    "    for i, (real_data, _) in enumerate(trainloader):\n",
    "        real_data = real_data.to(device)\n",
    "\n",
    "        # 1 >>>>>> train D\n",
    "        optim_d.zero_grad()\n",
    "\n",
    "        batch_size = real_data.shape[0]\n",
    "\n",
    "        # --- real data part ---\n",
    "        # labels are 1 (real_label) for all elements in the minibatch\n",
    "        # gr_truth = torch.full([batch_size], real_label, dtype=torch.float).to(device)\n",
    "\n",
    "        # get prediction for real data\n",
    "        # noisy_real_data = real_data + torch.normal(0, sigma_noise, real_data.shape, device=device)\n",
    "        pred_d_real = d(real_data).view(-1)\n",
    "        err_d_real = loss_fn_critic(pred_d_real)\n",
    "        err_d_real.backward()\n",
    "        # this will be used only in the summary\n",
    "        # mean_prediction_d_real = pred_d_real.mean().item()\n",
    "\n",
    "        # --- fake data part ---\n",
    "        # generate gaussian noise\n",
    "        noise = torch.randn([batch_size, dim_latent]).to(device)\n",
    "        # generate fake images\n",
    "        synthetic_data = g(noise)\n",
    "        # labels are 0 (fake_label) for all elements in the minibatch\n",
    "        #gr_truth.fill_(fake_label)\n",
    "        # get prediction for fake data\n",
    "        pred_d_fake = d(synthetic_data.detach()).view(-1)\n",
    "        err_d_fake = loss_fn_gener(pred_d_fake)\n",
    "        # gradient clipping\n",
    "        torch.nn.utils.clip_grad_value_(d.parameters(), 0.01)\n",
    "        err_d_fake.backward()\n",
    "        # these two serve only for summary purposes\n",
    "        # mean_prediction_d_fake = pred_d_fake.mean().item()\n",
    "        err_d_overall = err_d_fake + err_d_real\n",
    "\n",
    "        optim_d.step()\n",
    "\n",
    "        # 2 >>>>>> train G\n",
    "        if (i + 1) % n_critic_training == 0:\n",
    "            optim_g.zero_grad()\n",
    "            # invert the fake/real label -- now they're all real!\n",
    "            # gr_truth.fill_(real_label)\n",
    "            # re-feed the synthetic data to the newly-trained discriminator\n",
    "            # generate new noise (required by paper)\n",
    "            noise = torch.randn([batch_size, dim_latent]).to(device)\n",
    "            synthetic_data = g(noise)\n",
    "            pred_d_g = d(synthetic_data).view(-1)\n",
    "            # this time, get error on G's side\n",
    "            err_g = loss_fn_gener(pred_d_g)\n",
    "            err_g.backward()\n",
    "\n",
    "        if (i + 1) % ite_print == 0 or (i + 1) == len(trainloader):\n",
    "            print(f\"Ep. {epoch + 1} It. {i+1}/{len(trainloader)} >>> Critic loss {err_d_overall.item():.3f} | G loss {err_g.item():.3f}\")\n",
    "    \n",
    "    # after each epoch, do some generation...\n",
    "    sample = g(fixed_noise).detach().cpu()\n",
    "    fakeimgs[epoch] = tensor_to_numpy(sample)\n"
   ]
  },
  {
   "cell_type": "code",
   "execution_count": 198,
   "metadata": {},
   "outputs": [
    {
     "output_type": "execute_result",
     "data": {
      "text/plain": [
       "<matplotlib.image.AxesImage at 0x7f1144b54580>"
      ]
     },
     "metadata": {},
     "execution_count": 198
    },
    {
     "output_type": "display_data",
     "data": {
      "text/plain": "<Figure size 432x288 with 1 Axes>",
      "image/svg+xml": "<?xml version=\"1.0\" encoding=\"utf-8\" standalone=\"no\"?>\n<!DOCTYPE svg PUBLIC \"-//W3C//DTD SVG 1.1//EN\"\n  \"http://www.w3.org/Graphics/SVG/1.1/DTD/svg11.dtd\">\n<!-- Created with matplotlib (https://matplotlib.org/) -->\n<svg height=\"248.518125pt\" version=\"1.1\" viewBox=\"0 0 251.565 248.518125\" width=\"251.565pt\" xmlns=\"http://www.w3.org/2000/svg\" xmlns:xlink=\"http://www.w3.org/1999/xlink\">\n <metadata>\n  <rdf:RDF xmlns:cc=\"http://creativecommons.org/ns#\" xmlns:dc=\"http://purl.org/dc/elements/1.1/\" xmlns:rdf=\"http://www.w3.org/1999/02/22-rdf-syntax-ns#\">\n   <cc:Work>\n    <dc:type rdf:resource=\"http://purl.org/dc/dcmitype/StillImage\"/>\n    <dc:date>2021-05-07T18:44:48.077935</dc:date>\n    <dc:format>image/svg+xml</dc:format>\n    <dc:creator>\n     <cc:Agent>\n      <dc:title>Matplotlib v3.3.4, https://matplotlib.org/</dc:title>\n     </cc:Agent>\n    </dc:creator>\n   </cc:Work>\n  </rdf:RDF>\n </metadata>\n <defs>\n  <style type=\"text/css\">*{stroke-linecap:butt;stroke-linejoin:round;}</style>\n </defs>\n <g id=\"figure_1\">\n  <g id=\"patch_1\">\n   <path d=\"M 0 248.518125 \nL 251.565 248.518125 \nL 251.565 0 \nL 0 0 \nz\n\" style=\"fill:none;\"/>\n  </g>\n  <g id=\"axes_1\">\n   <g id=\"patch_2\">\n    <path d=\"M 26.925 224.64 \nL 244.365 224.64 \nL 244.365 7.2 \nL 26.925 7.2 \nz\n\" style=\"fill:#ffffff;\"/>\n   </g>\n   <g clip-path=\"url(#p01037cd04b)\">\n    <image height=\"218\" id=\"image299f2343e1\" transform=\"scale(1 -1)translate(0 -218)\" width=\"218\" x=\"26.925\" xlink:href=\"data:image/png;base64,\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\" y=\"-6.64\"/>\n   </g>\n   <g id=\"matplotlib.axis_1\">\n    <g id=\"xtick_1\">\n     <g id=\"line2d_1\">\n      <defs>\n       <path d=\"M 0 0 \nL 0 3.5 \n\" id=\"m33ab6fa9a3\" style=\"stroke:#000000;stroke-width:0.8;\"/>\n      </defs>\n      <g>\n       <use style=\"stroke:#000000;stroke-width:0.8;\" x=\"30.807857\" xlink:href=\"#m33ab6fa9a3\" y=\"224.64\"/>\n      </g>\n     </g>\n     <g id=\"text_1\">\n      <!-- 0 -->\n      <g transform=\"translate(27.626607 239.238437)scale(0.1 -0.1)\">\n       <defs>\n        <path d=\"M 31.78125 66.40625 \nQ 24.171875 66.40625 20.328125 58.90625 \nQ 16.5 51.421875 16.5 36.375 \nQ 16.5 21.390625 20.328125 13.890625 \nQ 24.171875 6.390625 31.78125 6.390625 \nQ 39.453125 6.390625 43.28125 13.890625 \nQ 47.125 21.390625 47.125 36.375 \nQ 47.125 51.421875 43.28125 58.90625 \nQ 39.453125 66.40625 31.78125 66.40625 \nz\nM 31.78125 74.21875 \nQ 44.046875 74.21875 50.515625 64.515625 \nQ 56.984375 54.828125 56.984375 36.375 \nQ 56.984375 17.96875 50.515625 8.265625 \nQ 44.046875 -1.421875 31.78125 -1.421875 \nQ 19.53125 -1.421875 13.0625 8.265625 \nQ 6.59375 17.96875 6.59375 36.375 \nQ 6.59375 54.828125 13.0625 64.515625 \nQ 19.53125 74.21875 31.78125 74.21875 \nz\n\" id=\"DejaVuSans-48\"/>\n       </defs>\n       <use xlink:href=\"#DejaVuSans-48\"/>\n      </g>\n     </g>\n    </g>\n    <g id=\"xtick_2\">\n     <g id=\"line2d_2\">\n      <g>\n       <use style=\"stroke:#000000;stroke-width:0.8;\" x=\"69.636429\" xlink:href=\"#m33ab6fa9a3\" y=\"224.64\"/>\n      </g>\n     </g>\n     <g id=\"text_2\">\n      <!-- 5 -->\n      <g transform=\"translate(66.455179 239.238437)scale(0.1 -0.1)\">\n       <defs>\n        <path d=\"M 10.796875 72.90625 \nL 49.515625 72.90625 \nL 49.515625 64.59375 \nL 19.828125 64.59375 \nL 19.828125 46.734375 \nQ 21.96875 47.46875 24.109375 47.828125 \nQ 26.265625 48.1875 28.421875 48.1875 \nQ 40.625 48.1875 47.75 41.5 \nQ 54.890625 34.8125 54.890625 23.390625 \nQ 54.890625 11.625 47.5625 5.09375 \nQ 40.234375 -1.421875 26.90625 -1.421875 \nQ 22.3125 -1.421875 17.546875 -0.640625 \nQ 12.796875 0.140625 7.71875 1.703125 \nL 7.71875 11.625 \nQ 12.109375 9.234375 16.796875 8.0625 \nQ 21.484375 6.890625 26.703125 6.890625 \nQ 35.15625 6.890625 40.078125 11.328125 \nQ 45.015625 15.765625 45.015625 23.390625 \nQ 45.015625 31 40.078125 35.4375 \nQ 35.15625 39.890625 26.703125 39.890625 \nQ 22.75 39.890625 18.8125 39.015625 \nQ 14.890625 38.140625 10.796875 36.28125 \nz\n\" id=\"DejaVuSans-53\"/>\n       </defs>\n       <use xlink:href=\"#DejaVuSans-53\"/>\n      </g>\n     </g>\n    </g>\n    <g id=\"xtick_3\">\n     <g id=\"line2d_3\">\n      <g>\n       <use style=\"stroke:#000000;stroke-width:0.8;\" x=\"108.465\" xlink:href=\"#m33ab6fa9a3\" y=\"224.64\"/>\n      </g>\n     </g>\n     <g id=\"text_3\">\n      <!-- 10 -->\n      <g transform=\"translate(102.1025 239.238437)scale(0.1 -0.1)\">\n       <defs>\n        <path d=\"M 12.40625 8.296875 \nL 28.515625 8.296875 \nL 28.515625 63.921875 \nL 10.984375 60.40625 \nL 10.984375 69.390625 \nL 28.421875 72.90625 \nL 38.28125 72.90625 \nL 38.28125 8.296875 \nL 54.390625 8.296875 \nL 54.390625 0 \nL 12.40625 0 \nz\n\" id=\"DejaVuSans-49\"/>\n       </defs>\n       <use xlink:href=\"#DejaVuSans-49\"/>\n       <use x=\"63.623047\" xlink:href=\"#DejaVuSans-48\"/>\n      </g>\n     </g>\n    </g>\n    <g id=\"xtick_4\">\n     <g id=\"line2d_4\">\n      <g>\n       <use style=\"stroke:#000000;stroke-width:0.8;\" x=\"147.293571\" xlink:href=\"#m33ab6fa9a3\" y=\"224.64\"/>\n      </g>\n     </g>\n     <g id=\"text_4\">\n      <!-- 15 -->\n      <g transform=\"translate(140.931071 239.238437)scale(0.1 -0.1)\">\n       <use xlink:href=\"#DejaVuSans-49\"/>\n       <use x=\"63.623047\" xlink:href=\"#DejaVuSans-53\"/>\n      </g>\n     </g>\n    </g>\n    <g id=\"xtick_5\">\n     <g id=\"line2d_5\">\n      <g>\n       <use style=\"stroke:#000000;stroke-width:0.8;\" x=\"186.122143\" xlink:href=\"#m33ab6fa9a3\" y=\"224.64\"/>\n      </g>\n     </g>\n     <g id=\"text_5\">\n      <!-- 20 -->\n      <g transform=\"translate(179.759643 239.238437)scale(0.1 -0.1)\">\n       <defs>\n        <path d=\"M 19.1875 8.296875 \nL 53.609375 8.296875 \nL 53.609375 0 \nL 7.328125 0 \nL 7.328125 8.296875 \nQ 12.9375 14.109375 22.625 23.890625 \nQ 32.328125 33.6875 34.8125 36.53125 \nQ 39.546875 41.84375 41.421875 45.53125 \nQ 43.3125 49.21875 43.3125 52.78125 \nQ 43.3125 58.59375 39.234375 62.25 \nQ 35.15625 65.921875 28.609375 65.921875 \nQ 23.96875 65.921875 18.8125 64.3125 \nQ 13.671875 62.703125 7.8125 59.421875 \nL 7.8125 69.390625 \nQ 13.765625 71.78125 18.9375 73 \nQ 24.125 74.21875 28.421875 74.21875 \nQ 39.75 74.21875 46.484375 68.546875 \nQ 53.21875 62.890625 53.21875 53.421875 \nQ 53.21875 48.921875 51.53125 44.890625 \nQ 49.859375 40.875 45.40625 35.40625 \nQ 44.1875 33.984375 37.640625 27.21875 \nQ 31.109375 20.453125 19.1875 8.296875 \nz\n\" id=\"DejaVuSans-50\"/>\n       </defs>\n       <use xlink:href=\"#DejaVuSans-50\"/>\n       <use x=\"63.623047\" xlink:href=\"#DejaVuSans-48\"/>\n      </g>\n     </g>\n    </g>\n    <g id=\"xtick_6\">\n     <g id=\"line2d_6\">\n      <g>\n       <use style=\"stroke:#000000;stroke-width:0.8;\" x=\"224.950714\" xlink:href=\"#m33ab6fa9a3\" y=\"224.64\"/>\n      </g>\n     </g>\n     <g id=\"text_6\">\n      <!-- 25 -->\n      <g transform=\"translate(218.588214 239.238437)scale(0.1 -0.1)\">\n       <use xlink:href=\"#DejaVuSans-50\"/>\n       <use x=\"63.623047\" xlink:href=\"#DejaVuSans-53\"/>\n      </g>\n     </g>\n    </g>\n   </g>\n   <g id=\"matplotlib.axis_2\">\n    <g id=\"ytick_1\">\n     <g id=\"line2d_7\">\n      <defs>\n       <path d=\"M 0 0 \nL -3.5 0 \n\" id=\"m95d63975e2\" style=\"stroke:#000000;stroke-width:0.8;\"/>\n      </defs>\n      <g>\n       <use style=\"stroke:#000000;stroke-width:0.8;\" x=\"26.925\" xlink:href=\"#m95d63975e2\" y=\"11.082857\"/>\n      </g>\n     </g>\n     <g id=\"text_7\">\n      <!-- 0 -->\n      <g transform=\"translate(13.5625 14.882076)scale(0.1 -0.1)\">\n       <use xlink:href=\"#DejaVuSans-48\"/>\n      </g>\n     </g>\n    </g>\n    <g id=\"ytick_2\">\n     <g id=\"line2d_8\">\n      <g>\n       <use style=\"stroke:#000000;stroke-width:0.8;\" x=\"26.925\" xlink:href=\"#m95d63975e2\" y=\"49.911429\"/>\n      </g>\n     </g>\n     <g id=\"text_8\">\n      <!-- 5 -->\n      <g transform=\"translate(13.5625 53.710647)scale(0.1 -0.1)\">\n       <use xlink:href=\"#DejaVuSans-53\"/>\n      </g>\n     </g>\n    </g>\n    <g id=\"ytick_3\">\n     <g id=\"line2d_9\">\n      <g>\n       <use style=\"stroke:#000000;stroke-width:0.8;\" x=\"26.925\" xlink:href=\"#m95d63975e2\" y=\"88.74\"/>\n      </g>\n     </g>\n     <g id=\"text_9\">\n      <!-- 10 -->\n      <g transform=\"translate(7.2 92.539219)scale(0.1 -0.1)\">\n       <use xlink:href=\"#DejaVuSans-49\"/>\n       <use x=\"63.623047\" xlink:href=\"#DejaVuSans-48\"/>\n      </g>\n     </g>\n    </g>\n    <g id=\"ytick_4\">\n     <g id=\"line2d_10\">\n      <g>\n       <use style=\"stroke:#000000;stroke-width:0.8;\" x=\"26.925\" xlink:href=\"#m95d63975e2\" y=\"127.568571\"/>\n      </g>\n     </g>\n     <g id=\"text_10\">\n      <!-- 15 -->\n      <g transform=\"translate(7.2 131.36779)scale(0.1 -0.1)\">\n       <use xlink:href=\"#DejaVuSans-49\"/>\n       <use x=\"63.623047\" xlink:href=\"#DejaVuSans-53\"/>\n      </g>\n     </g>\n    </g>\n    <g id=\"ytick_5\">\n     <g id=\"line2d_11\">\n      <g>\n       <use style=\"stroke:#000000;stroke-width:0.8;\" x=\"26.925\" xlink:href=\"#m95d63975e2\" y=\"166.397143\"/>\n      </g>\n     </g>\n     <g id=\"text_11\">\n      <!-- 20 -->\n      <g transform=\"translate(7.2 170.196362)scale(0.1 -0.1)\">\n       <use xlink:href=\"#DejaVuSans-50\"/>\n       <use x=\"63.623047\" xlink:href=\"#DejaVuSans-48\"/>\n      </g>\n     </g>\n    </g>\n    <g id=\"ytick_6\">\n     <g id=\"line2d_12\">\n      <g>\n       <use style=\"stroke:#000000;stroke-width:0.8;\" x=\"26.925\" xlink:href=\"#m95d63975e2\" y=\"205.225714\"/>\n      </g>\n     </g>\n     <g id=\"text_12\">\n      <!-- 25 -->\n      <g transform=\"translate(7.2 209.024933)scale(0.1 -0.1)\">\n       <use xlink:href=\"#DejaVuSans-50\"/>\n       <use x=\"63.623047\" xlink:href=\"#DejaVuSans-53\"/>\n      </g>\n     </g>\n    </g>\n   </g>\n   <g id=\"patch_3\">\n    <path d=\"M 26.925 224.64 \nL 26.925 7.2 \n\" style=\"fill:none;stroke:#000000;stroke-linecap:square;stroke-linejoin:miter;stroke-width:0.8;\"/>\n   </g>\n   <g id=\"patch_4\">\n    <path d=\"M 244.365 224.64 \nL 244.365 7.2 \n\" style=\"fill:none;stroke:#000000;stroke-linecap:square;stroke-linejoin:miter;stroke-width:0.8;\"/>\n   </g>\n   <g id=\"patch_5\">\n    <path d=\"M 26.925 224.64 \nL 244.365 224.64 \n\" style=\"fill:none;stroke:#000000;stroke-linecap:square;stroke-linejoin:miter;stroke-width:0.8;\"/>\n   </g>\n   <g id=\"patch_6\">\n    <path d=\"M 26.925 7.2 \nL 244.365 7.2 \n\" style=\"fill:none;stroke:#000000;stroke-linecap:square;stroke-linejoin:miter;stroke-width:0.8;\"/>\n   </g>\n  </g>\n </g>\n <defs>\n  <clipPath id=\"p01037cd04b\">\n   <rect height=\"217.44\" width=\"217.44\" x=\"26.925\" y=\"7.2\"/>\n  </clipPath>\n </defs>\n</svg>\n",
      "image/png": "[encoded data removed]"
     },
     "metadata": {
      "needs_background": "light"
     }
    }
   ],
   "source": [
    "plt.imshow(fakeimgs[2,10], cmap=\"gray\")"
   ]
  },
  {
   "source": [
    "#### References\n",
    "\n",
    "[1](https://arxiv.org/abs/1511.06434) Radford, Alec, Luke Metz, and Soumith Chintala. \"Unsupervised representation learning with deep convolutional generative adversarial networks.\"\n",
    "\n",
    "[2](https://arxiv.org/pdf/1701.07875.pdf) Arjovsky, Martin, et al. \"Wasserstein GAN.\""
   ],
   "cell_type": "markdown",
   "metadata": {}
  }
 ]
}