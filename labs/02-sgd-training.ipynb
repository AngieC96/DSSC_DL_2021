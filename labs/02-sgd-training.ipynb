{
 "metadata": {
  "language_info": {
   "codemirror_mode": {
    "name": "ipython",
    "version": 3
   },
   "file_extension": ".py",
   "mimetype": "text/x-python",
   "name": "python",
   "nbconvert_exporter": "python",
   "pygments_lexer": "ipython3",
   "version": "3.8.5-final"
  },
  "orig_nbformat": 2,
  "kernelspec": {
   "name": "python3",
   "display_name": "Python 3.8.5 64-bit ('pytorch': conda)",
   "metadata": {
    "interpreter": {
     "hash": "0b44c525ca95e5dbf893da2282eb3ec3f420cb9fa59d94f9af90ca833dc1a37c"
    }
   }
  }
 },
 "nbformat": 4,
 "nbformat_minor": 2,
 "cells": [
  {
   "source": [
    "### Recap from previous Lab\n",
    "\n",
    "* We explored PyTorch (PT) tensor support and drew parallelisms w.r.t. NumPy `ndarray`\n",
    "* We experimented with some basic Machine Learning (ML) building blocks in PT\n",
    "* We built our first, very simple Artificial Neural Network (ANN), a MultiLayer Perceptrion (MLP)\n",
    "\n",
    "### Agenda for today\n",
    "\n",
    "* Today we will be training a MLP using SGD and backpropagation\n",
    "  * we will not be using the synthetic dataset we saw last lecture\n",
    "  * we will be training our MLP on the MNIST dataset, which is a simple (in modern terms) dataset on which to train our ANNs"
   ],
   "cell_type": "markdown",
   "metadata": {}
  },
  {
   "source": [
    "### Intro to MNIST\n",
    "\n",
    "MNIST is a dataset for **handwritten digit recognition**.\n",
    "\n",
    "![](img/mnist.png)\n",
    "\n",
    "* The dataset is composed of 60,000 grayscale images\n",
    "  * by default, the dataset is already split into a training set of 50,000 images, while the remaining 10,000 images make up the test/validation set\n",
    "* Each image is composed of 28x28 pixel\n",
    "* Only one digit is present in each image\n",
    "  * thus, we will be classifying digits from 0 to 9 (10 classes)\n",
    "* The digit is centered within the image"
   ],
   "cell_type": "markdown",
   "metadata": {}
  },
  {
   "source": [
    "#### Downloading the data\n",
    "\n",
    "Since we're not covering the handling of data in this specific tutorial, I have prepared an external script which will download the data and \"pack\" it into DataLoaders.\n",
    "You just need to know that DataLoaders and Datasets are two different entities; namely, DataLoaders are build on top of Datasets and handle the creation of the mini-batches that will later be fed into the MLP for the training and testing phase.\n",
    "\n",
    "The script returns both the DataLoaders and Datasets, in case you wanna play with them"
   ],
   "cell_type": "markdown",
   "metadata": {}
  },
  {
   "cell_type": "code",
   "execution_count": 1,
   "metadata": {},
   "outputs": [],
   "source": [
    "import torch\n",
    "from scripts import mnist\n",
    "from matplotlib import pyplot as plt\n",
    "\n",
    "minibatch_size_train = 256\n",
    "minibatch_size_test = 512\n",
    "\n",
    "trainloader, testloader, trainset, testset = mnist.get_data(batch_size_train=minibatch_size_test, batch_size_test=minibatch_size_test)"
   ]
  },
  {
   "source": [
    "Let us quickly view our data"
   ],
   "cell_type": "markdown",
   "metadata": {}
  },
  {
   "cell_type": "code",
   "execution_count": 7,
   "metadata": {},
   "outputs": [
    {
     "output_type": "execute_result",
     "data": {
      "text/plain": [
       "<matplotlib.image.AxesImage at 0x14e1f4bbf70>"
      ]
     },
     "metadata": {},
     "execution_count": 7
    },
    {
     "output_type": "display_data",
     "data": {
      "text/plain": "<Figure size 432x288 with 1 Axes>",
      "image/svg+xml": "<?xml version=\"1.0\" encoding=\"utf-8\" standalone=\"no\"?>\r\n<!DOCTYPE svg PUBLIC \"-//W3C//DTD SVG 1.1//EN\"\r\n  \"http://www.w3.org/Graphics/SVG/1.1/DTD/svg11.dtd\">\r\n<!-- Created with matplotlib (https://matplotlib.org/) -->\r\n<svg height=\"248.518125pt\" version=\"1.1\" viewBox=\"0 0 251.565 248.518125\" width=\"251.565pt\" xmlns=\"http://www.w3.org/2000/svg\" xmlns:xlink=\"http://www.w3.org/1999/xlink\">\r\n <metadata>\r\n  <rdf:RDF xmlns:cc=\"http://creativecommons.org/ns#\" xmlns:dc=\"http://purl.org/dc/elements/1.1/\" xmlns:rdf=\"http://www.w3.org/1999/02/22-rdf-syntax-ns#\">\r\n   <cc:Work>\r\n    <dc:type rdf:resource=\"http://purl.org/dc/dcmitype/StillImage\"/>\r\n    <dc:date>2021-03-09T16:28:28.549133</dc:date>\r\n    <dc:format>image/svg+xml</dc:format>\r\n    <dc:creator>\r\n     <cc:Agent>\r\n      <dc:title>Matplotlib v3.3.4, https://matplotlib.org/</dc:title>\r\n     </cc:Agent>\r\n    </dc:creator>\r\n   </cc:Work>\r\n  </rdf:RDF>\r\n </metadata>\r\n <defs>\r\n  <style type=\"text/css\">*{stroke-linecap:butt;stroke-linejoin:round;}</style>\r\n </defs>\r\n <g id=\"figure_1\">\r\n  <g id=\"patch_1\">\r\n   <path d=\"M 0 248.518125 \r\nL 251.565 248.518125 \r\nL 251.565 0 \r\nL 0 0 \r\nz\r\n\" style=\"fill:none;\"/>\r\n  </g>\r\n  <g id=\"axes_1\">\r\n   <g id=\"patch_2\">\r\n    <path d=\"M 26.925 224.64 \r\nL 244.365 224.64 \r\nL 244.365 7.2 \r\nL 26.925 7.2 \r\nz\r\n\" style=\"fill:#ffffff;\"/>\r\n   </g>\r\n   <g clip-path=\"url(#p69c9559c47)\">\r\n    <image height=\"218\" id=\"imagea7477485d4\" transform=\"scale(1 -1)translate(0 -218)\" width=\"218\" x=\"26.925\" xlink:href=\"data:image/png;base64,\r\niVBORw0KGgoAAAANSUhEUgAAANoAAADaCAYAAADAHVzbAAAF50lEQVR4nO3cP2xN/x/H8fbnq0MRkVgIkVhQJpNNolJqIjX5M1g6SKSJDsImEqOkIpXoIDGQiKW2EiMxMNGkFRIkEoMBm0F9p+943vfnXn1dbR+P9ZVz7gl55pPck9venp6eXz3Aovpftx8AVgKhQYDQIEBoECA0CBAaBAgNAv7p9gN0y+DgYLnPzMyU+8jISLlPT0//9jOxfDnRIEBoECA0CBAaBAgNAoQGAUKDgBX7Hm1oaKij669du1buc3Nzjdv8/HxHn83S40SDAKFBgNAgQGgQIDQIEBoErNiv9+/cuVPuAwMD5T48PFzuY2NjjdvExER5ra//lx8nGgQIDQKEBgFCgwChQYDQIEBoELBi36PNzs6W+/fv3zu6/+joaOP26tWr8lrv0ZYfJxoECA0ChAYBQoMAoUGA0CBAaBDQ29PT86vbD/E32rlzZ7mPj4+X+5kzZxq3N2/elNe2+q3bhw8fyp2/jxMNAoQGAUKDAKFBgNAgQGgQIDQI8B6tTa3es71+/brte797967cd+zY0fa96Q4nGgQIDQKEBgFCgwChQYDQIEBoEOA9WpvWrVtX7lNTU43b8ePHO/rs8+fPl/uNGzfKfWFhoaPP5/c50SBAaBAgNAgQGgQIDQKEBgG+3l8k/f39jdupU6fKaycnJ8u9t7e33O/evVvu586da9y+fv1aXkt7nGgQIDQIEBoECA0ChAYBQoMAoUGA92hd0NfXV+7T09PlPjQ0VO6/ftX/pWNjY43bzZs3y2v9xKY9TjQIEBoECA0ChAYBQoMAoUGA0CDAe7S/0NWrV8v94sWL5d7Ju66BgYFyn5+fb/veK5kTDQKEBgFCgwChQYDQIEBoECA0CPAebQn6+fNnubf6PVrl7Nmz5X7r1q22772SOdEgQGgQIDQIEBoECA0ChAYB/3T7Afh9R48eLff79++X++rVqxu369evl9euWrWq3Fv9ubqVyokGAUKDAKFBgNAgQGgQIDQIEBoELOmfyYyMjDRuly5dKq/99u1buZ84caLcP3/+XO7d1OrP0V25cqXte8/Ozpb7oUOHyv1v/ndbTE40CBAaBAgNAoQGAUKDAKFBgNAgYEm/R5uZmWncBgcHO7r3s2fPyv3y5cvl/uTJk44+vxMbNmwo98OHDzdurX5Ptnbt2nLv5N+tm/9mi82JBgFCgwChQYDQIEBoECA0CBAaBCzp92hDQ0ON24MHD8pr+/v7O/rsjx8/lvvp06cbt6dPn3b02Yvp4cOH5X7kyJGO7j8xMdG4jY+Pd3Tvv5kTDQKEBgFCgwChQYDQIEBoECA0CFjS79Eqjx49KvcDBw4s6uf/+PGjcbtw4UJ57fPnz8v9xYsXbT3T/2NycrLcR0dHO7r/+/fvG7d9+/aV13758qWjz+4mJxoECA0ChAYBQoMAoUGA0CBg2X69f/DgwXKfmpoq961bt/7Jx/mjdu/eXe6tvgbfuHFj47Z58+by2tu3b5f7li1byr3y+PHjch8eHm773t3mRIMAoUGA0CBAaBAgNAgQGgQIDQKW7Xu0VjZt2lTu9+7dK/ft27e3/dnr168v9zVr1pR7b29vub98+bLc9+7dW+7d8unTp3Lftm1b6En+PCcaBAgNAoQGAUKDAKFBgNAgQGgQsGLfo3XT/v37y33Pnj0dXX/s2LFyb/UebjEtLCw0bm/fvi2vHRgY+NOPE+NEgwChQYDQIEBoECA0CBAaBAgNArxHW4bGx8fLva+vr3HbtWtXee3Jkyfbeqb/zM3NNW6t/l7lUuZEgwChQYDQIEBoECA0CBAaBAgNArxHgwAnGgQIDQKEBgFCgwChQYDQIEBoECA0CBAaBAgNAoQGAUKDAKFBgNAgQGgQIDQIEBoECA0ChAYBQoMAoUGA0CBAaBAgNAgQGgQIDQKEBgFCgwChQYDQIEBoECA0CBAaBAgNAoQGAUKDAKFBgNAgQGgQIDQIEBoECA0ChAYBQoMAoUGA0CBAaBAgNAgQGgQIDQKEBgFCgwChQcC/bw/mAnZrsa0AAAAASUVORK5CYII=\" y=\"-6.64\"/>\r\n   </g>\r\n   <g id=\"matplotlib.axis_1\">\r\n    <g id=\"xtick_1\">\r\n     <g id=\"line2d_1\">\r\n      <defs>\r\n       <path d=\"M 0 0 \r\nL 0 3.5 \r\n\" id=\"m6ae1338606\" style=\"stroke:#000000;stroke-width:0.8;\"/>\r\n      </defs>\r\n      <g>\r\n       <use style=\"stroke:#000000;stroke-width:0.8;\" x=\"30.807857\" xlink:href=\"#m6ae1338606\" y=\"224.64\"/>\r\n      </g>\r\n     </g>\r\n     <g id=\"text_1\">\r\n      <!-- 0 -->\r\n      <g transform=\"translate(27.626607 239.238437)scale(0.1 -0.1)\">\r\n       <defs>\r\n        <path d=\"M 31.78125 66.40625 \r\nQ 24.171875 66.40625 20.328125 58.90625 \r\nQ 16.5 51.421875 16.5 36.375 \r\nQ 16.5 21.390625 20.328125 13.890625 \r\nQ 24.171875 6.390625 31.78125 6.390625 \r\nQ 39.453125 6.390625 43.28125 13.890625 \r\nQ 47.125 21.390625 47.125 36.375 \r\nQ 47.125 51.421875 43.28125 58.90625 \r\nQ 39.453125 66.40625 31.78125 66.40625 \r\nz\r\nM 31.78125 74.21875 \r\nQ 44.046875 74.21875 50.515625 64.515625 \r\nQ 56.984375 54.828125 56.984375 36.375 \r\nQ 56.984375 17.96875 50.515625 8.265625 \r\nQ 44.046875 -1.421875 31.78125 -1.421875 \r\nQ 19.53125 -1.421875 13.0625 8.265625 \r\nQ 6.59375 17.96875 6.59375 36.375 \r\nQ 6.59375 54.828125 13.0625 64.515625 \r\nQ 19.53125 74.21875 31.78125 74.21875 \r\nz\r\n\" id=\"DejaVuSans-48\"/>\r\n       </defs>\r\n       <use xlink:href=\"#DejaVuSans-48\"/>\r\n      </g>\r\n     </g>\r\n    </g>\r\n    <g id=\"xtick_2\">\r\n     <g id=\"line2d_2\">\r\n      <g>\r\n       <use style=\"stroke:#000000;stroke-width:0.8;\" x=\"69.636429\" xlink:href=\"#m6ae1338606\" y=\"224.64\"/>\r\n      </g>\r\n     </g>\r\n     <g id=\"text_2\">\r\n      <!-- 5 -->\r\n      <g transform=\"translate(66.455179 239.238437)scale(0.1 -0.1)\">\r\n       <defs>\r\n        <path d=\"M 10.796875 72.90625 \r\nL 49.515625 72.90625 \r\nL 49.515625 64.59375 \r\nL 19.828125 64.59375 \r\nL 19.828125 46.734375 \r\nQ 21.96875 47.46875 24.109375 47.828125 \r\nQ 26.265625 48.1875 28.421875 48.1875 \r\nQ 40.625 48.1875 47.75 41.5 \r\nQ 54.890625 34.8125 54.890625 23.390625 \r\nQ 54.890625 11.625 47.5625 5.09375 \r\nQ 40.234375 -1.421875 26.90625 -1.421875 \r\nQ 22.3125 -1.421875 17.546875 -0.640625 \r\nQ 12.796875 0.140625 7.71875 1.703125 \r\nL 7.71875 11.625 \r\nQ 12.109375 9.234375 16.796875 8.0625 \r\nQ 21.484375 6.890625 26.703125 6.890625 \r\nQ 35.15625 6.890625 40.078125 11.328125 \r\nQ 45.015625 15.765625 45.015625 23.390625 \r\nQ 45.015625 31 40.078125 35.4375 \r\nQ 35.15625 39.890625 26.703125 39.890625 \r\nQ 22.75 39.890625 18.8125 39.015625 \r\nQ 14.890625 38.140625 10.796875 36.28125 \r\nz\r\n\" id=\"DejaVuSans-53\"/>\r\n       </defs>\r\n       <use xlink:href=\"#DejaVuSans-53\"/>\r\n      </g>\r\n     </g>\r\n    </g>\r\n    <g id=\"xtick_3\">\r\n     <g id=\"line2d_3\">\r\n      <g>\r\n       <use style=\"stroke:#000000;stroke-width:0.8;\" x=\"108.465\" xlink:href=\"#m6ae1338606\" y=\"224.64\"/>\r\n      </g>\r\n     </g>\r\n     <g id=\"text_3\">\r\n      <!-- 10 -->\r\n      <g transform=\"translate(102.1025 239.238437)scale(0.1 -0.1)\">\r\n       <defs>\r\n        <path d=\"M 12.40625 8.296875 \r\nL 28.515625 8.296875 \r\nL 28.515625 63.921875 \r\nL 10.984375 60.40625 \r\nL 10.984375 69.390625 \r\nL 28.421875 72.90625 \r\nL 38.28125 72.90625 \r\nL 38.28125 8.296875 \r\nL 54.390625 8.296875 \r\nL 54.390625 0 \r\nL 12.40625 0 \r\nz\r\n\" id=\"DejaVuSans-49\"/>\r\n       </defs>\r\n       <use xlink:href=\"#DejaVuSans-49\"/>\r\n       <use x=\"63.623047\" xlink:href=\"#DejaVuSans-48\"/>\r\n      </g>\r\n     </g>\r\n    </g>\r\n    <g id=\"xtick_4\">\r\n     <g id=\"line2d_4\">\r\n      <g>\r\n       <use style=\"stroke:#000000;stroke-width:0.8;\" x=\"147.293571\" xlink:href=\"#m6ae1338606\" y=\"224.64\"/>\r\n      </g>\r\n     </g>\r\n     <g id=\"text_4\">\r\n      <!-- 15 -->\r\n      <g transform=\"translate(140.931071 239.238437)scale(0.1 -0.1)\">\r\n       <use xlink:href=\"#DejaVuSans-49\"/>\r\n       <use x=\"63.623047\" xlink:href=\"#DejaVuSans-53\"/>\r\n      </g>\r\n     </g>\r\n    </g>\r\n    <g id=\"xtick_5\">\r\n     <g id=\"line2d_5\">\r\n      <g>\r\n       <use style=\"stroke:#000000;stroke-width:0.8;\" x=\"186.122143\" xlink:href=\"#m6ae1338606\" y=\"224.64\"/>\r\n      </g>\r\n     </g>\r\n     <g id=\"text_5\">\r\n      <!-- 20 -->\r\n      <g transform=\"translate(179.759643 239.238437)scale(0.1 -0.1)\">\r\n       <defs>\r\n        <path d=\"M 19.1875 8.296875 \r\nL 53.609375 8.296875 \r\nL 53.609375 0 \r\nL 7.328125 0 \r\nL 7.328125 8.296875 \r\nQ 12.9375 14.109375 22.625 23.890625 \r\nQ 32.328125 33.6875 34.8125 36.53125 \r\nQ 39.546875 41.84375 41.421875 45.53125 \r\nQ 43.3125 49.21875 43.3125 52.78125 \r\nQ 43.3125 58.59375 39.234375 62.25 \r\nQ 35.15625 65.921875 28.609375 65.921875 \r\nQ 23.96875 65.921875 18.8125 64.3125 \r\nQ 13.671875 62.703125 7.8125 59.421875 \r\nL 7.8125 69.390625 \r\nQ 13.765625 71.78125 18.9375 73 \r\nQ 24.125 74.21875 28.421875 74.21875 \r\nQ 39.75 74.21875 46.484375 68.546875 \r\nQ 53.21875 62.890625 53.21875 53.421875 \r\nQ 53.21875 48.921875 51.53125 44.890625 \r\nQ 49.859375 40.875 45.40625 35.40625 \r\nQ 44.1875 33.984375 37.640625 27.21875 \r\nQ 31.109375 20.453125 19.1875 8.296875 \r\nz\r\n\" id=\"DejaVuSans-50\"/>\r\n       </defs>\r\n       <use xlink:href=\"#DejaVuSans-50\"/>\r\n       <use x=\"63.623047\" xlink:href=\"#DejaVuSans-48\"/>\r\n      </g>\r\n     </g>\r\n    </g>\r\n    <g id=\"xtick_6\">\r\n     <g id=\"line2d_6\">\r\n      <g>\r\n       <use style=\"stroke:#000000;stroke-width:0.8;\" x=\"224.950714\" xlink:href=\"#m6ae1338606\" y=\"224.64\"/>\r\n      </g>\r\n     </g>\r\n     <g id=\"text_6\">\r\n      <!-- 25 -->\r\n      <g transform=\"translate(218.588214 239.238437)scale(0.1 -0.1)\">\r\n       <use xlink:href=\"#DejaVuSans-50\"/>\r\n       <use x=\"63.623047\" xlink:href=\"#DejaVuSans-53\"/>\r\n      </g>\r\n     </g>\r\n    </g>\r\n   </g>\r\n   <g id=\"matplotlib.axis_2\">\r\n    <g id=\"ytick_1\">\r\n     <g id=\"line2d_7\">\r\n      <defs>\r\n       <path d=\"M 0 0 \r\nL -3.5 0 \r\n\" id=\"m7e71be54d4\" style=\"stroke:#000000;stroke-width:0.8;\"/>\r\n      </defs>\r\n      <g>\r\n       <use style=\"stroke:#000000;stroke-width:0.8;\" x=\"26.925\" xlink:href=\"#m7e71be54d4\" y=\"11.082857\"/>\r\n      </g>\r\n     </g>\r\n     <g id=\"text_7\">\r\n      <!-- 0 -->\r\n      <g transform=\"translate(13.5625 14.882076)scale(0.1 -0.1)\">\r\n       <use xlink:href=\"#DejaVuSans-48\"/>\r\n      </g>\r\n     </g>\r\n    </g>\r\n    <g id=\"ytick_2\">\r\n     <g id=\"line2d_8\">\r\n      <g>\r\n       <use style=\"stroke:#000000;stroke-width:0.8;\" x=\"26.925\" xlink:href=\"#m7e71be54d4\" y=\"49.911429\"/>\r\n      </g>\r\n     </g>\r\n     <g id=\"text_8\">\r\n      <!-- 5 -->\r\n      <g transform=\"translate(13.5625 53.710647)scale(0.1 -0.1)\">\r\n       <use xlink:href=\"#DejaVuSans-53\"/>\r\n      </g>\r\n     </g>\r\n    </g>\r\n    <g id=\"ytick_3\">\r\n     <g id=\"line2d_9\">\r\n      <g>\r\n       <use style=\"stroke:#000000;stroke-width:0.8;\" x=\"26.925\" xlink:href=\"#m7e71be54d4\" y=\"88.74\"/>\r\n      </g>\r\n     </g>\r\n     <g id=\"text_9\">\r\n      <!-- 10 -->\r\n      <g transform=\"translate(7.2 92.539219)scale(0.1 -0.1)\">\r\n       <use xlink:href=\"#DejaVuSans-49\"/>\r\n       <use x=\"63.623047\" xlink:href=\"#DejaVuSans-48\"/>\r\n      </g>\r\n     </g>\r\n    </g>\r\n    <g id=\"ytick_4\">\r\n     <g id=\"line2d_10\">\r\n      <g>\r\n       <use style=\"stroke:#000000;stroke-width:0.8;\" x=\"26.925\" xlink:href=\"#m7e71be54d4\" y=\"127.568571\"/>\r\n      </g>\r\n     </g>\r\n     <g id=\"text_10\">\r\n      <!-- 15 -->\r\n      <g transform=\"translate(7.2 131.36779)scale(0.1 -0.1)\">\r\n       <use xlink:href=\"#DejaVuSans-49\"/>\r\n       <use x=\"63.623047\" xlink:href=\"#DejaVuSans-53\"/>\r\n      </g>\r\n     </g>\r\n    </g>\r\n    <g id=\"ytick_5\">\r\n     <g id=\"line2d_11\">\r\n      <g>\r\n       <use style=\"stroke:#000000;stroke-width:0.8;\" x=\"26.925\" xlink:href=\"#m7e71be54d4\" y=\"166.397143\"/>\r\n      </g>\r\n     </g>\r\n     <g id=\"text_11\">\r\n      <!-- 20 -->\r\n      <g transform=\"translate(7.2 170.196362)scale(0.1 -0.1)\">\r\n       <use xlink:href=\"#DejaVuSans-50\"/>\r\n       <use x=\"63.623047\" xlink:href=\"#DejaVuSans-48\"/>\r\n      </g>\r\n     </g>\r\n    </g>\r\n    <g id=\"ytick_6\">\r\n     <g id=\"line2d_12\">\r\n      <g>\r\n       <use style=\"stroke:#000000;stroke-width:0.8;\" x=\"26.925\" xlink:href=\"#m7e71be54d4\" y=\"205.225714\"/>\r\n      </g>\r\n     </g>\r\n     <g id=\"text_12\">\r\n      <!-- 25 -->\r\n      <g transform=\"translate(7.2 209.024933)scale(0.1 -0.1)\">\r\n       <use xlink:href=\"#DejaVuSans-50\"/>\r\n       <use x=\"63.623047\" xlink:href=\"#DejaVuSans-53\"/>\r\n      </g>\r\n     </g>\r\n    </g>\r\n   </g>\r\n   <g id=\"patch_3\">\r\n    <path d=\"M 26.925 224.64 \r\nL 26.925 7.2 \r\n\" style=\"fill:none;stroke:#000000;stroke-linecap:square;stroke-linejoin:miter;stroke-width:0.8;\"/>\r\n   </g>\r\n   <g id=\"patch_4\">\r\n    <path d=\"M 244.365 224.64 \r\nL 244.365 7.2 \r\n\" style=\"fill:none;stroke:#000000;stroke-linecap:square;stroke-linejoin:miter;stroke-width:0.8;\"/>\r\n   </g>\r\n   <g id=\"patch_5\">\r\n    <path d=\"M 26.925 224.64 \r\nL 244.365 224.64 \r\n\" style=\"fill:none;stroke:#000000;stroke-linecap:square;stroke-linejoin:miter;stroke-width:0.8;\"/>\r\n   </g>\r\n   <g id=\"patch_6\">\r\n    <path d=\"M 26.925 7.2 \r\nL 244.365 7.2 \r\n\" style=\"fill:none;stroke:#000000;stroke-linecap:square;stroke-linejoin:miter;stroke-width:0.8;\"/>\r\n   </g>\r\n  </g>\r\n </g>\r\n <defs>\r\n  <clipPath id=\"p69c9559c47\">\r\n   <rect height=\"217.44\" width=\"217.44\" x=\"26.925\" y=\"7.2\"/>\r\n  </clipPath>\r\n </defs>\r\n</svg>\r\n",
      "image/png": "[encoded data removed]"
     },
     "metadata": {
      "needs_background": "light"
     }
    }
   ],
   "source": [
    "plt.imshow(trainset.data[15].numpy(), cmap=\"gray\")"
   ]
  },
  {
   "source": [
    "By applying the `Tensor` skills we learned during the previous lab, we may also plot multiple images within the same plot.\n"
   ],
   "cell_type": "markdown",
   "metadata": {}
  },
  {
   "cell_type": "code",
   "execution_count": 31,
   "metadata": {},
   "outputs": [
    {
     "output_type": "execute_result",
     "data": {
      "text/plain": [
       "torch.Size([5, 28, 28])"
      ]
     },
     "metadata": {},
     "execution_count": 31
    }
   ],
   "source": [
    "multi_img = trainset.data[25:30]\n",
    "multi_img.shape"
   ]
  },
  {
   "source": [
    "We have a (5 x 28 x 28) `Tensor`, we can't plot it with `plt.imshow` because it needs a matrix as input.\n",
    "\n",
    "**Q**: how can we solve this problem? Think about the methods we saw during the last lab"
   ],
   "cell_type": "markdown",
   "metadata": {}
  },
  {
   "cell_type": "code",
   "execution_count": null,
   "metadata": {},
   "outputs": [],
   "source": [
    "# solve here"
   ]
  },
  {
   "source": [
    "#### Designing our MLP\n",
    "\n",
    "Let us design our MLP.\n",
    "\n",
    "We need to think about:\n",
    "\n",
    "1. How wide is the output layer?\n",
    "2. How wide is the input layer and how is it structured?\n",
    "3. How many hidden layers and how wide need they be?\n",
    "4. What activation functions will we be using?\n",
    "\n",
    "You may try answering questions 1 and 2 by yourself as there's only one specific answer.\n",
    "Q. 3 and 4, instead, are a choice operated by the designer (the data scientist) and there is no straight definite answer, as usually architectural features are treated as hyperparameters to be tuned as part of the training process.\n",
    "\n",
    "For our MLP, then, we will be designing an MLP with\n",
    "* 3 hidden layers\n",
    "  * the first hidden layer has 16 neurons\n",
    "  * the second hidden layer has 32 neurons\n",
    "  * the third hidden layer has 24 neurons\n",
    "* ReLU as activation function for the hidden layers\n",
    "* Cross Entropy loss (or, equivalently, Negative LogLikelihood loss)\n",
    "\n",
    "![](img/mlp_mnist.png)"
   ],
   "cell_type": "markdown",
   "metadata": {}
  },
  {
   "cell_type": "code",
   "execution_count": null,
   "metadata": {},
   "outputs": [],
   "source": [
    "# write here the class for your MLP\n",
    "class MLP(torch.nn.Module):\n",
    "    def __init__(self):\n",
    "        pass\n",
    "    def forward(self, X):\n",
    "        pass"
   ]
  },
  {
   "cell_type": "code",
   "execution_count": 46,
   "metadata": {},
   "outputs": [],
   "source": [
    "class MLP(torch.nn.Module):\n",
    "    def __init__(self):\n",
    "        super().__init__()\n",
    "        self.flat = torch.nn.Flatten()\n",
    "        self.h1 = torch.nn.Linear(28*28, 16)\n",
    "        self.h2 = torch.nn.Linear(16, 32)\n",
    "        self.h3 = torch.nn.Linear(32, 24)\n",
    "        self.out = torch.nn.Linear(24, 10)\n",
    "    def forward(self, X):\n",
    "        out = self.flat(X)\n",
    "        out = torch.nn.functional.relu(self.h1(out))\n",
    "        out = torch.nn.functional.relu(self.h2(out))\n",
    "        out = torch.nn.functional.relu(self.h3(out))\n",
    "        out = self.out(out)\n",
    "        return out"
   ]
  },
  {
   "source": [
    "#### The training loop\n",
    "\n",
    "We now have to train the network using mini-batch Stochastic Gradient Descent (which we'll indicate as SGD).\n",
    "\n",
    "The mini-batch part is already handled by the `DataLoader`.\n",
    "\n",
    "We just need to call\n",
    "\n",
    "\n",
    "```python\n",
    "for X, y in dataloader:\n",
    "    # do something\n",
    "```\n",
    "\n",
    "`X` and `y` represent our mini-batch (images and ground truth respectively).\n",
    "\n",
    "* What do we need to do inside this loop?\n",
    "  1. do the forward pass\n",
    "  2. calculate the loss\n",
    "  3. do the backward pass and update the parameters\n",
    "* What objects do we need inside this loop?\n",
    "  * the model (to do the forward pass)\n",
    "  * the dataloader (to get `X, y`)\n",
    "  * the loss function (to calculate the value of the loss and backpropagate)\n",
    "  * the optimizer (to upgrade the value of the parameters given the gradients obtained via backprop)\n",
    "* What do we need to do outside this loop?\n",
    "  1. re-shuffle the mini-batches (NB: already taken care of by the `DataLoader`)\n",
    "  2. repeat the loop for each epoch\n",
    "\n",
    "Next, we are going to implement this loop (which we'll call `train_epoch`) in a minimalistic setting, i.e., with no excessive feature or embellishment.\n",
    "  \n",
    "\n"
   ],
   "cell_type": "markdown",
   "metadata": {}
  },
  {
   "cell_type": "code",
   "execution_count": 47,
   "metadata": {},
   "outputs": [],
   "source": [
    "def train_epoch(model, dataloader, loss_fn, optimizer):\n",
    "    for X, y in dataloader:\n",
    "        # 1. reset the gradients previously accumulated by the optimizer\n",
    "        #    this will avoid re-using gradients from previous loops\n",
    "        optimizer.zero_grad() \n",
    "        # 2. get the predictions from the current state of the model\n",
    "        #    this is the forward pass\n",
    "        y_hat = model(X)\n",
    "        # 3. calculate the loss on the current mini-batch\n",
    "        loss = loss_fn(y_hat, y)\n",
    "        # 4. execute the backward pass given the current loss\n",
    "        loss.backward()\n",
    "        # 5. update the value of the params\n",
    "        optimizer.step()"
   ]
  },
  {
   "source": [
    "To work, we just need to wrap this routine inside another loop which will repeat `train_epoch` for each epoch."
   ],
   "cell_type": "markdown",
   "metadata": {}
  },
  {
   "cell_type": "code",
   "execution_count": 65,
   "metadata": {},
   "outputs": [],
   "source": [
    "def train_model(model, dataloader, loss_fn, optimizer, num_epochs):\n",
    "    # this is a useful switch that lets us pass to training phase to network evaluation\n",
    "    # we will see in a future lab why it is necessary - for now it does nothing in particular\n",
    "    model.train()\n",
    "    for epoch in range(num_epochs):\n",
    "        train_epoch(model, dataloader, loss_fn, optimizer)\n",
    "        print(f\"Epoch {epoch+1} completed.\") # this is just so we have an idea on where we are during the training"
   ]
  },
  {
   "source": [
    "We will use vanilla SGD with a learning rate of 0.001 and we'll run the training for 3 epochs.\n",
    "Moreover, we will use the Cross Entropy loss function."
   ],
   "cell_type": "markdown",
   "metadata": {}
  },
  {
   "cell_type": "code",
   "execution_count": 56,
   "metadata": {},
   "outputs": [],
   "source": [
    "learn_rate = 0.001\n",
    "num_epochs = 3\n",
    "\n",
    "model = MLP()\n",
    "loss_fn = torch.nn.CrossEntropyLoss()\n",
    "optimizer = torch.optim.SGD(model.parameters(), lr=learn_rate)"
   ]
  },
  {
   "cell_type": "code",
   "execution_count": 57,
   "metadata": {},
   "outputs": [
    {
     "output_type": "stream",
     "name": "stdout",
     "text": [
      "Ended epoch 0\n",
      "Ended epoch 1\n",
      "Ended epoch 2\n",
      "Ended epoch 3\n",
      "Ended epoch 4\n"
     ]
    }
   ],
   "source": [
    "train_model(model, trainloader, loss_fn, optimizer, num_epochs)"
   ]
  },
  {
   "source": [
    "The problem with this setting is that we have no idea how the network is faring, either on the training or the test set.\n",
    "\n",
    "We need to devise some ways to assess the model.\n",
    "\n",
    "Three ideas:\n",
    "\n",
    "1. Accumulate the loss for each epoch\n",
    "  * Alternatively, use the average loss per instance\n",
    "2. Show the mean accuracy for each epoch\n",
    "3. 1 and 2, but calculated on the test set\n",
    "\n",
    "1 is easily implementable, just introduce a variable to accumulate the loss during the epoch and print it at the end of the training.\n",
    "\n",
    "For 2 we need also to store the number of data points we have seen up to the current mini-batch. Recalling the concept of cumulative weighted average (CWA) for a time-dependent entity $x_t,~ t\\in\\{0,...,T\\}$:\n",
    "\n",
    "$\\text{CWA}_t = \\frac{ n_{0 : t-1} \\cdot \\text{CWA}_{t-1} + n_t \\cdot x_t }{n_{0 : t-1} + n_t}$\n",
    "\n",
    "where $n_t$ is the weight of the $t$-th observation $x_t$, while $n_{0 : t-1}$ is the cumulative weight of the observations from time instant $0$ to $t-1$."
   ],
   "cell_type": "markdown",
   "metadata": {}
  },
  {
   "cell_type": "code",
   "execution_count": 60,
   "metadata": {},
   "outputs": [],
   "source": [
    "def train_epoch(model, dataloader, loss_fn, optimizer, loss_cwa, cum_num_instances):\n",
    "    for X, y in dataloader:\n",
    "        # 1. reset the gradients previously accumulated by the optimizer\n",
    "        #    this will avoid re-using gradients from previous loops\n",
    "        optimizer.zero_grad() \n",
    "        # 2. get the predictions from the current state of the model\n",
    "        #    this is the forward pass\n",
    "        y_hat = model(X)\n",
    "        # 3. calculate the loss on the current mini-batch\n",
    "        loss = loss_fn(y_hat, y)\n",
    "        # 4. execute the backward pass given the current loss\n",
    "        loss.backward()\n",
    "        # 5. update the value of the params\n",
    "        optimizer.step()\n",
    "        # 6. update the cumulative weighted average of the loss\n",
    "        # a. obtain size of mini-batch\n",
    "        current_n = X.shape[0]\n",
    "        # b. update the CWA\n",
    "        loss_cwa = (loss_cwa * cum_num_instances + loss.item() * current_n) / (cum_num_instances + current_n)\n",
    "        # c. update the cumulative number of instances seen\n",
    "        cum_num_instances += current_n\n",
    "\n",
    "def train_model(model, dataloader, loss_fn, optimizer, num_epochs):\n",
    "    for epoch in range(num_epochs):\n",
    "        loss_cwa = 0.0\n",
    "        cum_num_instances = 0\n",
    "        train_epoch(model, dataloader, loss_fn, optimizer, loss_cwa, cum_num_instances)\n",
    "        print(f\"Epoch {epoch+1} completed. Cumulative average of training loss: {loss_cwa}\")"
   ]
  },
  {
   "source": [
    "Usually, though, since passing parameters like `loss_cwa` and `cum_num_instances` is a bit of a bloater, we usually employ a small class to keep track of all the performance parameter we need to measure. In the PT programming environment we call it `AverageMeter` and is implemented like so"
   ],
   "cell_type": "markdown",
   "metadata": {}
  },
  {
   "cell_type": "code",
   "execution_count": 61,
   "metadata": {},
   "outputs": [],
   "source": [
    "class AverageMeter(object):\n",
    "    def __init__(self):\n",
    "        self.reset()\n",
    "\n",
    "    def reset(self):\n",
    "        self.val = 0\n",
    "        self.avg = 0\n",
    "        self.sum = 0\n",
    "        self.count = 0\n",
    "\n",
    "    def update(self, val, n=1):\n",
    "        self.val = val\n",
    "        self.sum += val * n\n",
    "        self.count += n\n",
    "        self.avg = self.sum / self.count"
   ]
  },
  {
   "cell_type": "code",
   "execution_count": 62,
   "metadata": {},
   "outputs": [],
   "source": [
    "def train_epoch(model, dataloader, loss_fn, optimizer, loss_meter):\n",
    "    for X, y in dataloader:\n",
    "        # 1. reset the gradients previously accumulated by the optimizer\n",
    "        #    this will avoid re-using gradients from previous loops\n",
    "        optimizer.zero_grad() \n",
    "        # 2. get the predictions from the current state of the model\n",
    "        #    this is the forward pass\n",
    "        y_hat = model(X)\n",
    "        # 3. calculate the loss on the current mini-batch\n",
    "        loss = loss_fn(y_hat, y)\n",
    "        # 4. execute the backward pass given the current loss\n",
    "        loss.backward()\n",
    "        # 5. update the value of the params\n",
    "        optimizer.step()\n",
    "        # 6. update the loss AverageMeter\n",
    "        loss_meter.update(val=loss.item(), n=X.shape[0])\n",
    "\n",
    "def train_model(model, dataloader, loss_fn, optimizer, num_epochs):\n",
    "    for epoch in range(num_epochs):\n",
    "        loss_meter = AverageMeter() # zero out average meter -- we are only keeping track of performance through each epoch\n",
    "        train_epoch(model, dataloader, loss_fn, optimizer, loss_meter)\n",
    "        # now with loss meter we can print both the cumulative value and the average value\n",
    "        print(f\"Epoch {epoch+1} completed. Loss - total: {loss_meter.sum} - average: {loss_meter.avg}\")"
   ]
  },
  {
   "source": [
    "#### Assessing accuracy\n",
    "\n",
    "Usually, $\\text{loss} \\in [0;+\\infty)$, so it is hard to assess the effectiveness of the ANN based solely on such value.\n",
    "\n",
    "Alongside a loss, we can assess the performance via a much more interpretable index as the **accuracy**\n",
    "\n",
    "$\\text{accuracy} = \\frac{\\text{# correctly identified items}}{\\text{# all items}}$\n",
    "\n",
    "To keep track of the accuracy, we can re-use the AverageMeter defined above, although we need to define a function for it---since PT does not implement it by default."
   ],
   "cell_type": "markdown",
   "metadata": {}
  },
  {
   "cell_type": "code",
   "execution_count": null,
   "metadata": {},
   "outputs": [],
   "source": [
    "def accuracy(y_hat, y):\n",
    "    '''\n",
    "    y_hat is the model output - a Tensor of shape (n x num_classes)\n",
    "    y is the ground truth\n",
    "\n",
    "    How can we implement this function?\n",
    "    '''\n",
    "\n",
    "    pass"
   ]
  },
  {
   "cell_type": "code",
   "execution_count": 64,
   "metadata": {},
   "outputs": [],
   "source": [
    "def train_epoch(model, dataloader, loss_fn, optimizer, loss_meter, accuracy_meter):\n",
    "    for X, y in dataloader:\n",
    "        # 1. reset the gradients previously accumulated by the optimizer\n",
    "        #    this will avoid re-using gradients from previous loops\n",
    "        optimizer.zero_grad() \n",
    "        # 2. get the predictions from the current state of the model\n",
    "        #    this is the forward pass\n",
    "        y_hat = model(X)\n",
    "        # 3. calculate the loss on the current mini-batch\n",
    "        loss = loss_fn(y_hat, y)\n",
    "        # 4. execute the backward pass given the current loss\n",
    "        loss.backward()\n",
    "        # 5. update the value of the params\n",
    "        optimizer.step()\n",
    "        # 6. calculate the accuracy for this mini-batch\n",
    "        acc = accuracy(y_hat, y)\n",
    "        # 7. update the loss and accuracy AverageMeter\n",
    "        loss_meter.update(val=loss.item(), n=X.shape[0])\n",
    "        accuracy_meter.update(val=acc, n=X.shape[0])\n",
    "\n",
    "def train_model(model, dataloader, loss_fn, optimizer, num_epochs):\n",
    "    for epoch in range(num_epochs):\n",
    "        loss_meter = AverageMeter()\n",
    "        accuracy_meter = AverageMeter()\n",
    "        train_epoch(model, dataloader, loss_fn, optimizer, loss_meter, accuracy_meter)\n",
    "        # now with loss meter we can print both the cumulative value and the average value\n",
    "        print(f\"Epoch {epoch+1} completed. Loss - total: {loss_meter.sum} - average: {loss_meter.avg}; Accuracy: {accuracy_meter.avg}\")\n",
    "    # we also return the stats for the final epoch of training\n",
    "    return loss_meter.sum, accuracy_meter.avg"
   ]
  },
  {
   "source": [
    "*Additional observation*: we might wanna pass the `accuracy` as an additional `performance` parameter (analogous to `loss_fn`) since we might wanna evaluate the performance on a metric different than accuracy.\n",
    "\n",
    "Now, we can train the network and examine its performance as we're running the training"
   ],
   "cell_type": "markdown",
   "metadata": {}
  },
  {
   "cell_type": "code",
   "execution_count": null,
   "metadata": {},
   "outputs": [],
   "source": [
    "# reset the network and optimizer\n",
    "model = MLP()\n",
    "optimizer = torch.optim.SGD(model.parameters(), lr=learn_rate)\n",
    "\n",
    "loss, acc = train_model(model, trainloader, loss_fn, optimizer, num_epochs)\n",
    "print(f\"Training completed - final accuracy {acc} and loss {loss}\")"
   ]
  },
  {
   "source": [
    "Recall that we wanted to assess also the network's performance on the test set. We need an additional testing routine for it.\n",
    "\n",
    "For testing, we need only\n",
    "\n",
    "1. the network\n",
    "2. the test-set `DataLoader`\n",
    "3. the loss function / the performance metrics\n",
    "\n",
    "we don't need the optimizer as we're not updating the weights now\n"
   ],
   "cell_type": "markdown",
   "metadata": {}
  },
  {
   "cell_type": "code",
   "execution_count": 66,
   "metadata": {},
   "outputs": [],
   "source": [
    "def test_model(model, dataloader, loss_fn):\n",
    "    loss_meter = AverageMeter()\n",
    "    acc_meter = AverageMeter()\n",
    "    model.eval() # this is the contrary of model.train() we saw before\n",
    "    with torch.no_grad():\n",
    "        for X, y in dataloader:\n",
    "            y_hat = model(X)\n",
    "            loss = loss_fn(y_hat, y)\n",
    "            acc = accuracy(y_hat, y)\n",
    "            loss_meter.update(loss.item(), X.shape[0])\n",
    "            acc_meter.update(acc, X.shape[0])\n",
    "    print(f\"TESTING - loss {loss_meter.sum} - accuracy {acc_meter.avg}\")\n"
   ]
  },
  {
   "cell_type": "code",
   "execution_count": null,
   "metadata": {},
   "outputs": [],
   "source": []
  },
  {
   "source": [
    "Now that we have nice-enough-looking training and testing routines and that we have trained and tested our model we might want to save it so we can re-use it in the future.\n",
    "\n",
    "The model can be easily saved using the `state_dict()` method. Let's see what it is"
   ],
   "cell_type": "markdown",
   "metadata": {}
  },
  {
   "cell_type": "code",
   "execution_count": 67,
   "metadata": {},
   "outputs": [
    {
     "output_type": "execute_result",
     "data": {
      "text/plain": [
       "7e-01,\n",
       "                        1.0652e-01,  1.8291e-01,  2.2223e-01, -2.0207e-01, -1.5858e-01,\n",
       "                       -9.1937e-02,  1.1120e-01, -1.5490e-01, -4.8807e-02,  2.2933e-01,\n",
       "                        2.3567e-01],\n",
       "                      [ 5.2622e-02, -1.8437e-01,  4.4377e-02,  1.2814e-01, -1.3595e-01,\n",
       "                        2.1048e-01,  1.8734e-01,  6.4211e-02,  1.6523e-01, -4.8259e-02,\n",
       "                        1.7182e-01, -1.5033e-01,  1.5700e-01, -1.6708e-02,  1.5608e-01,\n",
       "                        2.0368e-01],\n",
       "                      [ 1.8016e-01, -2.1795e-01,  1.0132e-01,  1.0164e-01, -2.1579e-01,\n",
       "                       -1.9992e-01, -2.2767e-01,  1.1977e-01, -2.4566e-01,  6.1943e-02,\n",
       "                        2.2872e-01,  6.8652e-03,  2.2777e-02,  1.0848e-01, -1.1707e-01,\n",
       "                       -4.7729e-02],\n",
       "                      [-2.2402e-01,  4.2225e-02, -2.1596e-01, -2.3719e-01,  2.3135e-01,\n",
       "                       -8.9767e-02, -2.4510e-01,  2.3849e-01, -7.7952e-02, -2.3323e-01,\n",
       "                        7.7109e-02, -5.3645e-02,  2.3474e-01, -1.0091e-01, -2.2707e-01,\n",
       "                        2.4571e-01],\n",
       "                      [-8.5487e-02, -1.7505e-01,  7.1404e-02, -7.7544e-02,  5.3212e-02,\n",
       "                        1.8987e-01, -3.9124e-02, -2.1063e-01,  3.7611e-02,  1.9510e-01,\n",
       "                        5.1323e-02, -2.2774e-01,  1.5782e-01,  1.4281e-01, -4.2071e-02,\n",
       "                       -1.6878e-01],\n",
       "                      [ 2.2383e-01, -1.3948e-02,  1.9643e-01, -3.4422e-02,  2.3787e-02,\n",
       "                       -9.1221e-02,  3.5972e-02,  2.1901e-01, -2.1007e-01,  5.0922e-02,\n",
       "                       -1.4020e-02, -2.2896e-01,  8.8910e-02,  4.0987e-02, -5.0764e-03,\n",
       "                        8.6330e-02],\n",
       "                      [-2.0344e-01,  2.4879e-01,  3.5292e-02, -1.8716e-01,  3.0175e-02,\n",
       "                        1.8623e-01,  2.2018e-02, -8.4605e-02, -3.3227e-02,  2.3340e-01,\n",
       "                       -1.2252e-01, -9.6502e-02,  1.9634e-01, -1.3555e-01, -2.3624e-01,\n",
       "                        2.0450e-01],\n",
       "                      [-6.4184e-02, -3.0771e-02,  2.2022e-01,  9.4202e-02,  1.1932e-01,\n",
       "                        1.1322e-01,  2.3218e-01,  2.5824e-02, -8.0200e-02,  1.1439e-01,\n",
       "                        8.7983e-02, -2.2106e-01, -9.8213e-02, -2.0108e-01,  2.2965e-01,\n",
       "                       -1.4381e-01]])),\n",
       "             ('h2.bias',\n",
       "              tensor([ 0.1394,  0.1077, -0.0936, -0.2132, -0.0708, -0.1146, -0.0672,  0.0569,\n",
       "                      -0.2107, -0.1760,  0.0643,  0.1246, -0.1212,  0.0674, -0.2173, -0.1469,\n",
       "                       0.0224, -0.0149, -0.0073,  0.1839,  0.2476,  0.1126, -0.1022, -0.2049,\n",
       "                       0.2073, -0.2225, -0.1046,  0.0953,  0.0573, -0.0590,  0.1001,  0.2020])),\n",
       "             ('h3.weight',\n",
       "              tensor([[ 6.3738e-04,  1.6764e-01, -1.2359e-01,  5.9050e-02, -9.8668e-02,\n",
       "                       -1.2345e-01, -3.9116e-02, -2.9105e-04,  3.3247e-03, -6.5515e-02,\n",
       "                       -8.1540e-02, -1.4807e-01,  1.5526e-01,  1.5084e-03,  1.7697e-01,\n",
       "                       -2.6394e-02, -1.3384e-01, -9.4770e-02,  4.2497e-02,  1.2019e-01,\n",
       "                        6.7930e-02,  1.6524e-03, -3.9131e-02, -1.2577e-01,  1.3858e-01,\n",
       "                       -1.6435e-01, -1.4552e-02, -8.0418e-02, -5.7640e-02, -2.2386e-02,\n",
       "                        1.0128e-01,  7.6649e-04],\n",
       "                      [ 1.1622e-01,  5.3427e-02, -5.3159e-02,  6.8557e-02,  1.0057e-01,\n",
       "                       -1.0457e-01, -5.8908e-02, -1.4766e-01,  8.1093e-02,  1.1411e-01,\n",
       "                       -7.8939e-02, -1.1473e-01, -1.4866e-01, -1.1574e-01, -1.2178e-01,\n",
       "                        3.4138e-02, -8.6031e-02,  3.4001e-02,  8.1721e-02,  1.0774e-01,\n",
       "                        3.5398e-02,  1.3862e-01,  9.8222e-02,  8.4041e-02,  5.4809e-02,\n",
       "                        4.2108e-02, -6.8151e-02,  6.6772e-02,  1.1474e-01,  1.6286e-01,\n",
       "                       -1.3904e-01,  1.2583e-01],\n",
       "                      [-1.0108e-01, -5.0719e-02,  1.4115e-02, -4.5966e-02,  5.2076e-02,\n",
       "                        9.3322e-02, -1.0288e-01,  4.8184e-02, -1.5120e-01,  6.5210e-02,\n",
       "                        1.0142e-01,  7.7492e-03, -1.2989e-01,  1.0442e-01, -8.7517e-02,\n",
       "                       -1.4489e-01,  1.7066e-01,  1.7327e-01, -2.6597e-02, -4.5193e-02,\n",
       "                       -6.7864e-02,  6.4434e-02, -1.4951e-01,  8.6979e-02, -2.3217e-02,\n",
       "                       -2.7947e-02,  7.8880e-02, -1.7178e-01,  9.2955e-02,  1.2569e-01,\n",
       "                       -6.4201e-02,  6.5130e-02],\n",
       "                      [ 1.2576e-02,  1.1739e-01,  1.4071e-01,  1.2307e-01,  1.7619e-01,\n",
       "                       -7.2966e-02, -5.4205e-03, -5.1134e-02, -1.2272e-01, -1.1372e-01,\n",
       "                       -1.2898e-01, -1.3774e-01,  1.2717e-01, -4.5344e-02,  1.5708e-01,\n",
       "                        3.5725e-02,  5.6448e-02, -1.6642e-01,  1.7305e-01,  1.3026e-01,\n",
       "                       -8.0739e-02, -6.2283e-02,  5.0981e-02,  4.9441e-03,  1.0537e-01,\n",
       "                        5.7526e-02,  1.1685e-01, -2.6294e-02, -1.7777e-01,  1.4477e-01,\n",
       "                        1.2095e-01,  1.4653e-01],\n",
       "                      [ 6.1660e-02,  1.5345e-01,  3.6512e-03,  1.7272e-01,  2.4030e-02,\n",
       "                        2.4544e-02, -1.5023e-01, -1.6621e-01, -1.4779e-01,  1.2858e-01,\n",
       "                       -1.5397e-01, -1.4100e-01,  5.0185e-02, -5.9046e-02, -1.2721e-01,\n",
       "                       -1.3884e-01, -1.6886e-01, -8.4515e-02, -1.5869e-01,  8.7884e-02,\n",
       "                        8.8628e-02,  8.8439e-02,  1.0203e-01, -1.3745e-01, -4.1588e-02,\n",
       "                       -8.7987e-02, -9.8823e-02, -3.5532e-02,  4.0843e-02, -1.3838e-01,\n",
       "                       -1.0151e-01,  6.3437e-02],\n",
       "                      [-9.2704e-02,  1.3908e-01, -1.0544e-02,  3.7106e-03,  1.6028e-01,\n",
       "                        1.9789e-03, -1.0485e-01, -1.6543e-01,  4.0742e-03, -1.2604e-01,\n",
       "                        1.0393e-01, -1.7198e-01, -2.3284e-02,  8.6771e-03, -8.1351e-04,\n",
       "                       -1.4497e-01,  1.0445e-01,  3.1831e-02, -1.5278e-01,  1.0899e-01,\n",
       "                        1.6659e-01,  5.1213e-02,  1.3040e-01,  6.2456e-02, -3.9161e-02,\n",
       "                       -1.2299e-01,  3.4292e-03, -1.7240e-01,  7.0350e-02, -1.7066e-01,\n",
       "                        1.1628e-01,  9.9017e-02],\n",
       "                      [ 4.2604e-02, -1.0259e-01,  7.8289e-02,  1.2989e-01,  3.8097e-02,\n",
       "                       -6.1120e-03,  2.4463e-02, -3.5136e-03,  3.0489e-02,  1.3206e-01,\n",
       "                       -1.0157e-06, -1.4910e-01,  7.5502e-03, -5.4386e-02,  1.2765e-01,\n",
       "                       -1.2182e-01, -3.0414e-02, -5.0457e-02,  1.7713e-01,  6.0150e-02,\n",
       "                        1.6225e-02, -1.8686e-02, -3.3483e-02,  2.1238e-03, -2.0358e-02,\n",
       "                        9.3614e-02,  1.4912e-01, -3.8363e-02,  9.9800e-02,  1.5433e-01,\n",
       "                       -1.4932e-01, -4.5589e-02],\n",
       "                      [-1.2787e-01,  1.4857e-01, -6.3663e-02,  1.7050e-01, -8.0808e-02,\n",
       "                       -9.6153e-02,  1.1113e-01,  1.5045e-01, -9.3560e-02,  1.0045e-01,\n",
       "                       -1.9978e-02,  1.0434e-01, -1.4245e-01, -1.7316e-01,  1.0108e-01,\n",
       "                       -1.5878e-01,  8.3404e-02, -4.4654e-02,  1.5366e-02,  3.2851e-02,\n",
       "                        1.0631e-01, -8.9137e-02,  2.5348e-02,  6.9100e-02,  5.4903e-02,\n",
       "                        6.6782e-02, -7.1889e-02, -9.5543e-02, -1.4570e-01, -1.4499e-01,\n",
       "                       -3.0127e-02,  6.2902e-02],\n",
       "                      [-8.2423e-02, -1.6012e-01,  1.5585e-01,  1.6266e-01,  8.0876e-02,\n",
       "                        1.4990e-01, -1.4519e-01,  8.1525e-03,  1.3082e-01,  1.4357e-01,\n",
       "                       -1.3415e-01, -1.4949e-01,  7.2950e-02, -1.6556e-01, -1.2482e-03,\n",
       "                       -1.5052e-01, -1.5570e-01,  1.6205e-01,  5.7465e-02,  1.3446e-02,\n",
       "                       -1.6665e-01, -8.8128e-02, -9.1417e-03,  1.0729e-01, -9.7483e-02,\n",
       "                        9.1756e-02, -3.2097e-02,  1.7513e-01, -9.8426e-02,  1.6599e-01,\n",
       "                       -6.8851e-02,  4.7750e-02],\n",
       "                      [ 1.1571e-01,  2.9683e-02, -5.7854e-02,  1.1701e-01, -4.9490e-03,\n",
       "                        1.4684e-01,  2.8985e-02, -9.9621e-02,  6.8603e-03,  3.4175e-02,\n",
       "                       -8.4230e-02,  1.0017e-01,  7.5495e-04,  1.1779e-01, -9.9317e-02,\n",
       "                       -1.0415e-01, -4.7319e-02, -1.3349e-01, -4.4385e-02, -7.2692e-02,\n",
       "                        3.4040e-02,  1.7654e-01, -1.2570e-01, -1.2397e-01,  1.1852e-01,\n",
       "                        9.4385e-02, -1.3857e-01, -3.7142e-02, -8.0587e-02, -1.7413e-02,\n",
       "                        1.6257e-01,  1.0342e-01],\n",
       "                      [-5.9158e-02,  1.9297e-02, -1.2516e-01,  8.3883e-02, -1.5908e-01,\n",
       "                       -1.1237e-01,  1.3415e-01,  1.3753e-01, -9.8998e-02,  5.0101e-02,\n",
       "                        1.4518e-01,  5.6996e-02,  1.4072e-01, -3.3554e-02,  9.8062e-02,\n",
       "                       -1.5473e-01,  1.8664e-02, -1.9860e-02,  1.5701e-01,  6.6440e-02,\n",
       "                        5.0468e-02, -9.4590e-02, -1.1511e-01,  3.1111e-03,  5.1500e-02,\n",
       "                        7.4023e-02, -1.3577e-02,  7.7395e-02, -1.3487e-01, -1.9144e-02,\n",
       "                        1.7286e-01, -5.2296e-02],\n",
       "                      [-7.9276e-02, -1.7227e-01,  7.1681e-02,  1.3336e-01,  3.6454e-02,\n",
       "                        1.1545e-01, -9.2186e-02,  2.6730e-02,  1.4898e-02, -1.2815e-01,\n",
       "                       -2.3483e-02,  1.4879e-01, -1.6248e-01,  1.6676e-01, -6.1347e-02,\n",
       "                        7.5453e-02, -1.6937e-01, -1.1475e-01,  1.0436e-01,  1.1086e-01,\n",
       "                        5.5396e-02,  2.2495e-02, -2.5280e-02, -7.8959e-02, -1.3497e-01,\n",
       "                       -6.1743e-02,  2.6276e-02, -1.5723e-01, -1.6063e-01,  3.8088e-02,\n",
       "                       -4.4527e-02, -9.2691e-02],\n",
       "                      [ 1.5651e-01,  1.4352e-01,  7.8989e-02,  7.6745e-02,  1.1849e-01,\n",
       "                        5.6527e-02, -5.7134e-02,  1.7303e-01,  1.7107e-01, -4.9493e-03,\n",
       "                       -9.1717e-02, -6.2334e-02, -1.6645e-01, -5.8584e-02,  1.3777e-01,\n",
       "                       -1.1635e-01, -8.0308e-02,  8.7892e-02,  1.6767e-01, -4.4131e-02,\n",
       "                        1.0816e-01, -5.4705e-02, -9.2199e-02,  1.6732e-01, -5.6900e-02,\n",
       "                        1.4177e-01,  1.1569e-01,  1.7248e-01, -1.1906e-01, -1.5597e-01,\n",
       "                       -3.0124e-02, -5.6631e-02],\n",
       "                      [ 4.5833e-02,  8.9935e-02, -1.5936e-01, -1.1691e-01, -1.3212e-01,\n",
       "                        1.3643e-01,  1.4169e-01, -4.8111e-03, -9.7321e-02, -1.2032e-01,\n",
       "                       -1.1645e-01,  1.0468e-01, -1.5719e-01, -1.3527e-01, -8.4343e-02,\n",
       "                       -1.1215e-01,  1.0596e-01,  1.4384e-02, -1.4074e-01, -4.2745e-02,\n",
       "                       -1.1616e-01,  8.5579e-02, -8.4687e-02,  1.4325e-01,  9.9109e-02,\n",
       "                        9.9905e-02,  6.7658e-02, -5.5708e-02,  1.2879e-01,  3.2691e-02,\n",
       "                        1.1791e-01,  1.4999e-01],\n",
       "                      [ 1.1600e-01, -1.5120e-02, -1.4795e-01,  1.0899e-01,  1.0946e-01,\n",
       "                        7.2255e-02,  2.5890e-02,  7.3513e-02, -1.3578e-01,  1.0199e-01,\n",
       "                        8.0733e-02,  6.7011e-02, -1.2301e-01, -1.0376e-01, -5.9756e-03,\n",
       "                        1.6052e-01,  6.4227e-02,  1.5214e-01, -7.4203e-02,  7.9152e-02,\n",
       "                        1.5553e-01, -3.6275e-02,  1.3049e-01,  1.1973e-01,  1.2192e-01,\n",
       "                       -1.3737e-01,  8.5176e-02,  9.4970e-02,  9.7006e-02, -8.1622e-02,\n",
       "                        1.2697e-01,  6.4535e-02],\n",
       "                      [ 1.3267e-02, -2.6219e-02,  1.6386e-01, -6.2618e-03,  9.0073e-02,\n",
       "                        1.2525e-01,  1.5600e-01,  1.7146e-02, -1.2278e-02,  1.1865e-01,\n",
       "                       -2.6236e-02,  1.0712e-01, -1.0629e-01,  1.1377e-01, -3.2502e-02,\n",
       "                        1.5888e-01, -1.2447e-01,  8.2417e-03,  7.0776e-02, -1.3307e-02,\n",
       "                        4.0931e-03,  9.8310e-02,  7.8097e-02, -1.1577e-01, -5.0448e-03,\n",
       "                       -1.2932e-01,  1.7362e-02,  7.4978e-02,  1.1666e-01,  1.0469e-01,\n",
       "                       -1.4057e-01, -6.3742e-02],\n",
       "                      [-8.0737e-02,  2.2392e-02, -5.2392e-02, -1.2071e-01, -1.3546e-01,\n",
       "                        1.3115e-01,  4.4427e-02,  1.1282e-01, -9.0658e-03, -1.4555e-01,\n",
       "                        5.1359e-02, -1.1363e-01,  7.5841e-02, -1.4035e-01, -1.6222e-01,\n",
       "                       -1.5715e-01, -5.6634e-02, -1.2415e-01,  2.8716e-02,  1.7024e-01,\n",
       "                       -1.3236e-01, -6.0027e-02,  7.0839e-02,  7.7842e-02,  1.2769e-01,\n",
       "                        1.3987e-01, -6.6881e-02, -1.4052e-01,  2.6347e-02, -3.5402e-02,\n",
       "                       -1.1827e-01, -2.4081e-02],\n",
       "                      [-1.5842e-01, -8.1406e-02,  6.6349e-03, -1.6363e-01, -1.3927e-01,\n",
       "                       -8.7208e-02, -6.3246e-02,  6.2632e-03,  1.6652e-01,  6.0607e-02,\n",
       "                        4.8530e-02,  3.9193e-02,  1.6661e-01, -5.5071e-02, -1.8202e-02,\n",
       "                       -1.6313e-02, -9.4249e-02,  7.4636e-04, -1.0109e-01, -8.7819e-02,\n",
       "                        1.0359e-01, -1.0097e-01,  3.8549e-03,  6.4432e-02, -3.3578e-02,\n",
       "                       -3.4644e-02,  1.0704e-01, -1.8581e-02, -6.1933e-02, -1.0266e-01,\n",
       "                        1.2155e-01, -1.1481e-01],\n",
       "                      [-1.1793e-01, -1.5543e-01, -2.5295e-02, -4.4683e-02, -8.9264e-02,\n",
       "                        1.3393e-01,  4.4377e-02,  9.5882e-02, -1.3566e-01,  7.9432e-02,\n",
       "                        1.3745e-01,  7.4156e-02, -8.9072e-02,  4.9825e-03,  2.7070e-02,\n",
       "                        3.1421e-02, -1.3083e-01,  9.1144e-02, -5.7962e-02, -1.7468e-02,\n",
       "                        1.0695e-01, -1.6278e-02, -1.1177e-01, -1.1491e-01,  1.5652e-01,\n",
       "                       -1.3580e-01,  8.4490e-02,  8.0466e-02,  1.1530e-01,  4.1705e-02,\n",
       "                       -8.9355e-02,  1.1506e-01],\n",
       "                      [ 6.6666e-02, -1.6716e-02,  7.8364e-02,  6.0819e-03,  1.6379e-01,\n",
       "                        6.4607e-02, -1.4923e-01, -2.1999e-02, -1.3043e-01,  5.6902e-02,\n",
       "                       -3.6058e-02, -1.2600e-01, -7.3551e-02, -2.5642e-02,  1.1903e-01,\n",
       "                        2.9705e-03,  2.5687e-03, -1.3921e-01, -5.4134e-02, -2.9149e-02,\n",
       "                        5.5587e-02, -1.5507e-01,  7.2692e-02, -2.6875e-02, -2.1993e-02,\n",
       "                        1.2435e-01, -9.9410e-02, -1.5013e-01,  1.4204e-01,  7.5159e-02,\n",
       "                        7.0974e-02,  1.0041e-01],\n",
       "                      [-5.4002e-02,  1.6595e-01, -1.5441e-01, -1.3135e-01,  3.9384e-02,\n",
       "                        6.0661e-02, -1.4819e-01, -6.9285e-02, -8.4431e-02, -6.4471e-02,\n",
       "                       -1.6887e-01, -1.0977e-01, -1.2540e-01,  1.2353e-01, -1.1849e-02,\n",
       "                        1.3326e-01,  3.3503e-02,  2.3828e-02,  4.4231e-02,  1.0822e-01,\n",
       "                        1.1780e-01,  5.5808e-02,  1.4649e-02,  7.1901e-02, -8.7176e-02,\n",
       "                       -3.8420e-02,  7.9139e-02,  4.8366e-02, -9.8419e-02,  8.6792e-02,\n",
       "                        5.7187e-02,  8.5620e-02],\n",
       "                      [-1.5744e-01, -1.5988e-01, -1.1534e-01, -1.7309e-02, -5.8690e-02,\n",
       "                        8.1313e-02, -7.3904e-02, -1.6029e-01, -2.3831e-02, -1.7204e-01,\n",
       "                        1.0734e-02, -1.5907e-02, -2.2667e-02,  3.0015e-02, -2.9604e-02,\n",
       "                        1.5508e-01, -1.2736e-01,  5.6344e-02, -3.6252e-03,  1.1037e-01,\n",
       "                        1.4233e-01,  9.5296e-03, -5.2929e-02, -1.4610e-01, -4.2416e-02,\n",
       "                        7.5553e-02, -6.9279e-02, -9.4266e-02,  3.7006e-02,  1.8518e-02,\n",
       "                       -7.7704e-03,  3.7731e-02],\n",
       "                      [-1.2679e-01,  1.7725e-01, -4.6726e-02,  1.1906e-01, -2.1811e-02,\n",
       "                       -3.9315e-02, -2.1906e-02,  9.3774e-02,  1.0534e-01,  4.9428e-02,\n",
       "                        1.1572e-01,  1.6003e-01,  4.4848e-02,  9.4116e-02, -1.6653e-01,\n",
       "                       -1.7685e-01, -1.5991e-01,  9.3736e-02,  2.2378e-02, -1.3636e-02,\n",
       "                        1.3443e-01,  5.8126e-02,  3.8808e-02,  1.1900e-02, -8.2741e-02,\n",
       "                       -1.5849e-01, -1.5889e-01, -8.1144e-03,  2.3534e-02, -9.5888e-02,\n",
       "                        1.7311e-01,  7.8232e-02],\n",
       "                      [ 6.3330e-02,  8.7110e-02, -5.6827e-02,  1.2581e-01,  1.2373e-01,\n",
       "                       -8.8057e-02,  1.2588e-02, -1.3682e-01,  1.1194e-01, -1.5950e-01,\n",
       "                        1.7170e-01,  6.8935e-02,  1.5604e-01, -5.1459e-03,  1.6127e-01,\n",
       "                       -1.6477e-01, -9.7889e-02, -1.2770e-01,  1.0150e-01, -1.0963e-01,\n",
       "                       -1.9042e-02,  1.0056e-02,  1.1153e-01, -1.1611e-01,  7.2219e-02,\n",
       "                        1.5630e-01, -1.2635e-01, -1.0427e-01,  3.3723e-02,  1.6761e-01,\n",
       "                       -6.4803e-02, -5.8049e-02]])),\n",
       "             ('h3.bias',\n",
       "              tensor([ 0.1548, -0.1267, -0.1278, -0.0040, -0.1032,  0.1566, -0.0246,  0.0580,\n",
       "                      -0.0673,  0.1466,  0.0447, -0.0465,  0.0413, -0.0973, -0.1488,  0.0038,\n",
       "                      -0.1292,  0.1376, -0.0188, -0.1142,  0.0750,  0.0956,  0.0118,  0.1197])),\n",
       "             ('out.weight',\n",
       "              tensor([[ 0.1329,  0.1731,  0.0210, -0.2006, -0.0152,  0.1274,  0.1779, -0.1804,\n",
       "                       -0.0118, -0.1205,  0.1137,  0.0530, -0.0426, -0.1803,  0.1326,  0.0553,\n",
       "                       -0.1032, -0.0165, -0.1113, -0.0050, -0.1594, -0.0758, -0.1856,  0.1881],\n",
       "                      [-0.0707,  0.0920, -0.1354, -0.1894,  0.0012,  0.0521,  0.0438,  0.0996,\n",
       "                       -0.1056, -0.1911, -0.0950, -0.1604,  0.1089, -0.0108,  0.0848, -0.0975,\n",
       "                        0.0947,  0.1871,  0.1034,  0.1106,  0.1291, -0.0603,  0.1515,  0.0108],\n",
       "                      [ 0.1894,  0.0407, -0.0805, -0.1762,  0.0069, -0.1651, -0.0967,  0.1024,\n",
       "                       -0.1762, -0.1314,  0.0861,  0.1967,  0.0714, -0.1370, -0.0383,  0.0545,\n",
       "                        0.1708,  0.0960, -0.0884,  0.1618,  0.0297,  0.0550,  0.0202, -0.0925],\n",
       "                      [-0.1111,  0.0269,  0.2008,  0.0574,  0.0413, -0.0709, -0.0089, -0.0764,\n",
       "                        0.1563, -0.1432,  0.1992, -0.1930,  0.1313, -0.0516,  0.0984, -0.0959,\n",
       "                       -0.0682, -0.1809, -0.1329,  0.0133, -0.1848, -0.1742, -0.1287,  0.0223],\n",
       "                      [-0.0061,  0.1316,  0.1475,  0.0814, -0.1979, -0.0193,  0.1167,  0.1579,\n",
       "                        0.0434,  0.0062,  0.0471, -0.0137, -0.0362, -0.1753, -0.1309,  0.1883,\n",
       "                       -0.0280,  0.1922,  0.0365, -0.0251,  0.0195,  0.1217, -0.1468,  0.0227],\n",
       "                      [-0.1159,  0.1577,  0.1164,  0.1240,  0.1464, -0.0527,  0.0906, -0.1066,\n",
       "                       -0.0023, -0.0280,  0.1327,  0.1403, -0.2033,  0.0622, -0.1101,  0.0857,\n",
       "                       -0.0703, -0.2003,  0.1671,  0.1393, -0.0302,  0.1956, -0.0499,  0.0198],\n",
       "                      [-0.1278, -0.0401,  0.0480, -0.0674, -0.1317, -0.0718, -0.0614,  0.1083,\n",
       "                        0.1111,  0.1985,  0.1971, -0.1559,  0.0160, -0.1458, -0.1137,  0.1220,\n",
       "                        0.0927, -0.1915, -0.1843, -0.1701, -0.1670,  0.1167, -0.0773,  0.0791],\n",
       "                      [-0.0872, -0.1169, -0.0405,  0.1329, -0.0208,  0.0262, -0.1533,  0.0960,\n",
       "                        0.0021, -0.0983,  0.0455, -0.0788,  0.0229, -0.0895,  0.0344,  0.0831,\n",
       "                        0.0917,  0.1156, -0.1773,  0.2037,  0.1145, -0.1395, -0.1185,  0.0345],\n",
       "                      [ 0.1546, -0.1406,  0.0737, -0.0693,  0.0478,  0.1236, -0.1727,  0.1528,\n",
       "                        0.1744,  0.1448,  0.0262, -0.1790, -0.1852,  0.1843,  0.1363, -0.0581,\n",
       "                        0.0078,  0.1426,  0.1969, -0.0694,  0.1536, -0.1925,  0.0289,  0.0570],\n",
       "                      [ 0.0136, -0.1367,  0.1162,  0.0086,  0.0292,  0.1559,  0.1956, -0.0912,\n",
       "                        0.1460,  0.1365,  0.0868,  0.0836,  0.2018,  0.0414, -0.1600, -0.1228,\n",
       "                       -0.1429,  0.0406,  0.0529, -0.1211,  0.1607,  0.1145, -0.2025, -0.0289]])),\n",
       "             ('out.bias',\n",
       "              tensor([ 0.1323,  0.0226,  0.0203,  0.0584, -0.1648,  0.1474,  0.1757,  0.1106,\n",
       "                       0.1542, -0.1734]))])"
      ]
     },
     "metadata": {},
     "execution_count": 67
    }
   ],
   "source": [
    "model.state_dict()"
   ]
  },
  {
   "source": [
    "We can save it using PT built-in `torch.save`"
   ],
   "cell_type": "markdown",
   "metadata": {}
  },
  {
   "cell_type": "code",
   "execution_count": 70,
   "metadata": {},
   "outputs": [],
   "source": [
    "import os\n",
    "folder_save = \"models/mlp_mnist\"\n",
    "os.makedirs(folder_save, exist_ok=True)\n",
    "filename = os.path.join(folder_save, \"model.pt\")\n",
    "torch.save(model.state_dict(), filename)"
   ]
  },
  {
   "source": [
    "Let's suppose we wish to reload the state_dict. We just need one line of code: "
   ],
   "cell_type": "markdown",
   "metadata": {}
  },
  {
   "cell_type": "code",
   "execution_count": 71,
   "metadata": {},
   "outputs": [
    {
     "output_type": "execute_result",
     "data": {
      "text/plain": [
       "<All keys matched successfully>"
      ]
     },
     "metadata": {},
     "execution_count": 71
    }
   ],
   "source": [
    "model.load_state_dict(torch.load(filename))"
   ]
  },
  {
   "source": [
    "# TODO custom loss"
   ],
   "cell_type": "markdown",
   "metadata": {}
  }
 ]
}