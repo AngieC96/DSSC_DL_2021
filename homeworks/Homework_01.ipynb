{
 "cells": [
  {
   "cell_type": "markdown",
   "metadata": {},
   "source": [
    "# Homework 1\n",
    "\n",
    "Provide the solutions to the homework either in (a) a Python script or (b) in a Jupyter notebook (preferred choice).\n",
    "\n",
    "Points 1, 2, 4 should be provided as code.\n",
    "\n",
    "Point 3 should be provided in a markdown cell (if Jupyter notebook) or in a multiline comment (if Python script).\n",
    "\n",
    "1. Taking inspiration from the notebook `01-intro-to-pt.ipynb`, build a class for the Multilayer Perceptron (MLP) whose scheme is drawn in the last figure of the notebook. As written there, no layer should have bias units and the activation for each hidden layer should be the Rectified Linear Unit (ReLU) function, also called ramp function. The activation leading to the output layer, instead, should be the softmax function, which prof. Ansuini explained during the last lecture. You can find some notions on it also on the notebook.                    \n",
    "\n",
    "\n",
    "2. After having defined the class, create an instance of it and print a summary using a method of your choice.\n",
    "\n",
    "\n",
    "3. Provide detailed calculations (layer-by-layer) on the exact number of parameters in the network.\n",
    "\n",
    "   1. Provide the same calculation in the case that the bias units are present in all layers (except input).\n",
    "   \n",
    "   \n",
    "4. For each layer within the MLP, calculate the L2 norm and L1 norm of its parameters."
   ]
  },
  {
   "cell_type": "markdown",
   "metadata": {},
   "source": [
    "## Point 1"
   ]
  },
  {
   "cell_type": "markdown",
   "metadata": {},
   "source": [
    "Let us suppose we wish to build a larger model from the graph below.\n",
    "\n",
    "![](img/mlp_graph_larger.jpg)\n",
    "\n",
    "We suppose that\n",
    "\n",
    "1. The layers have no bias units\n",
    "2. The activation function for hidden layers is `ReLU`\n",
    "\n",
    "Moreover, we suppose that this is a classification problem.\n",
    "\n",
    "As you might recall, when the number of classes is > 2, we encode the problem in such a way that the output layer has a no. of neurons corresponding to the no. of classes. Doing so, we establish a correspondence between output units and classes. The value of the $j$-th neuron represents the **confidence** of the network in assigning a given data instance to the $j$-th class.\n",
    "\n",
    "Classically, when the network is encoded in such way, the activation function for the final layer is the **softmax** function.\n",
    "If $C$ is the total number of classes,\n",
    "\n",
    "$softmax(z_j) = \\frac{\\exp(z_j)}{\\sum_{k=1}^C \\exp(z_k)}$\n",
    "\n",
    "where $j\\in \\{1,\\cdots,C\\}$ is one of the classes.\n",
    "\n",
    "If we repeat this calculation for all $j$s, we end up with $C$ normalized values (i.e., between 0 and 1) which can be interpreted as probability that the network assigns the instance to the corresponding class."
   ]
  },
  {
   "cell_type": "code",
   "execution_count": 1,
   "metadata": {},
   "outputs": [],
   "source": [
    "import torch"
   ]
  },
  {
   "cell_type": "code",
   "execution_count": 2,
   "metadata": {},
   "outputs": [],
   "source": [
    "class MLP(torch.nn.Module):\n",
    "    \n",
    "    def __init__(self):\n",
    "        super().__init__()\n",
    "        self.layer1 = torch.nn.Linear(in_features =  5, out_features = 11, bias = False)\n",
    "        self.layer2 = torch.nn.Linear(in_features = 11, out_features = 16, bias = False)\n",
    "        self.layer3 = torch.nn.Linear(in_features = 16, out_features = 13, bias = False)\n",
    "        self.layer4 = torch.nn.Linear(in_features = 13, out_features = 8, bias = False)\n",
    "        self.layer5 = torch.nn.Linear(in_features =  8, out_features = 4, bias = False)\n",
    "        \n",
    "    def forward(self, X):\n",
    "        out = self.layer1(X)\n",
    "        out = torch.nn.functional.relu(out)\n",
    "        out = self.layer2(out)\n",
    "        out = torch.nn.functional.relu(out)\n",
    "        out = self.layer3(out)\n",
    "        out = torch.nn.functional.relu(out)\n",
    "        out = self.layer4(out)\n",
    "        out = torch.nn.functional.relu(out)\n",
    "        out = self.layer5(out)\n",
    "        out = torch.nn.functional.softmax(out)\n",
    "        return out"
   ]
  },
  {
   "cell_type": "markdown",
   "metadata": {},
   "source": [
    "## Point 2"
   ]
  },
  {
   "cell_type": "code",
   "execution_count": 3,
   "metadata": {},
   "outputs": [
    {
     "data": {
      "text/plain": [
       "MLP(\n",
       "  (layer1): Linear(in_features=5, out_features=11, bias=False)\n",
       "  (layer2): Linear(in_features=11, out_features=16, bias=False)\n",
       "  (layer3): Linear(in_features=16, out_features=13, bias=False)\n",
       "  (layer4): Linear(in_features=13, out_features=8, bias=False)\n",
       "  (layer5): Linear(in_features=8, out_features=4, bias=False)\n",
       ")"
      ]
     },
     "execution_count": 3,
     "metadata": {},
     "output_type": "execute_result"
    }
   ],
   "source": [
    "model = MLP()\n",
    "model"
   ]
  },
  {
   "cell_type": "code",
   "execution_count": 4,
   "metadata": {},
   "outputs": [
    {
     "data": {
      "text/plain": [
       "OrderedDict([('layer1.weight',\n",
       "              tensor([[ 0.2176, -0.2026, -0.1615,  0.3598, -0.3251],\n",
       "                      [-0.3639,  0.2191,  0.2360,  0.4328,  0.3723],\n",
       "                      [-0.0855,  0.0101, -0.2407,  0.3295, -0.1332],\n",
       "                      [-0.0401,  0.2312,  0.4157, -0.0795,  0.3541],\n",
       "                      [-0.3643, -0.3908, -0.0275, -0.1664,  0.4195],\n",
       "                      [-0.3084, -0.0194,  0.1615,  0.2360, -0.0530],\n",
       "                      [ 0.1561, -0.1288, -0.2637, -0.0754, -0.1483],\n",
       "                      [ 0.2527,  0.2568, -0.3527,  0.2794,  0.1436],\n",
       "                      [ 0.0716, -0.2470, -0.1089, -0.1401,  0.1881],\n",
       "                      [-0.2801,  0.0522, -0.2089, -0.1880,  0.3127],\n",
       "                      [-0.0431,  0.2016, -0.1951,  0.1926,  0.2564]])),\n",
       "             ('layer2.weight',\n",
       "              tensor([[ 0.1107, -0.2437, -0.0147, -0.0664,  0.1571,  0.0306,  0.0584,  0.0386,\n",
       "                       -0.2491, -0.0664,  0.0020],\n",
       "                      [ 0.0498,  0.1242,  0.2561,  0.1183,  0.0278, -0.2197, -0.2816,  0.2674,\n",
       "                       -0.1997,  0.2602,  0.1922],\n",
       "                      [ 0.0401, -0.2686, -0.2746, -0.2829, -0.1755,  0.2680,  0.1334, -0.2790,\n",
       "                        0.2781, -0.1726, -0.2892],\n",
       "                      [ 0.1033, -0.1765, -0.0858, -0.0800,  0.1174, -0.0060,  0.1654, -0.0731,\n",
       "                        0.0684, -0.1072, -0.2157],\n",
       "                      [ 0.0744, -0.1629, -0.1307,  0.2252, -0.2074,  0.0964,  0.0158, -0.1954,\n",
       "                        0.2482,  0.0548, -0.2153],\n",
       "                      [ 0.0694, -0.3003, -0.1841, -0.0433,  0.0552,  0.2169,  0.2358,  0.1111,\n",
       "                        0.2757, -0.1309,  0.1471],\n",
       "                      [-0.0979,  0.2392,  0.0251,  0.0584,  0.2840,  0.0060,  0.2217, -0.0920,\n",
       "                       -0.0150, -0.1188,  0.1776],\n",
       "                      [ 0.0019,  0.1271, -0.2746, -0.0582,  0.1104,  0.0820, -0.1366, -0.1793,\n",
       "                        0.1884, -0.0725, -0.2638],\n",
       "                      [-0.0174, -0.2523,  0.0918, -0.0093, -0.1162, -0.2771, -0.1035, -0.1798,\n",
       "                        0.2345,  0.1407,  0.1923],\n",
       "                      [ 0.0684,  0.1295,  0.0559,  0.2198, -0.0691, -0.0569, -0.2128, -0.1290,\n",
       "                       -0.2465,  0.2100,  0.2764],\n",
       "                      [ 0.2109,  0.0763,  0.2648, -0.3006, -0.0658, -0.1816,  0.0037,  0.1880,\n",
       "                       -0.1574, -0.2911, -0.0054],\n",
       "                      [-0.2139, -0.1486, -0.2186, -0.0746, -0.2806,  0.1537,  0.1353,  0.2778,\n",
       "                        0.1816, -0.0992,  0.0191],\n",
       "                      [-0.2350,  0.2145,  0.0980, -0.2102, -0.0023,  0.1712, -0.0120, -0.1607,\n",
       "                       -0.1917, -0.2894, -0.1586],\n",
       "                      [ 0.2515,  0.0085,  0.2562,  0.0633, -0.0850, -0.0410, -0.0273,  0.0670,\n",
       "                        0.0189, -0.1906, -0.0557],\n",
       "                      [-0.1621, -0.0536,  0.0810, -0.2265, -0.1212, -0.2540,  0.0922,  0.2748,\n",
       "                       -0.2543, -0.2913, -0.1247],\n",
       "                      [ 0.1256, -0.1711,  0.1126,  0.1058,  0.0704, -0.0496, -0.2086,  0.0268,\n",
       "                       -0.3001, -0.1837,  0.1268]])),\n",
       "             ('layer3.weight',\n",
       "              tensor([[-8.7672e-02, -1.6604e-01,  6.2751e-02,  2.3016e-01,  1.2080e-01,\n",
       "                       -2.2892e-01,  1.8491e-02,  1.5937e-01, -9.3920e-02,  2.2487e-01,\n",
       "                        9.1940e-02, -6.0035e-02, -2.3487e-01, -1.6145e-01, -2.0878e-01,\n",
       "                        1.9735e-01],\n",
       "                      [ 1.4277e-01, -7.7316e-02, -1.6249e-01, -2.1266e-02,  2.3867e-01,\n",
       "                        4.3166e-02, -1.4176e-01,  6.4969e-06, -1.5315e-01, -1.1190e-01,\n",
       "                        5.2222e-02, -2.1681e-01, -9.0976e-03, -5.3203e-02,  2.1705e-01,\n",
       "                        2.5323e-02],\n",
       "                      [ 1.3999e-01, -5.9141e-02,  2.2527e-01, -2.4161e-01,  2.9493e-02,\n",
       "                        2.1919e-01,  7.8233e-03, -2.1785e-01, -6.3541e-02,  1.5769e-01,\n",
       "                        2.2826e-01,  6.9067e-02, -2.4445e-02,  1.4542e-01, -1.5744e-01,\n",
       "                        9.6190e-02],\n",
       "                      [ 1.5812e-01, -6.6364e-02,  1.6265e-02, -3.4791e-02, -1.5692e-01,\n",
       "                       -2.3842e-01, -2.0678e-01, -2.4806e-01,  1.3737e-01, -1.8531e-02,\n",
       "                        4.0459e-02,  2.3050e-03, -1.6985e-01,  8.1866e-02, -1.0763e-01,\n",
       "                       -2.1704e-01],\n",
       "                      [-1.4249e-01, -7.5589e-02, -9.3615e-02, -2.7209e-02, -1.8466e-01,\n",
       "                       -1.7771e-01, -2.8489e-02,  1.6482e-01, -2.8607e-02, -2.4317e-01,\n",
       "                        1.0698e-01, -1.0375e-01, -1.7511e-01,  5.0795e-03,  1.2164e-01,\n",
       "                       -1.2048e-01],\n",
       "                      [-8.9678e-02, -1.8419e-01, -6.3308e-02, -2.4749e-01,  1.1815e-01,\n",
       "                       -3.8925e-02,  2.3051e-01,  2.2793e-01,  2.2097e-03, -1.2302e-01,\n",
       "                       -8.7658e-02,  1.2649e-01,  1.6887e-01,  1.0457e-01,  6.7304e-02,\n",
       "                        1.0586e-01],\n",
       "                      [-2.3329e-02,  9.9935e-02,  2.1527e-01, -1.1171e-01,  2.3146e-01,\n",
       "                       -1.9377e-01,  1.6462e-01,  1.7322e-01,  1.0405e-01, -9.1132e-02,\n",
       "                        1.0855e-01,  2.1208e-01, -2.4524e-03, -1.2103e-01, -2.2842e-01,\n",
       "                       -9.0293e-02],\n",
       "                      [ 2.0097e-01, -1.2617e-01,  3.2719e-02, -3.0874e-02, -8.8474e-02,\n",
       "                       -2.4751e-02, -1.4936e-01, -1.1023e-01, -8.3766e-02, -9.5653e-02,\n",
       "                        1.8397e-01, -5.9949e-02, -2.2900e-01,  5.1835e-02,  2.4314e-01,\n",
       "                       -1.0048e-01],\n",
       "                      [ 4.4377e-02, -2.1147e-01, -1.3681e-01, -1.2399e-01, -4.3947e-02,\n",
       "                       -2.1318e-02,  7.9914e-03,  4.6280e-02,  2.0306e-01, -2.3504e-01,\n",
       "                        1.7519e-02, -4.6967e-02,  6.3193e-02,  1.7480e-01, -1.8528e-01,\n",
       "                       -8.7871e-02],\n",
       "                      [ 4.6219e-02,  1.4669e-01, -2.3277e-01, -1.9478e-01,  1.8853e-01,\n",
       "                        1.8164e-01,  2.1535e-01,  7.1895e-02, -2.8736e-02,  4.5138e-03,\n",
       "                        1.8191e-03,  2.4965e-01,  5.3926e-02,  1.5235e-01, -1.0460e-01,\n",
       "                       -2.1863e-01],\n",
       "                      [ 4.4929e-02,  5.5917e-02,  1.4530e-01, -1.8774e-01, -1.9781e-01,\n",
       "                       -2.0305e-01,  1.3487e-02, -2.2157e-02,  4.4026e-02, -2.8743e-03,\n",
       "                        7.6181e-02,  3.2465e-02,  1.9444e-01, -3.6534e-02,  7.9435e-02,\n",
       "                       -1.8814e-01],\n",
       "                      [-2.7471e-03, -9.2053e-02, -3.3401e-02, -1.0434e-01,  1.7026e-01,\n",
       "                       -1.7668e-01,  2.3433e-01, -1.4381e-01,  2.2677e-01,  9.6963e-02,\n",
       "                       -1.8729e-01, -1.9162e-01, -1.8862e-01,  1.1230e-01,  2.2690e-01,\n",
       "                       -2.1655e-01],\n",
       "                      [ 5.3087e-02, -2.1348e-01,  5.6392e-02,  1.7156e-01,  9.3720e-02,\n",
       "                        2.2177e-01,  2.1172e-02,  5.3802e-02,  1.1690e-01, -4.2882e-02,\n",
       "                        2.2170e-01,  1.3858e-01,  1.7128e-01, -3.0485e-03,  1.1987e-01,\n",
       "                        2.4542e-01]])),\n",
       "             ('layer4.weight',\n",
       "              tensor([[-0.1324,  0.0670,  0.2464,  0.1290, -0.0484, -0.0152,  0.0409,  0.0423,\n",
       "                       -0.1139,  0.1330, -0.1130,  0.1045, -0.2371],\n",
       "                      [ 0.2087,  0.1943,  0.0787,  0.0904, -0.2623,  0.1052,  0.1992, -0.1852,\n",
       "                        0.1083,  0.1893,  0.0378, -0.2298, -0.1772],\n",
       "                      [ 0.1445, -0.2193,  0.1139, -0.0864,  0.0232, -0.2583, -0.2608, -0.0064,\n",
       "                       -0.0714,  0.2192, -0.2079,  0.0932, -0.0282],\n",
       "                      [-0.0483, -0.0035, -0.2043,  0.1991,  0.1595,  0.0076,  0.2052, -0.0944,\n",
       "                       -0.0910, -0.1459, -0.1000, -0.1354,  0.0979],\n",
       "                      [ 0.2702, -0.2323,  0.1045, -0.1788,  0.0979, -0.2136, -0.2469, -0.2404,\n",
       "                       -0.0887,  0.0574, -0.0966, -0.2196, -0.1134],\n",
       "                      [ 0.1017, -0.0395, -0.0549,  0.1633,  0.1612, -0.2060, -0.1622,  0.2187,\n",
       "                       -0.2739, -0.0507, -0.0108, -0.2376, -0.0965],\n",
       "                      [-0.1125, -0.1125, -0.2014, -0.2359,  0.0855,  0.0116,  0.1972,  0.0537,\n",
       "                       -0.0798, -0.2693,  0.1567,  0.2216,  0.0533],\n",
       "                      [-0.1467, -0.1184,  0.0214, -0.0605,  0.1741,  0.2554,  0.1238,  0.2205,\n",
       "                        0.2559, -0.1353,  0.0685, -0.2462,  0.2609]])),\n",
       "             ('layer5.weight',\n",
       "              tensor([[-0.0547, -0.0629,  0.1721, -0.1807,  0.2977, -0.3278,  0.0883, -0.0901],\n",
       "                      [ 0.1452,  0.0142, -0.3093, -0.0459, -0.0511,  0.2591,  0.1291,  0.2976],\n",
       "                      [-0.0472,  0.2234, -0.0626,  0.3380,  0.1812,  0.2176, -0.3511, -0.1702],\n",
       "                      [ 0.1120, -0.1421,  0.0638, -0.3187,  0.1586,  0.0083, -0.1152,  0.3199]]))])"
      ]
     },
     "execution_count": 4,
     "metadata": {},
     "output_type": "execute_result"
    }
   ],
   "source": [
    "model.state_dict()"
   ]
  },
  {
   "cell_type": "code",
   "execution_count": 5,
   "metadata": {},
   "outputs": [
    {
     "name": "stdout",
     "output_type": "stream",
     "text": [
      "=================================================================\n",
      "Layer (type:depth-idx)                   Param #\n",
      "=================================================================\n",
      "├─Linear: 1-1                            55\n",
      "├─Linear: 1-2                            176\n",
      "├─Linear: 1-3                            208\n",
      "├─Linear: 1-4                            104\n",
      "├─Linear: 1-5                            32\n",
      "=================================================================\n",
      "Total params: 575\n",
      "Trainable params: 575\n",
      "Non-trainable params: 0\n",
      "=================================================================\n"
     ]
    }
   ],
   "source": [
    "from torchsummary import summary\n",
    "\n",
    "_ = summary(model)"
   ]
  },
  {
   "cell_type": "markdown",
   "metadata": {},
   "source": [
    "## Point 3"
   ]
  },
  {
   "cell_type": "markdown",
   "metadata": {},
   "source": [
    "In the first layer we have $5 * 11 = 55$ parameters, in the second one $11 * 16 = 176$, in the third one $16 * 13 = 208$, in the fourth one $13 * 8 = 104$, and in the fifth one $8 * 4 = 32$, so in total we have $575$ parameters.\n",
    "\n",
    "If we include also the bias, then in the first layer we have $(5 + 1) * 11 = 66$ parameters, in the second one $(11 + 1) * 16 = 192$, in the third one $(16 + 1) * 13 = 221$, in the fourth one $(13 + 1) * 8 = 112$, and in the fifth one $(8 + 1) * 4 = 36$, so in total we have $627$ parameters."
   ]
  },
  {
   "cell_type": "markdown",
   "metadata": {},
   "source": [
    "## Point 4"
   ]
  },
  {
   "cell_type": "code",
   "execution_count": 6,
   "metadata": {},
   "outputs": [
    {
     "name": "stdout",
     "output_type": "stream",
     "text": [
      "Computation of the L1 norm of the parameters:\n",
      "Layer 1 has norm 2.7061924934387207\n",
      "Layer 2 has norm 3.1074023246765137\n",
      "Layer 3 has norm 2.067498207092285\n",
      "Layer 4 has norm 1.487830400466919\n",
      "Layer 5 has norm 0.8834104537963867\n"
     ]
    }
   ],
   "source": [
    "print('Computation of the L1 norm of the parameters:')\n",
    "for n, i in enumerate(model.state_dict().items()):\n",
    "    print(f'Layer {n+1} has norm {torch.linalg.norm(i[1], 1)}')"
   ]
  },
  {
   "cell_type": "code",
   "execution_count": 7,
   "metadata": {},
   "outputs": [
    {
     "name": "stdout",
     "output_type": "stream",
     "text": [
      "Computation of the L2 norm of the parameters:\n",
      "Layer 1 has norm 1.1267356872558594\n",
      "Layer 2 has norm 1.3487457036972046\n",
      "Layer 3 has norm 0.9211719036102295\n",
      "Layer 4 has norm 0.9701603055000305\n",
      "Layer 5 has norm 0.7465438842773438\n"
     ]
    }
   ],
   "source": [
    "print('Computation of the L2 norm of the parameters:')\n",
    "for n, i in enumerate(model.state_dict().items()):\n",
    "    print(f'Layer {n+1} has norm {torch.linalg.norm(i[1], 2)}')"
   ]
  }
 ],
 "metadata": {
  "kernelspec": {
   "display_name": "Python (DL virtualenv)",
   "language": "python",
   "name": "dssc_dl_2021"
  },
  "language_info": {
   "codemirror_mode": {
    "name": "ipython",
    "version": 3
   },
   "file_extension": ".py",
   "mimetype": "text/x-python",
   "name": "python",
   "nbconvert_exporter": "python",
   "pygments_lexer": "ipython3",
   "version": "3.6.9"
  }
 },
 "nbformat": 4,
 "nbformat_minor": 4
}
