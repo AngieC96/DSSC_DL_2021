{
  "nbformat": 4,
  "nbformat_minor": 0,
  "metadata": {
    "language_info": {
      "codemirror_mode": {
        "name": "ipython",
        "version": 3
      },
      "file_extension": ".py",
      "mimetype": "text/x-python",
      "name": "python",
      "nbconvert_exporter": "python",
      "pygments_lexer": "ipython3",
      "version": "3.6.9"
    },
    "orig_nbformat": 2,
    "kernelspec": {
      "name": "dssc_dl_2021",
      "display_name": "Python (DL virtualenv)",
      "language": "python"
    },
    "colab": {
      "name": "UNet.ipynb",
      "provenance": [],
      "collapsed_sections": []
    }
  },
  "cells": [
    {
      "cell_type": "markdown",
      "metadata": {
        "id": "Qz_UCFhFsDb5"
      },
      "source": [
        "# Homework 6\n",
        "\n",
        "Taking inspiration from the last 2 pictures within the notebook (07-convnets.ipynb), implement a U-Net-style CNN with the following specs:\n",
        " \n",
        "1. All convolutions must use a 3 x 3 kernel and **leave the spatial dimensions (i.e. height, width) of the input untouched**.\n",
        "2. Downsampling in the contracting part is performed via maxpooling with a 2 x 2 kernel and stride of 2.\n",
        "3. Upsampling is operated by a deconvolution with a 2 x 2 kernel and stride of 2. The PyTorch module that implements the deconvolution is `nn.ConvTranspose2d`\n",
        "4. The final layer of the expanding part has only 1 channel\n",
        "    * between how many classes are we discriminating?\n",
        " \n",
        "Create a network class with (at least) a `__init__` and a `forward` method. Please resort to additional structures (e.g., `nn.Module`s, private methods...) if you believe it helps readability of your code.\n",
        " \n",
        "Test, at least with random data, that the network is doing the correct tensor operations and that the output has the correct shape (e.g., use `assert`s in your code to see if the byproduct is of the expected shape).\n",
        " \n",
        "Note: the overall organization of your work can greatly improve readability and understanding of your code by others. Please consider preparing your notebook in an organized fashion so that we can better understand (and correct) your implementation."
      ]
    },
    {
      "cell_type": "markdown",
      "metadata": {
        "id": "jXFwCTxRsDcI"
      },
      "source": [
        "![](../labs/img/unet_small.png)\n",
        "\n",
        "#### U-Net [3](https://arxiv.org/abs/1505.04597)\n",
        "\n",
        "The architecture is a composition of two parts: a contracting module and an expanding module.\n",
        "\n",
        "The contracting module is a sequence of VGG convolutional blocks. \n",
        "\n",
        "After reaching the bottom part, we begin upsampling the image following the inverse of the scheme from the contracting module, with an additional operation: we concatenate the output of the upsampling with the output from the last convolutional layer of the corresponding block (as in the image). Thus, if the upsampling yields a 256-channel output, we concatenate this output with the output of the last 256-channel convolutional layer from the contracting module. This leaves us with a 512-channel tensor which we convolve to 256-channels once again. Note that, if the spatial dimensions of the data from the contracting module doesn't match those of the upsampled data, cropping is operated so that we can safely concatenate the two tensors.\n",
        "\n",
        "Actually, the original implementation of U-Net operates a semantic segmentation on a window which is approximately 2/3 of the original image (there will hence be a leftover band of pixels outside the center of the image). In the image below, the white thin lines represent the area that will be subject to the segmentation.\n",
        "\n",
        "![](../labs/img/unet_crop.jpg)\n",
        "\n",
        "For what concerns the output, instead, we end up with a tensor of shape $h^\\prime \\times w^\\prime \\times C$, where $C$ denotes the number of the classes we want to operate segmentation (logically speaking, **if we want to classify each pixel, we wish to produce a softmax for each pixel**).\n",
        "\n",
        "![](../labs/img/unet_last.jpg)"
      ]
    },
    {
      "cell_type": "code",
      "metadata": {
        "colab": {
          "base_uri": "https://localhost:8080/"
        },
        "id": "zQPYlD5is7NR",
        "outputId": "f36c0167-733b-463b-e0eb-061b6018311c"
      },
      "source": [
        "!pip install torch-summary"
      ],
      "execution_count": 1,
      "outputs": [
        {
          "output_type": "stream",
          "text": [
            "Requirement already satisfied: torch-summary in /usr/local/lib/python3.7/dist-packages (1.4.5)\n"
          ],
          "name": "stdout"
        }
      ]
    },
    {
      "cell_type": "code",
      "metadata": {
        "id": "JacvJ9oAsDcK"
      },
      "source": [
        "import torch\n",
        "from torch import nn\n",
        "import torchvision.transforms as T\n",
        "from torchsummary import summary\n",
        "\n",
        "import numpy as np\n",
        "import cv2 #opencv\n",
        "from matplotlib import pyplot as plt"
      ],
      "execution_count": 2,
      "outputs": []
    },
    {
      "cell_type": "code",
      "metadata": {
        "id": "PH81L-y2sDcN"
      },
      "source": [
        "class Contraction(nn.Module):\n",
        "    \n",
        "    def _build_vgg_block(self, in_channels, out_channels, kernel_size=3, stride=1, activation=nn.ReLU, maxpool=True):\n",
        "        layers = []\n",
        "        if maxpool:\n",
        "            layers.append(nn.MaxPool2d(kernel_size=2, stride=2))\n",
        "        layers.append(nn.Conv2d(in_channels, out_channels, kernel_size, stride))\n",
        "        layers.append(activation())\n",
        "        layers.append(nn.Conv2d(out_channels, out_channels, kernel_size, stride))\n",
        "        layers.append(activation())\n",
        "        return nn.Sequential(*layers)\n",
        "\n",
        "    def __init__(self, in_channels=1):\n",
        "        super().__init__()\n",
        "        self.block1 = self._build_vgg_block(in_channels=in_channels, out_channels=64, maxpool=False)\n",
        "        self.block2 = self._build_vgg_block(in_channels=64,  out_channels=128)\n",
        "        self.block3 = self._build_vgg_block(in_channels=128, out_channels=256)\n",
        "        self.block4 = self._build_vgg_block(in_channels=256, out_channels=512)\n",
        "        self.block5 = self._build_vgg_block(in_channels=512, out_channels=1024)\n",
        "\n",
        "    def forward(self, X):\n",
        "        copy1 = self.block1(X)\n",
        "        copy2 = self.block2(copy1)\n",
        "        copy3 = self.block3(copy2)\n",
        "        copy4 = self.block4(copy3)\n",
        "        out   = self.block5(copy4)\n",
        "        return [copy1, copy2, copy3, copy4, out]"
      ],
      "execution_count": 3,
      "outputs": []
    },
    {
      "cell_type": "code",
      "metadata": {
        "id": "gTMnYFUwsDcP"
      },
      "source": [
        "class Expansion(nn.Module):\n",
        "\n",
        "    def _build_block(self, in_channels, out_channels, kernel_size=3, stride=1, activation=nn.ReLU):\n",
        "        deconv = nn.ConvTranspose2d(in_channels=in_channels, out_channels=out_channels, kernel_size=2, stride=2)\n",
        "        seq = nn.Sequential(\n",
        "            nn.Conv2d(in_channels, out_channels, kernel_size, stride),\n",
        "            activation(),\n",
        "            nn.Conv2d(out_channels, out_channels, kernel_size, stride),\n",
        "            activation()\n",
        "        )\n",
        "        return seq, deconv\n",
        "\n",
        "    def __init__(self, in_channels=1024, bias=False):\n",
        "        super().__init__()\n",
        "        self.block1, self.deconv1 = self._build_block(in_channels=in_channels, out_channels=512)\n",
        "        self.block2, self.deconv2 = self._build_block(in_channels=512, out_channels=256)\n",
        "        self.block3, self.deconv3 = self._build_block(in_channels=256, out_channels=128)\n",
        "        self.block4, self.deconv4 = self._build_block(in_channels=128, out_channels=64)\n",
        "\n",
        "    def upsampling(self, out, copy):\n",
        "        # crop\n",
        "        cropped_copy = T.CenterCrop(size = out.shape[-1])(copy)\n",
        "        # concatenate\n",
        "        out = torch.cat([cropped_copy, out], dim=1)\n",
        "        return out\n",
        "\n",
        "    def forward(self, X, copy1, copy2, copy3, copy4):\n",
        "        out = self.deconv1(X)\n",
        "        out = self.block1(self.upsampling(out, copy4))\n",
        "        out = self.deconv2(out)\n",
        "        out = self.block2(self.upsampling(out, copy3))\n",
        "        out = self.deconv3(out)\n",
        "        out = self.block3(self.upsampling(out, copy2))\n",
        "        out = self.deconv4(out)\n",
        "        out = self.block4(self.upsampling(out, copy1))\n",
        "        return out"
      ],
      "execution_count": 4,
      "outputs": []
    },
    {
      "cell_type": "code",
      "metadata": {
        "id": "07hXNtLYsDcQ"
      },
      "source": [
        "class UNet(nn.Module):\n",
        "    def __init__(self, in_channels=1):\n",
        "        super().__init__()\n",
        "        self.contraction = Contraction(in_channels=in_channels)\n",
        "        self.expansion = Expansion(in_channels=1024)\n",
        "        self.final = nn.Conv2d(in_channels=64, out_channels=2, kernel_size=1)\n",
        "    \n",
        "    def forward(self, X):\n",
        "        # contracting module\n",
        "        [copy1, copy2, copy3, copy4, out] = self.contraction(X)\n",
        "        # expanding module\n",
        "        out = self.expansion(out, copy1, copy2, copy3, copy4)\n",
        "        # final layer\n",
        "        out = self.final(out)\n",
        "        return out"
      ],
      "execution_count": 5,
      "outputs": []
    },
    {
      "cell_type": "markdown",
      "metadata": {
        "id": "FPetU050sDcR"
      },
      "source": [
        "From the image of the UNet we see that we pass from one channel to 64, then to 128, then to 256, to 512 and finally to 1024."
      ]
    },
    {
      "cell_type": "code",
      "metadata": {
        "colab": {
          "base_uri": "https://localhost:8080/"
        },
        "id": "KOoQNBqasDcS",
        "outputId": "494c6f8c-05ab-4b20-ed75-8312930c914b"
      },
      "source": [
        "net = UNet(in_channels=1)\n",
        "_ = summary(net)"
      ],
      "execution_count": 6,
      "outputs": [
        {
          "output_type": "stream",
          "text": [
            "=================================================================\n",
            "Layer (type:depth-idx)                   Param #\n",
            "=================================================================\n",
            "├─Contraction: 1-1                       --\n",
            "|    └─Sequential: 2-1                   --\n",
            "|    |    └─Conv2d: 3-1                  640\n",
            "|    |    └─ReLU: 3-2                    --\n",
            "|    |    └─Conv2d: 3-3                  36,928\n",
            "|    |    └─ReLU: 3-4                    --\n",
            "|    └─Sequential: 2-2                   --\n",
            "|    |    └─MaxPool2d: 3-5               --\n",
            "|    |    └─Conv2d: 3-6                  73,856\n",
            "|    |    └─ReLU: 3-7                    --\n",
            "|    |    └─Conv2d: 3-8                  147,584\n",
            "|    |    └─ReLU: 3-9                    --\n",
            "|    └─Sequential: 2-3                   --\n",
            "|    |    └─MaxPool2d: 3-10              --\n",
            "|    |    └─Conv2d: 3-11                 295,168\n",
            "|    |    └─ReLU: 3-12                   --\n",
            "|    |    └─Conv2d: 3-13                 590,080\n",
            "|    |    └─ReLU: 3-14                   --\n",
            "|    └─Sequential: 2-4                   --\n",
            "|    |    └─MaxPool2d: 3-15              --\n",
            "|    |    └─Conv2d: 3-16                 1,180,160\n",
            "|    |    └─ReLU: 3-17                   --\n",
            "|    |    └─Conv2d: 3-18                 2,359,808\n",
            "|    |    └─ReLU: 3-19                   --\n",
            "|    └─Sequential: 2-5                   --\n",
            "|    |    └─MaxPool2d: 3-20              --\n",
            "|    |    └─Conv2d: 3-21                 4,719,616\n",
            "|    |    └─ReLU: 3-22                   --\n",
            "|    |    └─Conv2d: 3-23                 9,438,208\n",
            "|    |    └─ReLU: 3-24                   --\n",
            "├─Expansion: 1-2                         --\n",
            "|    └─Sequential: 2-6                   --\n",
            "|    |    └─Conv2d: 3-25                 4,719,104\n",
            "|    |    └─ReLU: 3-26                   --\n",
            "|    |    └─Conv2d: 3-27                 2,359,808\n",
            "|    |    └─ReLU: 3-28                   --\n",
            "|    └─ConvTranspose2d: 2-7              2,097,664\n",
            "|    └─Sequential: 2-8                   --\n",
            "|    |    └─Conv2d: 3-29                 1,179,904\n",
            "|    |    └─ReLU: 3-30                   --\n",
            "|    |    └─Conv2d: 3-31                 590,080\n",
            "|    |    └─ReLU: 3-32                   --\n",
            "|    └─ConvTranspose2d: 2-9              524,544\n",
            "|    └─Sequential: 2-10                  --\n",
            "|    |    └─Conv2d: 3-33                 295,040\n",
            "|    |    └─ReLU: 3-34                   --\n",
            "|    |    └─Conv2d: 3-35                 147,584\n",
            "|    |    └─ReLU: 3-36                   --\n",
            "|    └─ConvTranspose2d: 2-11             131,200\n",
            "|    └─Sequential: 2-12                  --\n",
            "|    |    └─Conv2d: 3-37                 73,792\n",
            "|    |    └─ReLU: 3-38                   --\n",
            "|    |    └─Conv2d: 3-39                 36,928\n",
            "|    |    └─ReLU: 3-40                   --\n",
            "|    └─ConvTranspose2d: 2-13             32,832\n",
            "├─Conv2d: 1-3                            65\n",
            "=================================================================\n",
            "Total params: 31,030,593\n",
            "Trainable params: 31,030,593\n",
            "Non-trainable params: 0\n",
            "=================================================================\n"
          ],
          "name": "stdout"
        }
      ]
    },
    {
      "cell_type": "markdown",
      "metadata": {
        "id": "OFoIrg9tsDcT"
      },
      "source": [
        "Test if the net works on random data"
      ]
    },
    {
      "cell_type": "code",
      "metadata": {
        "id": "nEH-zEKpsDcU"
      },
      "source": [
        "def implot(img):\n",
        "    plt.imshow(cv2.cvtColor(img, cv2.COLOR_BGR2RGB))"
      ],
      "execution_count": 7,
      "outputs": []
    },
    {
      "cell_type": "code",
      "metadata": {
        "colab": {
          "base_uri": "https://localhost:8080/",
          "height": 269
        },
        "id": "jtjWLAK9sDcV",
        "outputId": "947664aa-ee39-484a-8f69-eb2069b53730"
      },
      "source": [
        "X = np.zeros((572, 572, 1), dtype=\"uint8\")\n",
        "implot(X)\n",
        "X = torch.tensor(X)"
      ],
      "execution_count": 8,
      "outputs": [
        {
          "output_type": "display_data",
          "data": {
            "image/png": "[encoded data removed]",
            "text/plain": [
              "<Figure size 432x288 with 1 Axes>"
            ]
          },
          "metadata": {
            "tags": [],
            "needs_background": "light"
          }
        }
      ]
    },
    {
      "cell_type": "code",
      "metadata": {
        "id": "uJL1pYKLsDca"
      },
      "source": [
        "X = torch.rand((1,1,572,572))"
      ],
      "execution_count": 9,
      "outputs": []
    },
    {
      "cell_type": "code",
      "metadata": {
        "colab": {
          "base_uri": "https://localhost:8080/"
        },
        "id": "AROtaiGGsDca",
        "outputId": "462dfef6-9fae-4866-9f89-97a54c0df7c4"
      },
      "source": [
        "y = net(X)\n",
        "# print(y)\n",
        "print(y.shape)"
      ],
      "execution_count": 10,
      "outputs": [
        {
          "output_type": "stream",
          "text": [
            "torch.Size([1, 1, 388, 388])\n"
          ],
          "name": "stdout"
        }
      ]
    },
    {
      "cell_type": "code",
      "metadata": {
        "colab": {
          "base_uri": "https://localhost:8080/"
        },
        "id": "7KRgN68-sDcc",
        "outputId": "47e741c2-4e45-4b15-b26c-4129e675f9eb"
      },
      "source": [
        "print(net)\n",
        "# equal to\n",
        "# UNet()"
      ],
      "execution_count": 11,
      "outputs": [
        {
          "output_type": "stream",
          "text": [
            "UNet(\n",
            "  (contraction): Contraction(\n",
            "    (block1): Sequential(\n",
            "      (0): Conv2d(1, 64, kernel_size=(3, 3), stride=(1, 1))\n",
            "      (1): ReLU()\n",
            "      (2): Conv2d(64, 64, kernel_size=(3, 3), stride=(1, 1))\n",
            "      (3): ReLU()\n",
            "    )\n",
            "    (block2): Sequential(\n",
            "      (0): MaxPool2d(kernel_size=2, stride=2, padding=0, dilation=1, ceil_mode=False)\n",
            "      (1): Conv2d(64, 128, kernel_size=(3, 3), stride=(1, 1))\n",
            "      (2): ReLU()\n",
            "      (3): Conv2d(128, 128, kernel_size=(3, 3), stride=(1, 1))\n",
            "      (4): ReLU()\n",
            "    )\n",
            "    (block3): Sequential(\n",
            "      (0): MaxPool2d(kernel_size=2, stride=2, padding=0, dilation=1, ceil_mode=False)\n",
            "      (1): Conv2d(128, 256, kernel_size=(3, 3), stride=(1, 1))\n",
            "      (2): ReLU()\n",
            "      (3): Conv2d(256, 256, kernel_size=(3, 3), stride=(1, 1))\n",
            "      (4): ReLU()\n",
            "    )\n",
            "    (block4): Sequential(\n",
            "      (0): MaxPool2d(kernel_size=2, stride=2, padding=0, dilation=1, ceil_mode=False)\n",
            "      (1): Conv2d(256, 512, kernel_size=(3, 3), stride=(1, 1))\n",
            "      (2): ReLU()\n",
            "      (3): Conv2d(512, 512, kernel_size=(3, 3), stride=(1, 1))\n",
            "      (4): ReLU()\n",
            "    )\n",
            "    (block5): Sequential(\n",
            "      (0): MaxPool2d(kernel_size=2, stride=2, padding=0, dilation=1, ceil_mode=False)\n",
            "      (1): Conv2d(512, 1024, kernel_size=(3, 3), stride=(1, 1))\n",
            "      (2): ReLU()\n",
            "      (3): Conv2d(1024, 1024, kernel_size=(3, 3), stride=(1, 1))\n",
            "      (4): ReLU()\n",
            "    )\n",
            "  )\n",
            "  (expansion): Expansion(\n",
            "    (block1): Sequential(\n",
            "      (0): Conv2d(1024, 512, kernel_size=(3, 3), stride=(1, 1))\n",
            "      (1): ReLU()\n",
            "      (2): Conv2d(512, 512, kernel_size=(3, 3), stride=(1, 1))\n",
            "      (3): ReLU()\n",
            "    )\n",
            "    (deconv1): ConvTranspose2d(1024, 512, kernel_size=(2, 2), stride=(2, 2))\n",
            "    (block2): Sequential(\n",
            "      (0): Conv2d(512, 256, kernel_size=(3, 3), stride=(1, 1))\n",
            "      (1): ReLU()\n",
            "      (2): Conv2d(256, 256, kernel_size=(3, 3), stride=(1, 1))\n",
            "      (3): ReLU()\n",
            "    )\n",
            "    (deconv2): ConvTranspose2d(512, 256, kernel_size=(2, 2), stride=(2, 2))\n",
            "    (block3): Sequential(\n",
            "      (0): Conv2d(256, 128, kernel_size=(3, 3), stride=(1, 1))\n",
            "      (1): ReLU()\n",
            "      (2): Conv2d(128, 128, kernel_size=(3, 3), stride=(1, 1))\n",
            "      (3): ReLU()\n",
            "    )\n",
            "    (deconv3): ConvTranspose2d(256, 128, kernel_size=(2, 2), stride=(2, 2))\n",
            "    (block4): Sequential(\n",
            "      (0): Conv2d(128, 64, kernel_size=(3, 3), stride=(1, 1))\n",
            "      (1): ReLU()\n",
            "      (2): Conv2d(64, 64, kernel_size=(3, 3), stride=(1, 1))\n",
            "      (3): ReLU()\n",
            "    )\n",
            "    (deconv4): ConvTranspose2d(128, 64, kernel_size=(2, 2), stride=(2, 2))\n",
            "  )\n",
            "  (final): Conv2d(64, 1, kernel_size=(1, 1), stride=(1, 1))\n",
            ")\n"
          ],
          "name": "stdout"
        }
      ]
    },
    {
      "cell_type": "code",
      "metadata": {
        "colab": {
          "base_uri": "https://localhost:8080/"
        },
        "id": "CuDZSxPpsDcd",
        "outputId": "c03a7481-1580-4218-b452-28b17514ff62"
      },
      "source": [
        "z = X\n",
        "print(\"in\", z.shape)\n",
        "\n",
        "print(\"\\nContracting module\")\n",
        "contraction_layer = [net.contraction.block1, net.contraction.block2, net.contraction.block3, net.contraction.block4, net.contraction.block5]\n",
        "copy = []\n",
        "for i, block in enumerate(contraction_layer):\n",
        "    for j, mod in enumerate(block):\n",
        "        z = mod(z)\n",
        "        if isinstance(mod, nn.Conv2d):\n",
        "         print(f\"block{i+1} {j} {z.shape}\")\n",
        "    copy.append(z)\n",
        "\n",
        "print(\"\\nExpanding module\")\n",
        "expansion_blocks = [net.expansion.block1, net.expansion.block2, net.expansion.block3, net.expansion.block4]\n",
        "expansion_deconvs = [net.expansion.deconv1, net.expansion.deconv2, net.expansion.deconv3, net.expansion.deconv4]\n",
        "\n",
        "for i in range(4):\n",
        "    z = expansion_deconvs[i](z)\n",
        "    print(f\"deconv{i+1} {z.shape}\")\n",
        "    z = net.expansion.upsampling(z, copy[4-i-1])\n",
        "    for j, mod in enumerate(expansion_blocks[i]):\n",
        "        z = mod(z)\n",
        "        if isinstance(mod, nn.Conv2d):\n",
        "          print(f\"block{i+1} {j} {z.shape}\")\n",
        "\n",
        "z = net.final(z)\n",
        "print(\"final\", z.shape)"
      ],
      "execution_count": 15,
      "outputs": [
        {
          "output_type": "stream",
          "text": [
            "in torch.Size([1, 1, 572, 572])\n",
            "\n",
            "Contracting module\n",
            "block1 0 torch.Size([1, 64, 570, 570])\n",
            "block1 2 torch.Size([1, 64, 568, 568])\n",
            "block2 1 torch.Size([1, 128, 282, 282])\n",
            "block2 3 torch.Size([1, 128, 280, 280])\n",
            "block3 1 torch.Size([1, 256, 138, 138])\n",
            "block3 3 torch.Size([1, 256, 136, 136])\n",
            "block4 1 torch.Size([1, 512, 66, 66])\n",
            "block4 3 torch.Size([1, 512, 64, 64])\n",
            "block5 1 torch.Size([1, 1024, 30, 30])\n",
            "block5 3 torch.Size([1, 1024, 28, 28])\n",
            "\n",
            "Expanding module\n",
            "deconv1 torch.Size([1, 512, 56, 56])\n",
            "block1 0 torch.Size([1, 512, 54, 54])\n",
            "block1 2 torch.Size([1, 512, 52, 52])\n",
            "deconv2 torch.Size([1, 256, 104, 104])\n",
            "block2 0 torch.Size([1, 256, 102, 102])\n",
            "block2 2 torch.Size([1, 256, 100, 100])\n",
            "deconv3 torch.Size([1, 128, 200, 200])\n",
            "block3 0 torch.Size([1, 128, 198, 198])\n",
            "block3 2 torch.Size([1, 128, 196, 196])\n",
            "deconv4 torch.Size([1, 64, 392, 392])\n",
            "block4 0 torch.Size([1, 64, 390, 390])\n",
            "block4 2 torch.Size([1, 64, 388, 388])\n",
            "final torch.Size([1, 1, 388, 388])\n"
          ],
          "name": "stdout"
        }
      ]
    },
    {
      "cell_type": "markdown",
      "metadata": {
        "id": "npCIOUQHsDce"
      },
      "source": [
        "### References\n",
        "\n",
        "[1](https://arxiv.org/abs/1603.07285) Dumoulin, Vincent, and Francesco Visin. \"A guide to convolution arithmetic for deep learning.\"\n",
        "\n",
        "[2](https://openaccess.thecvf.com/content_cvpr_2016/html/He_Deep_Residual_Learning_CVPR_2016_paper.html) He, Kaiming, et al. \"Deep residual learning for image recognition.\" Proceedings of the IEEE conference on computer vision and pattern recognition\n",
        "\n",
        "[3](https://arxiv.org/abs/1505.04597) Ronneberger, Olaf, Philipp Fischer, and Thomas Brox. \"U-net: Convolutional networks for biomedical image segmentation.\" International Conference on Medical image computing and computer-assisted intervention.\n",
        "\n",
        "[4](https://arxiv.org/abs/1605.07146) Zagoruyko, Sergey, and Nikos Komodakis. \"Wide residual networks.\"\n",
        "\n",
        "[5](https://arxiv.org/abs/1409.1556v6) Simonyan and Zisserman. \"Very Deep Convolutional Networks for Large-Scale Image Recognition.\""
      ]
    }
  ]
}